{
 "cells": [
  {
   "cell_type": "markdown",
   "id": "4fe54735-1c2f-4ab6-a8e0-19e743a135a3",
   "metadata": {},
   "source": [
    "<center><a href=\"https://www.rbc.com/\" ><img src=\"https://golden-storage-production.s3.amazonaws.com/topic_images/71c114ebf3b14f51846444bd69926a3f.png\" alt=\"RBC Logo\" /></a></center>\n"
   ]
  },
  {
   "cell_type": "markdown",
   "id": "4cbeca1d-5190-4346-8599-9222dac6b4c1",
   "metadata": {},
   "source": [
    "# LLM Fine Tuning - \"Queue - Assistance\""
   ]
  },
  {
   "cell_type": "code",
   "execution_count": 132,
   "id": "e8bf48bc-900e-467b-8504-8c5cc04899a4",
   "metadata": {},
   "outputs": [],
   "source": [
    "from DataPrep.fine_tuning_data_prep_analysis import complete_data_prep_analysis\n",
    "from dotenv import load_dotenv\n",
    "import os\n",
    "import json\n",
    "import openai\n",
    "import os\n",
    "from pprint import pprint\n",
    "from serpapi import GoogleSearch\n"
   ]
  },
  {
   "cell_type": "code",
   "execution_count": 30,
   "id": "a29a5c43",
   "metadata": {},
   "outputs": [
    {
     "name": "stdout",
     "output_type": "stream",
     "text": [
      "^C\n"
     ]
    }
   ],
   "source": [
    "# make sure to use the latest version of the openai python package"
   ]
  },
  {
   "cell_type": "code",
   "execution_count": 2,
   "id": "5f0a1a11",
   "metadata": {},
   "outputs": [],
   "source": [
    "# Get all the API's Setup\n",
    "# Reference code - https://cookbook.openai.com/examples/how_to_finetune_chat_models\n",
    "\n",
    "load_dotenv()\n",
    "openai_api_key = os.getenv(\"OPENAI_API_KEY\")\n",
    "serp_api_secret = os.getenv(\"SERP_API_KEY\")\n"
   ]
  },
  {
   "cell_type": "code",
   "execution_count": 6,
   "id": "1abbaa06",
   "metadata": {},
   "outputs": [],
   "source": [
    "import os\n",
    "from openai import OpenAI\n",
    "\n",
    "client = openai.OpenAI(api_key=os.environ.get(\"OPENAI_API_KEY\", openai_api_key))\n"
   ]
  },
  {
   "cell_type": "markdown",
   "id": "fa1f7f4e-08d1-4a74-a9ee-388879a08b26",
   "metadata": {},
   "source": [
    "### Training & Validation dataset"
   ]
  },
  {
   "cell_type": "code",
   "execution_count": 8,
   "id": "52d00307-5845-4e51-add7-c31f5bfe8858",
   "metadata": {},
   "outputs": [
    {
     "name": "stdout",
     "output_type": "stream",
     "text": [
      "-------Training Data Prep Analysis-------\n",
      "Num examples: 28\n",
      "First example:\n",
      "{'role': 'system', 'content': \"You will be provided queries from 'Direct Investing' customer service department at RBC. Classify each query to the right queue category.\\nProvide your output in a bullet point format with only one: Queue Category\\nQueue Categories are:\\n--Queue 1: Account Management\\n--Queue 2: Fund Transfer\\n--Queue 3: External Transfers\\n--Queue 4: Trading and Withdrawals\"}\n",
      "{'role': 'user', 'content': \"I've forgotten my username for RBC Direct Investing. How can I retrieve it?\"}\n",
      "{'role': 'assistant', 'content': 'Queue 1: Account Management'}\n",
      "No errors found\n",
      "Num examples missing system message: 0\n",
      "Num examples missing user message: 0\n",
      "\n",
      "#### Distribution of num_messages_per_example:\n",
      "min / max: 3, 3\n",
      "mean / median: 3.0, 3.0\n",
      "p5 / p95: 3.0, 3.0\n",
      "\n",
      "#### Distribution of num_total_tokens_per_example:\n",
      "min / max: 113, 125\n",
      "mean / median: 117.75, 118.0\n",
      "p5 / p95: 114.0, 121.3\n",
      "\n",
      "#### Distribution of num_assistant_tokens_per_example:\n",
      "min / max: 6, 8\n",
      "mean / median: 6.75, 6.5\n",
      "p5 / p95: 6.0, 8.0\n",
      "\n",
      "0 examples may be over the 4096 token limit, they will be truncated during fine-tuning\n",
      "Dataset has ~3297 tokens that will be charged for during training\n",
      "By default, you'll train for 3 epochs on this dataset\n",
      "By default, you'll be charged for ~9891 tokens\n"
     ]
    }
   ],
   "source": [
    "training_file_name = './queue/training.jsonl'\n",
    "validation_file_name = './queue/validation.jsonl'\n",
    "\n",
    "# Perform data prep and analysis - Token Counts, and file validation\n",
    "print(\"-------Training Data Prep Analysis-------\")\n",
    "complete_data_prep_analysis(training_file_name)\n"
   ]
  },
  {
   "cell_type": "code",
   "execution_count": 9,
   "id": "f206bbd3",
   "metadata": {},
   "outputs": [
    {
     "name": "stdout",
     "output_type": "stream",
     "text": [
      "-------Validation Data Prep Analysis-------\n",
      "Num examples: 12\n",
      "First example:\n",
      "{'role': 'system', 'content': \"You will be provided queries from 'Direct Investing' customer service department at RBC. Classify each query to the right queue category.\\nProvide your output in a bullet point format with only one: Queue Category\\nQueue Categories are:\\n--Queue 1: Account Management\\n--Queue 2: Fund Transfer\\n--Queue 3: External Transfers\\n--Queue 4: Trading and Withdrawals\"}\n",
      "{'role': 'user', 'content': 'How do I update my email address on my RBC Direct Investing account?'}\n",
      "{'role': 'assistant', 'content': 'Queue 1: Account Management'}\n",
      "No errors found\n",
      "Num examples missing system message: 0\n",
      "Num examples missing user message: 0\n",
      "\n",
      "#### Distribution of num_messages_per_example:\n",
      "min / max: 3, 3\n",
      "mean / median: 3.0, 3.0\n",
      "p5 / p95: 3.0, 3.0\n",
      "\n",
      "#### Distribution of num_total_tokens_per_example:\n",
      "min / max: 114, 124\n",
      "mean / median: 118.75, 118.5\n",
      "p5 / p95: 114.2, 123.0\n",
      "\n",
      "#### Distribution of num_assistant_tokens_per_example:\n",
      "min / max: 6, 8\n",
      "mean / median: 6.75, 6.5\n",
      "p5 / p95: 6.0, 8.0\n",
      "\n",
      "0 examples may be over the 4096 token limit, they will be truncated during fine-tuning\n",
      "Dataset has ~1425 tokens that will be charged for during training\n",
      "By default, you'll train for 8 epochs on this dataset\n",
      "By default, you'll be charged for ~11400 tokens\n"
     ]
    }
   ],
   "source": [
    "print(\"-------Validation Data Prep Analysis-------\")\n",
    "complete_data_prep_analysis(validation_file_name)"
   ]
  },
  {
   "cell_type": "markdown",
   "id": "40bdda44",
   "metadata": {},
   "source": [
    "#### Upload Files"
   ]
  },
  {
   "cell_type": "code",
   "execution_count": 9,
   "id": "d529c7b4",
   "metadata": {},
   "outputs": [
    {
     "name": "stdout",
     "output_type": "stream",
     "text": [
      "Training file ID: file-vlCuB0JaCNPNBiJrsAcKKE7P\n",
      "Validation file ID: file-vdvAGKV5odg3r4HSOJRTAOvy\n"
     ]
    }
   ],
   "source": [
    "# Upload the training and validation dataset files to Azure OpenAI with the SDK.\n",
    "\n",
    "with open(training_file_name, \"rb\") as training_fd:\n",
    "    training_response = client.files.create(\n",
    "        file=training_fd, purpose=\"fine-tune\"\n",
    "    )\n",
    "\n",
    "training_file_id = training_response.id\n",
    "\n",
    "with open(validation_file_name, \"rb\") as validation_fd:\n",
    "    validation_response = client.files.create(\n",
    "        file=validation_fd, purpose=\"fine-tune\"\n",
    "    )\n",
    "validation_file_id = validation_response.id\n",
    "\n",
    "print(\"Training file ID:\", training_file_id)\n",
    "print(\"Validation file ID:\", validation_file_id)"
   ]
  },
  {
   "cell_type": "code",
   "execution_count": 13,
   "id": "2bf94593",
   "metadata": {},
   "outputs": [],
   "source": [
    "### Adjust hyperparameters as needed\n",
    "'''   client.fine_tuning.jobs.create(\n",
    "  training_file=\"file-abc123\", \n",
    "  model=\"gpt-35-turbo-0613\", # Enter base model name. Note that in Azure OpenAI the model name contains dashes and cannot contain dot/period characters. \n",
    "  hyperparameters={\n",
    "    \"n_epochs\":2,\n",
    "    \"learning_rate_multiplier\": 2 ,\n",
    "    \"batch_size\": 1,\n",
    "  }\n",
    ")   '''"
   ]
  },
  {
   "cell_type": "markdown",
   "id": "8effe23c",
   "metadata": {},
   "source": [
    "##### Fine Tuning"
   ]
  },
  {
   "cell_type": "code",
   "execution_count": 11,
   "id": "00c1cb73",
   "metadata": {},
   "outputs": [
    {
     "name": "stdout",
     "output_type": "stream",
     "text": [
      "Job ID: ftjob-a94UB9FZ9B0jHW0cEenehRem\n",
      "Status: validating_files\n"
     ]
    }
   ],
   "source": [
    "response = client.fine_tuning.jobs.create(\n",
    "    training_file=training_file_id,\n",
    "    validation_file=validation_file_id,\n",
    "    model=\"gpt-3.5-turbo-0125\",\n",
    "    suffix=\"queue-assist\",\n",
    ")\n",
    "\n",
    "job_id = response.id\n",
    "\n",
    "print(\"Job ID:\", response.id)\n",
    "print(\"Status:\", response.status)"
   ]
  },
  {
   "cell_type": "code",
   "execution_count": 16,
   "id": "493ffbd1",
   "metadata": {},
   "outputs": [
    {
     "name": "stdout",
     "output_type": "stream",
     "text": [
      "Job ID: ftjob-a94UB9FZ9B0jHW0cEenehRem\n",
      "Status: succeeded\n",
      "Trained Tokens: 9723\n"
     ]
    }
   ],
   "source": [
    "response = client.fine_tuning.jobs.retrieve(job_id)\n",
    "\n",
    "print(\"Job ID:\", response.id)\n",
    "print(\"Status:\", response.status)\n",
    "print(\"Trained Tokens:\", response.trained_tokens)\n"
   ]
  },
  {
   "cell_type": "code",
   "execution_count": 17,
   "id": "9842cfc8",
   "metadata": {},
   "outputs": [
    {
     "name": "stdout",
     "output_type": "stream",
     "text": [
      "Step 69/84: training loss=0.00, validation loss=0.00\n",
      "Step 70/84: training loss=0.00, validation loss=0.00\n",
      "Step 71/84: training loss=0.00, validation loss=0.00\n",
      "Step 72/84: training loss=0.00, validation loss=0.00\n",
      "Step 73/84: training loss=0.00, validation loss=0.00\n",
      "Step 74/84: training loss=0.00, validation loss=0.00\n",
      "Step 75/84: training loss=0.00, validation loss=0.00\n",
      "Step 76/84: training loss=0.00, validation loss=0.00\n",
      "Step 77/84: training loss=0.00, validation loss=0.00\n",
      "Step 78/84: training loss=0.00, validation loss=0.00\n",
      "Step 79/84: training loss=0.00, validation loss=0.00\n",
      "Step 80/84: training loss=0.00, validation loss=0.00\n",
      "Step 81/84: training loss=0.00, validation loss=0.00\n",
      "Step 82/84: training loss=0.00, validation loss=0.00\n",
      "Step 83/84: training loss=0.00, validation loss=0.00\n",
      "Step 84/84: training loss=0.00, validation loss=0.00, full validation loss=0.00\n",
      "Checkpoint created at step 28 with Snapshot ID: ft:gpt-3.5-turbo-0125:personal:queue-assist:9G69Yuvf:ckpt-step-28\n",
      "Checkpoint created at step 56 with Snapshot ID: ft:gpt-3.5-turbo-0125:personal:queue-assist:9G69YRLi:ckpt-step-56\n",
      "New fine-tuned model created: ft:gpt-3.5-turbo-0125:personal:queue-assist:9G69YEnl\n",
      "The job has successfully completed\n"
     ]
    }
   ],
   "source": [
    "response = client.fine_tuning.jobs.list_events(job_id)\n",
    "\n",
    "events = response.data\n",
    "events.reverse()\n",
    "\n",
    "for event in events:\n",
    "    print(event.message)"
   ]
  },
  {
   "cell_type": "code",
   "execution_count": 185,
   "id": "cf1b2f10",
   "metadata": {},
   "outputs": [
    {
     "name": "stdout",
     "output_type": "stream",
     "text": [
      "Fine-tuned model ID: ft:gpt-3.5-turbo-0125:personal:di-txn-assist:9GCDhNRR\n"
     ]
    }
   ],
   "source": [
    "response = client.fine_tuning.jobs.retrieve(job_id)\n",
    "fine_tuned_model_id = response.fine_tuned_model\n",
    "\n",
    "if fine_tuned_model_id is None: \n",
    "    raise RuntimeError(\"Fine-tuned model ID not found. Your job has likely not been completed yet.\")\n",
    "\n",
    "print(\"Fine-tuned model ID:\", fine_tuned_model_id)"
   ]
  },
  {
   "cell_type": "code",
   "execution_count": 186,
   "id": "42472035",
   "metadata": {},
   "outputs": [
    {
     "name": "stdout",
     "output_type": "stream",
     "text": [
      "[{'content': \"You will be provided queries from 'Direct Investing' customer \"\n",
      "             'service department at RBC. Classify each query to the right '\n",
      "             'queue category.\\n'\n",
      "             'Provide your output in a bullet point format with only one: '\n",
      "             'Queue Category\\n'\n",
      "             'Queue Categories are:\\n'\n",
      "             '--Queue 1: Account Management\\n'\n",
      "             '--Queue 2: Fund Transfer\\n'\n",
      "             '--Queue 3: External Transfers\\n'\n",
      "             '--Queue 4: Trading and Withdrawals',\n",
      "  'role': 'system'},\n",
      " {'content': 'What should I do if I suspect unauthorized access to my RBC '\n",
      "             'Direct Investing account?',\n",
      "  'role': 'user'}]\n"
     ]
    }
   ],
   "source": [
    "system_message = \"You will be provided queries from 'Direct Investing' customer service department at RBC. Classify each query to the right queue category.\\nProvide your output in a bullet point format with only one: Queue Category\\nQueue Categories are:\\n--Queue 1: Account Management\\n--Queue 2: Fund Transfer\\n--Queue 3: External Transfers\\n--Queue 4: Trading and Withdrawals\"\n",
    "test_messages = []\n",
    "test_messages.append({\"role\": \"system\", \"content\": system_message})\n",
    "user_message = \"What should I do if I suspect unauthorized access to my RBC Direct Investing account?\"\n",
    "test_messages.append({\"role\": \"user\", \"content\": user_message})\n",
    "\n",
    "pprint(test_messages)"
   ]
  },
  {
   "cell_type": "code",
   "execution_count": 187,
   "id": "306bf1a6",
   "metadata": {},
   "outputs": [
    {
     "name": "stdout",
     "output_type": "stream",
     "text": [
      "Queue 1: Account Management\n"
     ]
    }
   ],
   "source": [
    "response = client.chat.completions.create(\n",
    "    model=fine_tuned_model_id, messages=test_messages, temperature=0, max_tokens=50\n",
    ")\n",
    "print(response.choices[0].message.content)"
   ]
  },
  {
   "cell_type": "markdown",
   "id": "868a8bca",
   "metadata": {},
   "source": [
    "# LLM Fine Tuning - \"QnA Direct Investing Assistance\""
   ]
  },
  {
   "cell_type": "markdown",
   "id": "1e9e76f1",
   "metadata": {},
   "source": [
    "#### Transfer learning within Queue Assistance Fine Tune LLM Model"
   ]
  },
  {
   "cell_type": "code",
   "execution_count": 89,
   "id": "23e245ed",
   "metadata": {},
   "outputs": [
    {
     "name": "stdout",
     "output_type": "stream",
     "text": [
      "-------Training Data Prep Analysis-------\n",
      "Num examples: 10\n",
      "First example:\n",
      "{'role': 'system', 'content': \"You will be provided queries from customer service department. Your task is to answer the question using only the provided steps with reference at the end. If the document does not contain the information needed to answer this question then write: 'Insufficient information, please contact RBC Direct Investing customer service representative at 1-800-769-2560.' Reference link should be in the format: [Title](URL)\\nNOTE: KEEP THE URL SAME AS GIVEN IN EACH QUESTION END}\"}\n",
      "{'role': 'user', 'content': 'How do I update my address with RBC Direct Investing?'}\n",
      "{'role': 'assistant', 'content': \"To update your address with RBC Direct Investing, follow these steps:\\n1. Log in to your RBC Direct Investing account.\\n2. Navigate to the 'Update Profile' section.\\n3. Select 'Change your Account Profile' and complete the form with your new address details.\\n4. Click 'Continue' to submit the request.\\n5. Note: Ensure to provide your civic address as PO boxes are not accepted.\\n6. Your address will be updated within 24-48 business hours.\\n7. If your street/civic address is different from your mailing address or you are unable to update your address online, please call one of our investment services representatives at 1 800 769-2560.\\n8. To change your address with RBC Royal Bank, submit a separate request through Online Banking. Changes will be reflected with RBC Royal Bank right away.\\nReference: [RBC Direct Investing - Update Address](https://www.rbcroyalbank.com/onlinebanking/bankingusertips/investments/adirect/address.html)\"}\n",
      "No errors found\n",
      "Num examples missing system message: 0\n",
      "Num examples missing user message: 0\n",
      "\n",
      "#### Distribution of num_messages_per_example:\n",
      "min / max: 3, 3\n",
      "mean / median: 3.0, 3.0\n",
      "p5 / p95: 3.0, 3.0\n",
      "\n",
      "#### Distribution of num_total_tokens_per_example:\n",
      "min / max: 254, 501\n",
      "mean / median: 333.3, 321.5\n",
      "p5 / p95: 263.0, 392.09999999999997\n",
      "\n",
      "#### Distribution of num_assistant_tokens_per_example:\n",
      "min / max: 130, 380\n",
      "mean / median: 212.2, 198.0\n",
      "p5 / p95: 142.6, 269.29999999999995\n",
      "\n",
      "0 examples may be over the 4096 token limit, they will be truncated during fine-tuning\n",
      "Dataset has ~3333 tokens that will be charged for during training\n",
      "By default, you'll train for 10 epochs on this dataset\n",
      "By default, you'll be charged for ~33330 tokens\n"
     ]
    }
   ],
   "source": [
    "training_file_name = './DI_QnA_Assistance/training_DI_QnA.jsonl'\n",
    "validation_file_name = './DI_QnA_Assistance/validation_DI_QnA.jsonl'\n",
    "\n",
    "# Perform data prep and analysis - Token Counts, and file validation\n",
    "print(\"-------Training Data Prep Analysis-------\")\n",
    "complete_data_prep_analysis(training_file_name)\n"
   ]
  },
  {
   "cell_type": "code",
   "execution_count": 91,
   "id": "8ab44898",
   "metadata": {},
   "outputs": [
    {
     "name": "stdout",
     "output_type": "stream",
     "text": [
      "Num examples: 3\n",
      "First example:\n",
      "{'role': 'system', 'content': \"You will be provided queries from customer service department. Your task is to answer the question using only the provided steps with reference at the end. If the document does not contain the information needed to answer this question then write: 'Insufficient information, please contact RBC Direct Investing customer service representative at 1-800-769-2560.' Reference link should be in the format: [Title](URL)\\nNOTE: KEEP THE LINK SAME AS GIVEN IN EACH QUESTION END}\"}\n",
      "{'role': 'user', 'content': 'How do I open a new RRSP?'}\n",
      "{'role': 'assistant', 'content': 'To open a new RRSP, follow these steps:\\n1. Call 1-800-463-3863 and select the Investments option before midnight (local time) of March 1, 2010. Our investment specialists are available by phone 24 hours a day, 7 days a week.\\n2. Visit your local RBC Royal Bank branch by the close of the March 1, 2010 business day. Schedule an appointment by calling ahead.\\nReference: [RBC Direct Investing - Open New RRSP](https://www.rbcroyalbank.com/onlinebanking/bankingusertips/investments/rrsps/index.html#2)'}\n",
      "No errors found\n",
      "Num examples missing system message: 0\n",
      "Num examples missing user message: 0\n",
      "\n",
      "#### Distribution of num_messages_per_example:\n",
      "min / max: 3, 3\n",
      "mean / median: 3.0, 3.0\n",
      "p5 / p95: 3.0, 3.0\n",
      "\n",
      "#### Distribution of num_total_tokens_per_example:\n",
      "min / max: 218, 303\n",
      "mean / median: 259.0, 256.0\n",
      "p5 / p95: 225.6, 293.6\n",
      "\n",
      "#### Distribution of num_assistant_tokens_per_example:\n",
      "min / max: 94, 180\n",
      "mean / median: 137.0, 137.0\n",
      "p5 / p95: 102.6, 171.4\n",
      "\n",
      "0 examples may be over the 4096 token limit, they will be truncated during fine-tuning\n",
      "Dataset has ~777 tokens that will be charged for during training\n",
      "By default, you'll train for 25 epochs on this dataset\n",
      "By default, you'll be charged for ~19425 tokens\n"
     ]
    }
   ],
   "source": [
    "complete_data_prep_analysis(validation_file_name)"
   ]
  },
  {
   "cell_type": "code",
   "execution_count": 92,
   "id": "9836b707",
   "metadata": {},
   "outputs": [
    {
     "name": "stdout",
     "output_type": "stream",
     "text": [
      "Training file ID: file-P5niTGQG4Y03ls6Np5FKRsg5\n",
      "Validation file ID: file-BpNfkOb50i2SUCnmH7mKvI85\n"
     ]
    }
   ],
   "source": [
    "# Upload the training and validation dataset files to Azure OpenAI with the SDK.\n",
    "\n",
    "with open(training_file_name, \"rb\") as training_fd:\n",
    "    training_response = client.files.create(\n",
    "        file=training_fd, purpose=\"fine-tune\"\n",
    "    )\n",
    "\n",
    "training_file_id = training_response.id\n",
    "\n",
    "with open(validation_file_name, \"rb\") as validation_fd:\n",
    "    validation_response = client.files.create(\n",
    "        file=validation_fd, purpose=\"fine-tune\"\n",
    "    )\n",
    "validation_file_id = validation_response.id\n",
    "\n",
    "print(\"Training file ID:\", training_file_id)\n",
    "print(\"Validation file ID:\", validation_file_id)"
   ]
  },
  {
   "cell_type": "code",
   "execution_count": 93,
   "id": "93cb8c13",
   "metadata": {},
   "outputs": [
    {
     "name": "stdout",
     "output_type": "stream",
     "text": [
      "Job ID: ftjob-5oXKu7dnBOXz3hWDOYdBztvT\n",
      "Status: validating_files\n"
     ]
    }
   ],
   "source": [
    "response = client.fine_tuning.jobs.create(\n",
    "  training_file=training_file_id,\n",
    "  validation_file=validation_file_id,\n",
    "  hyperparameters={\n",
    "    \"n_epochs\": 3,\n",
    "    \"learning_rate_multiplier\": 3,\n",
    "    \"batch_size\": 1,\n",
    "  },\n",
    "  model=fine_tuned_model_id,\n",
    "  suffix=\"QnA-Assist-DI\",\n",
    ")\n",
    "\n",
    "job_id = response.id\n",
    "\n",
    "print(\"Job ID:\", response.id)\n",
    "print(\"Status:\", response.status)"
   ]
  },
  {
   "cell_type": "code",
   "execution_count": 98,
   "id": "e6e58fae",
   "metadata": {},
   "outputs": [
    {
     "name": "stdout",
     "output_type": "stream",
     "text": [
      "Job ID: ftjob-5oXKu7dnBOXz3hWDOYdBztvT\n",
      "Status: succeeded\n",
      "Trained Tokens: 9939\n"
     ]
    }
   ],
   "source": [
    "response = client.fine_tuning.jobs.retrieve(job_id)\n",
    "\n",
    "print(\"Job ID:\", response.id)\n",
    "print(\"Status:\", response.status)\n",
    "print(\"Trained Tokens:\", response.trained_tokens)"
   ]
  },
  {
   "cell_type": "code",
   "execution_count": 99,
   "id": "ce888db1",
   "metadata": {},
   "outputs": [
    {
     "name": "stdout",
     "output_type": "stream",
     "text": [
      "Step 15/30: training loss=0.80, validation loss=0.90\n",
      "Step 16/30: training loss=0.97, validation loss=0.97\n",
      "Step 17/30: training loss=0.82, validation loss=1.32\n",
      "Step 18/30: training loss=0.77, validation loss=0.92\n",
      "Step 19/30: training loss=0.30, validation loss=0.97\n",
      "Step 20/30: training loss=0.88, validation loss=1.35, full validation loss=1.01\n",
      "Step 21/30: training loss=1.12, validation loss=0.94\n",
      "Step 22/30: training loss=0.84, validation loss=1.00\n",
      "Step 23/30: training loss=0.22, validation loss=1.39\n",
      "Step 24/30: training loss=0.71, validation loss=0.96\n",
      "Step 25/30: training loss=0.70, validation loss=1.03\n",
      "Step 26/30: training loss=0.84, validation loss=1.41\n",
      "Step 27/30: training loss=0.57, validation loss=0.98\n",
      "Step 28/30: training loss=0.66, validation loss=1.04\n",
      "Step 29/30: training loss=0.83, validation loss=1.41\n",
      "Step 30/30: training loss=0.86, validation loss=0.98, full validation loss=1.05\n",
      "Checkpoint created at step 10 with Snapshot ID: ft:gpt-3.5-turbo-0125:personal:qna-assist-di:9GAwMZmx:ckpt-step-10\n",
      "Checkpoint created at step 20 with Snapshot ID: ft:gpt-3.5-turbo-0125:personal:qna-assist-di:9GAwMECX:ckpt-step-20\n",
      "New fine-tuned model created: ft:gpt-3.5-turbo-0125:personal:qna-assist-di:9GAwMxch\n",
      "The job has successfully completed\n"
     ]
    }
   ],
   "source": [
    "response = client.fine_tuning.jobs.list_events(job_id)\n",
    "\n",
    "events = response.data\n",
    "events.reverse()\n",
    "\n",
    "for event in events:\n",
    "    print(event.message)"
   ]
  },
  {
   "cell_type": "code",
   "execution_count": 100,
   "id": "6513d6ac",
   "metadata": {},
   "outputs": [
    {
     "name": "stdout",
     "output_type": "stream",
     "text": [
      "Fine-tuned model ID: ft:gpt-3.5-turbo-0125:personal:qna-assist-di:9GAwMxch\n"
     ]
    }
   ],
   "source": [
    "response = client.fine_tuning.jobs.retrieve(job_id)\n",
    "fine_tuned_model_id = response.fine_tuned_model\n",
    "\n",
    "if fine_tuned_model_id is None: \n",
    "    raise RuntimeError(\"Fine-tuned model ID not found. Your job has likely not been completed yet.\")\n",
    "\n",
    "print(\"Fine-tuned model ID:\", fine_tuned_model_id)"
   ]
  },
  {
   "cell_type": "code",
   "execution_count": 104,
   "id": "b9a430db",
   "metadata": {},
   "outputs": [
    {
     "name": "stdout",
     "output_type": "stream",
     "text": [
      "[{'content': 'You will be provided queries from customer service department. '\n",
      "             'Your task is to answer the question using only the provided '\n",
      "             'steps with reference at the end. If the document does not '\n",
      "             'contain the information needed to answer this question then '\n",
      "             \"write: 'Insufficient information, please contact RBC Direct \"\n",
      "             'Investing customer service representative at 1-800-769-2560.',\n",
      "  'role': 'system'},\n",
      " {'content': 'How can I place a trade with RBC Direct Investing account?',\n",
      "  'role': 'user'}]\n"
     ]
    }
   ],
   "source": [
    "system_message = \"You will be provided queries from customer service department. Your task is to answer the question using only the provided steps with reference at the end. If the document does not contain the information needed to answer this question then write: 'Insufficient information, please contact RBC Direct Investing customer service representative at 1-800-769-2560.\"\n",
    "test_messages = []\n",
    "test_messages.append({\"role\": \"system\", \"content\": system_message})\n",
    "user_message = \"How can I place a trade with RBC Direct Investing account?\"\n",
    "test_messages.append({\"role\": \"user\", \"content\": user_message})\n",
    "\n",
    "pprint(test_messages)"
   ]
  },
  {
   "cell_type": "code",
   "execution_count": 105,
   "id": "9d4db0b0",
   "metadata": {},
   "outputs": [
    {
     "name": "stdout",
     "output_type": "stream",
     "text": [
      "To place a trade with RBC Direct Investing account, follow these steps:\n",
      "1. Log in to your RBC Direct Investing account.\n",
      "2. Click on the 'Trading' tab.\n",
      "3. Select 'Order Entry' from the drop-down menu.\n",
      "4. Enter the required information for your trade, including the symbol, quantity, and order type.\n",
      "5. Review the order details and click 'Submit Order' to complete the trade.\n",
      "6. Note: If you are placing a trade outside of regular market hours, ensure you have selected the appropriate order type (e.g., 'Extended Hours' or 'Good 'til Canceled').\n",
      "7. If you need assistance with placing a trade, contact RBC Direct Investing customer service at 1-800-769-2560.\n",
      "[Reference](https://www.rbcroyalbank.com/onlinebanking/bankingusertips/investments/adirect/trade.html)\n"
     ]
    }
   ],
   "source": [
    "response = client.chat.completions.create(\n",
    "    model=fine_tuned_model_id, messages=test_messages, temperature=0, max_tokens=200\n",
    ")\n",
    "print(response.choices[0].message.content)"
   ]
  },
  {
   "cell_type": "code",
   "execution_count": 183,
   "id": "bb6aed5f",
   "metadata": {},
   "outputs": [
    {
     "name": "stdout",
     "output_type": "stream",
     "text": [
      "[{'content': \"You will be provided queries from 'Direct Investing' customer \"\n",
      "             'service department at RBC. Classify each query to the right '\n",
      "             'queue category.\\n'\n",
      "             'Provide your output in a bullet point format with only one: '\n",
      "             'Queue Category\\n'\n",
      "             'Queue Categories are:\\n'\n",
      "             '--Queue 1: Account Management\\n'\n",
      "             '--Queue 2: Fund Transfer\\n'\n",
      "             '--Queue 3: External Transfers\\n'\n",
      "             '--Queue 4: Trading and Withdrawals',\n",
      "  'role': 'system'},\n",
      " {'content': 'How do I update my address with RBC Direct Investing?',\n",
      "  'role': 'user'}]\n",
      "Queue 1: Account Management\n"
     ]
    }
   ],
   "source": [
    "system_message = \"You will be provided queries from 'Direct Investing' customer service department at RBC. Classify each query to the right queue category.\\nProvide your output in a bullet point format with only one: Queue Category\\nQueue Categories are:\\n--Queue 1: Account Management\\n--Queue 2: Fund Transfer\\n--Queue 3: External Transfers\\n--Queue 4: Trading and Withdrawals\"\n",
    "test_messages = []\n",
    "test_messages.append({\"role\": \"system\", \"content\": system_message})\n",
    "user_message = \"How do I update my address with RBC Direct Investing?\"\n",
    "test_messages.append({\"role\": \"user\", \"content\": user_message})\n",
    "\n",
    "pprint(test_messages)\n",
    "response = client.chat.completions.create(\n",
    "    model=fine_tuned_model_id, messages=test_messages, temperature=0, max_tokens=50\n",
    ")\n",
    "print(response.choices[0].message.content)\n"
   ]
  },
  {
   "cell_type": "markdown",
   "id": "ab6e3daf",
   "metadata": {},
   "source": [
    "# LLM Fine Tuning - \"Transactional Assistance\""
   ]
  },
  {
   "cell_type": "code",
   "execution_count": 108,
   "id": "0141e57e",
   "metadata": {},
   "outputs": [
    {
     "name": "stdout",
     "output_type": "stream",
     "text": [
      "-------Training Data Prep Analysis-------\n",
      "Num examples: 13\n",
      "First example:\n",
      "{'role': 'system', 'content': \"You are given with the transactional data and your task is to process this tabular data containing both text and numerical values based on criteria then generate answers.\\n-The answers should be in bullets and sub-bullet points\\n-If the answer cannot be found in the Transactional data given below, write 'please contact RBC Direct Investing Team.'\\nTransactional Data :\\n| Account No | Request Date | Transactional Details | Transfer Date | Withdrawal Amount | Deposit Amount | Balance Amount | Expected Transfer Days | Status | Note | Last Note Date |\\n|------------|--------------|---------------------|---------------|----------------|-------------|-------------|-----------------------|--------|------|----------------|\\n| 123456 | 2024-01-05 | Transferred cash from TD Bank to RBC | 2024-02-14 | - | 75000 | 150000 | 10 | Opened | Contacted customer to confirm transaction | 2024-02-14 |\\n| 789012 | 2024-01-10 | Transferred funds from CIBC to RBC | 2024-01-25 | - | 100000 | 200000 | 15 | Opened | Resolved missing withdrawal transaction information | 2024-01-25 |\\n| 345678 | 2024-01-15 | Withdrew cash for investment | 2024-02-05 | 50000 | - | 150000 | - | Closed | - | - |\\n| 901234 | 2024-01-20 | Deposited funds from BMO into account | 2024-02-07 | - | 85000 | 185000 | 18 | Opened | Verified deposit with customer | 2024-02-07 |\\n| 567890 | 2024-01-25 | Transferred money from RBC to TD Bank | 2024-02-10 | - | 60000 | 160000 | 16 | Opened | Sent confirmation email to customer | 2024-02-10 |\\n| 234567 | 2024-02-03 | Withdrew funds for stock purchase | 2024-02-25 | 70000 | - | 160000 | - | Closed | - | - |\\n| 890123 | 2024-02-08 | Transferred cash from ScotiaBank to RBC | 2024-02-28 | - | 95000 | 195000 | 20 | Opened | Called customer on the same day | 2024-02-28 |\\n| 456789 | 2024-02-12 | Deposited funds from RBC into account | 2024-03-06 | - | 80000 | 180000 | 22 | Opened | Resolved deposit discrepancy | 2024-03-06 |\\n| 123456 | 2024-02-18 | Withdrew cash for investment | 2024-03-12 | 45000 | - | 135000 | - | Closed | -\"}\n",
      "{'role': 'user', 'content': \"Give me all the accounts with the Expected transfer days, Note, and Last Note date where Status is 'opened'\"}\n",
      "{'role': 'assistant', 'content': 'Account: 123456\\nExpected transfer days: 10\\nNote: Contacted customer to confirm transaction\\nLast Note date: 2024-02-14\\n++++++++++++++++++\\nAccount: 789012\\nExpected transfer days: 15\\nNote: Resolved missing withdrawal transaction information\\nLast Note date: 2024-01-25\\n++++++++++++++++++\\nAccount: 901234\\nExpected transfer days: 18\\nNote: Verified deposit with customer\\nLast Note date: 2024-02-07\\n++++++++++++++++++\\nAccount: 567890\\nExpected transfer days: 16\\nNote: Sent confirmation email to customer\\nLast Note date: 2024-02-10'}\n",
      "No errors found\n",
      "Num examples missing system message: 0\n",
      "Num examples missing user message: 0\n",
      "\n",
      "#### Distribution of num_messages_per_example:\n",
      "min / max: 3, 3\n",
      "mean / median: 3.0, 3.0\n",
      "p5 / p95: 3.0, 3.0\n",
      "\n",
      "#### Distribution of num_total_tokens_per_example:\n",
      "min / max: 672, 809\n",
      "mean / median: 719.8461538461538, 715.0\n",
      "p5 / p95: 678.0, 782.2\n",
      "\n",
      "#### Distribution of num_assistant_tokens_per_example:\n",
      "min / max: 7, 138\n",
      "mean / median: 50.07692307692308, 47.0\n",
      "p5 / p95: 11.400000000000002, 112.00000000000004\n",
      "\n",
      "0 examples may be over the 4096 token limit, they will be truncated during fine-tuning\n",
      "Dataset has ~9358 tokens that will be charged for during training\n",
      "By default, you'll train for 7 epochs on this dataset\n",
      "By default, you'll be charged for ~65506 tokens\n"
     ]
    }
   ],
   "source": [
    "training_file_name = './Transactional/training_DI_txn.jsonl'\n",
    "validation_file_name = './Transactional/validation_DI_txn.jsonl'\n",
    "\n",
    "# Perform data prep and analysis - Token Counts, and file validation\n",
    "print(\"-------Training Data Prep Analysis-------\")\n",
    "complete_data_prep_analysis(training_file_name)\n"
   ]
  },
  {
   "cell_type": "code",
   "execution_count": 109,
   "id": "fb5a4303",
   "metadata": {},
   "outputs": [
    {
     "name": "stdout",
     "output_type": "stream",
     "text": [
      "Num examples: 6\n",
      "First example:\n",
      "{'role': 'system', 'content': \"You are given with the transactional data and your task is to process this tabular data containing both text and numerical values based on criteria then generate answers.\\n-The answers should be in bullets and sub-bullet points\\n-If the answer cannot be found in the Transactional data given below, write 'please contact RBC Direct Investing Team.'\\nTransactional Data :\\n| Account No | Request Date | Transactional Details | Transfer Date | Withdrawal Amount | Deposit Amount | Balance Amount | Expected Transfer Days | Status | Note | Last Note Date |\\n|------------|--------------|---------------------|---------------|----------------|-------------|-------------|-----------------------|--------|------|----------------|\\n| 123456 | 2024-01-05 | Transferred cash from TD Bank to RBC | 2024-02-14 | - | 75000 | 150000 | 10 | Opened | Contacted customer to confirm transaction | 2024-02-14 |\\n| 789012 | 2024-01-10 | Transferred funds from CIBC to RBC | 2024-01-25 | - | 100000 | 200000 | 15 | Opened | Resolved missing withdrawal transaction information | 2024-01-25 |\\n| 345678 | 2024-01-15 | Withdrew cash for investment | 2024-02-05 | 50000 | - | 150000 | - | Closed | - | - |\\n| 901234 | 2024-01-20 | Deposited funds from BMO into account | 2024-02-07 | - | 85000 | 185000 | 18 | Opened | Verified deposit with customer | 2024-02-07 |\\n| 567890 | 2024-01-25 | Transferred money from RBC to TD Bank | 2024-02-10 | - | 60000 | 160000 | 16 | Opened | Sent confirmation email to customer | 2024-02-10 |\\n| 234567 | 2024-02-03 | Withdrew funds for stock purchase | 2024-02-25 | 70000 | - | 160000 | - | Closed | - | - |\\n| 890123 | 2024-02-08 | Transferred cash from ScotiaBank to RBC | 2024-02-28 | - | 95000 | 195000 | 20 | Opened | Called customer on the same day | 2024-02-28 |\\n| 456789 | 2024-02-12 | Deposited funds from RBC into account | 2024-03-06 | - | 80000 | 180000 | 22 | Opened | Resolved deposit discrepancy | 2024-03-06 |\\n| 123456 | 2024-02-18 | Withdrew cash for investment | 2024-03-12 | 45000 | - | 135000 | - | Closed | -\"}\n",
      "{'role': 'user', 'content': \"List all accounts opened after February 1, 2024, with a note mentioning 'customer contact'\"}\n",
      "{'role': 'assistant', 'content': 'Account: 890123\\nRequest Date: 2024-02-08\\nNote: Called customer on the same day'}\n",
      "No errors found\n",
      "Num examples missing system message: 0\n",
      "Num examples missing user message: 0\n",
      "\n",
      "#### Distribution of num_messages_per_example:\n",
      "min / max: 3, 3\n",
      "mean / median: 3.0, 3.0\n",
      "p5 / p95: 3.0, 3.0\n",
      "\n",
      "#### Distribution of num_total_tokens_per_example:\n",
      "min / max: 672, 781\n",
      "mean / median: 716.1666666666666, 716.5\n",
      "p5 / p95: 672.0, 760.0\n",
      "\n",
      "#### Distribution of num_assistant_tokens_per_example:\n",
      "min / max: 8, 113\n",
      "mean / median: 48.0, 45.5\n",
      "p5 / p95: 8.0, 90.5\n",
      "\n",
      "0 examples may be over the 4096 token limit, they will be truncated during fine-tuning\n",
      "Dataset has ~4297 tokens that will be charged for during training\n",
      "By default, you'll train for 16 epochs on this dataset\n",
      "By default, you'll be charged for ~68752 tokens\n"
     ]
    }
   ],
   "source": [
    "complete_data_prep_analysis(validation_file_name)"
   ]
  },
  {
   "cell_type": "code",
   "execution_count": 110,
   "id": "806a56a6",
   "metadata": {},
   "outputs": [
    {
     "name": "stdout",
     "output_type": "stream",
     "text": [
      "Training file ID: file-ebKtNr4G1PPX7aEFfs5DD1E0\n",
      "Validation file ID: file-9CoT1nWGFJXS78zzQ7fO7HFO\n"
     ]
    }
   ],
   "source": [
    "# Upload the training and validation dataset files to Azure OpenAI with the SDK.\n",
    "\n",
    "with open(training_file_name, \"rb\") as training_fd:\n",
    "    training_response = client.files.create(\n",
    "        file=training_fd, purpose=\"fine-tune\"\n",
    "    )\n",
    "\n",
    "training_file_id = training_response.id\n",
    "\n",
    "with open(validation_file_name, \"rb\") as validation_fd:\n",
    "    validation_response = client.files.create(\n",
    "        file=validation_fd, purpose=\"fine-tune\"\n",
    "    )\n",
    "validation_file_id = validation_response.id\n",
    "\n",
    "print(\"Training file ID:\", training_file_id)\n",
    "print(\"Validation file ID:\", validation_file_id)"
   ]
  },
  {
   "cell_type": "code",
   "execution_count": 111,
   "id": "48035e12",
   "metadata": {},
   "outputs": [
    {
     "name": "stdout",
     "output_type": "stream",
     "text": [
      "Job ID: ftjob-BKhVDlxr13kb7utrdB7zh8b8\n",
      "Status: validating_files\n"
     ]
    }
   ],
   "source": [
    "response = client.fine_tuning.jobs.create(\n",
    "  training_file=training_file_id,\n",
    "  validation_file=validation_file_id,\n",
    "  hyperparameters={\n",
    "    \"n_epochs\": 3,\n",
    "    \"learning_rate_multiplier\": 2,\n",
    "    \"batch_size\": 1,\n",
    "  },\n",
    "  model=fine_tuned_model_id,\n",
    "  suffix=\"DI-Txn-Assist\",\n",
    ")\n",
    "\n",
    "job_id = response.id\n",
    "\n",
    "print(\"Job ID:\", response.id)\n",
    "print(\"Status:\", response.status)"
   ]
  },
  {
   "cell_type": "code",
   "execution_count": 122,
   "id": "b8d3cd71",
   "metadata": {},
   "outputs": [
    {
     "data": {
      "text/plain": [
       "'ft:gpt-3.5-turbo-0125:personal:di-txn-assist:9GCDhNRR'"
      ]
     },
     "execution_count": 122,
     "metadata": {},
     "output_type": "execute_result"
    }
   ],
   "source": [
    "fine_tuned_model_id"
   ]
  },
  {
   "cell_type": "code",
   "execution_count": 119,
   "id": "50ad1f2d",
   "metadata": {},
   "outputs": [
    {
     "name": "stdout",
     "output_type": "stream",
     "text": [
      "Job ID: ftjob-BKhVDlxr13kb7utrdB7zh8b8\n",
      "Status: succeeded\n",
      "Trained Tokens: 27996\n"
     ]
    }
   ],
   "source": [
    "response = client.fine_tuning.jobs.retrieve(job_id)\n",
    "\n",
    "print(\"Job ID:\", response.id)\n",
    "print(\"Status:\", response.status)\n",
    "print(\"Trained Tokens:\", response.trained_tokens)"
   ]
  },
  {
   "cell_type": "code",
   "execution_count": 120,
   "id": "501bfec1",
   "metadata": {},
   "outputs": [
    {
     "name": "stdout",
     "output_type": "stream",
     "text": [
      "Step 24/39: training loss=0.26, validation loss=0.64\n",
      "Step 25/39: training loss=0.27, validation loss=0.01\n",
      "Step 26/39: training loss=0.14, validation loss=0.12, full validation loss=0.17\n",
      "Step 27/39: training loss=0.01, validation loss=0.66\n",
      "Step 28/39: training loss=0.05, validation loss=0.18\n",
      "Step 29/39: training loss=0.08, validation loss=0.11\n",
      "Step 30/39: training loss=0.06, validation loss=0.66\n",
      "Step 31/39: training loss=0.17, validation loss=0.00\n",
      "Step 32/39: training loss=0.08, validation loss=0.07\n",
      "Step 33/39: training loss=0.04, validation loss=0.64\n",
      "Step 34/39: training loss=0.11, validation loss=0.12\n",
      "Step 35/39: training loss=0.62, validation loss=0.06\n",
      "Step 36/39: training loss=0.00, validation loss=0.55\n",
      "Step 37/39: training loss=0.03, validation loss=0.00\n",
      "Step 38/39: training loss=0.05, validation loss=0.05\n",
      "Step 39/39: training loss=0.56, validation loss=0.55, full validation loss=0.12\n",
      "Checkpoint created at step 13 with Snapshot ID: ft:gpt-3.5-turbo-0125:personal:di-txn-assist:9GCDg7cm:ckpt-step-13\n",
      "Checkpoint created at step 26 with Snapshot ID: ft:gpt-3.5-turbo-0125:personal:di-txn-assist:9GCDhdd4:ckpt-step-26\n",
      "New fine-tuned model created: ft:gpt-3.5-turbo-0125:personal:di-txn-assist:9GCDhNRR\n",
      "The job has successfully completed\n"
     ]
    }
   ],
   "source": [
    "response = client.fine_tuning.jobs.list_events(job_id)\n",
    "\n",
    "events = response.data\n",
    "events.reverse()\n",
    "\n",
    "for event in events:\n",
    "    print(event.message)"
   ]
  },
  {
   "cell_type": "code",
   "execution_count": 184,
   "id": "f43c135d",
   "metadata": {},
   "outputs": [
    {
     "name": "stdout",
     "output_type": "stream",
     "text": [
      "Fine-tuned model ID: ft:gpt-3.5-turbo-0125:personal:di-txn-assist:9GCDhNRR\n"
     ]
    }
   ],
   "source": [
    "response = client.fine_tuning.jobs.retrieve(job_id)\n",
    "fine_tuned_model_id = response.fine_tuned_model\n",
    "\n",
    "if fine_tuned_model_id is None: \n",
    "    raise RuntimeError(\"Fine-tuned model ID not found. Your job has likely not been completed yet.\")\n",
    "\n",
    "print(\"Fine-tuned model ID:\", fine_tuned_model_id)"
   ]
  },
  {
   "cell_type": "code",
   "execution_count": 123,
   "id": "8ee73720",
   "metadata": {},
   "outputs": [
    {
     "name": "stdout",
     "output_type": "stream",
     "text": [
      "[{'content': 'You are given with the transactional data and your task is to '\n",
      "             'process this tabular data containing both text and numerical '\n",
      "             'values based on criteria then generate answers.\\n'\n",
      "             '-The answers should be in bullets and sub-bullet points\\n'\n",
      "             '-If the answer cannot be found in the Transactional data given '\n",
      "             \"below, write 'please contact RBC Direct Investing Team.'\\n\"\n",
      "             'Transactional Data :\\n'\n",
      "             '| Account No | Request Date | Transactional Details | Transfer '\n",
      "             'Date | Withdrawal Amount | Deposit Amount | Balance Amount | '\n",
      "             'Expected Transfer Days | Status | Note | Last Note Date |\\n'\n",
      "             '|------------|--------------|---------------------|---------------|----------------|-------------|-------------|-----------------------|--------|------|----------------|\\n'\n",
      "             '| 123456 | 2024-01-05 | Transferred cash from TD Bank to RBC | '\n",
      "             '2024-02-14 | - | 75000 | 150000 | 10 | Opened | Contacted '\n",
      "             'customer to confirm transaction | 2024-02-14 |\\n'\n",
      "             '| 789012 | 2024-01-10 | Transferred funds from CIBC to RBC | '\n",
      "             '2024-01-25 | - | 100000 | 200000 | 15 | Opened | Resolved '\n",
      "             'missing withdrawal transaction information | 2024-01-25 |\\n'\n",
      "             '| 345678 | 2024-01-15 | Withdrew cash for investment | '\n",
      "             '2024-02-05 | 50000 | - | 150000 | - | Closed | - | - |\\n'\n",
      "             '| 901234 | 2024-01-20 | Deposited funds from BMO into account | '\n",
      "             '2024-02-07 | - | 85000 | 185000 | 18 | Opened | Verified deposit '\n",
      "             'with customer | 2024-02-07 |\\n'\n",
      "             '| 567890 | 2024-01-25 | Transferred money from RBC to TD Bank | '\n",
      "             '2024-02-10 | - | 60000 | 160000 | 16 | Opened | Sent '\n",
      "             'confirmation email to customer | 2024-02-10 |\\n'\n",
      "             '| 234567 | 2024-02-03 | Withdrew funds for stock purchase | '\n",
      "             '2024-02-25 | 70000 | - | 160000 | - | Closed | - | - |\\n'\n",
      "             '| 890123 | 2024-02-08 | Transferred cash from ScotiaBank to RBC '\n",
      "             '| 2024-02-28 | - | 95000 | 195000 | 20 | Opened | Called '\n",
      "             'customer on the same day | 2024-02-28 |\\n'\n",
      "             '| 456789 | 2024-02-12 | Deposited funds from RBC into account | '\n",
      "             '2024-03-06 | - | 80000 | 180000 | 22 | Opened | Resolved deposit '\n",
      "             'discrepancy | 2024-03-06 |\\n'\n",
      "             '| 123456 | 2024-02-18 | Withdrew cash for investment | '\n",
      "             '2024-03-12 | 45000 | - | 135000 | - | Closed | -',\n",
      "  'role': 'system'},\n",
      " {'content': \"List all accounts with a status of 'Closed' and a balance amount \"\n",
      "             'greater than $150,000',\n",
      "  'role': 'user'}]\n"
     ]
    }
   ],
   "source": [
    "system_message = \"You are given with the transactional data and your task is to process this tabular data containing both text and numerical values based on criteria then generate answers.\\n-The answers should be in bullets and sub-bullet points\\n-If the answer cannot be found in the Transactional data given below, write 'please contact RBC Direct Investing Team.'\\nTransactional Data :\\n| Account No | Request Date | Transactional Details | Transfer Date | Withdrawal Amount | Deposit Amount | Balance Amount | Expected Transfer Days | Status | Note | Last Note Date |\\n|------------|--------------|---------------------|---------------|----------------|-------------|-------------|-----------------------|--------|------|----------------|\\n| 123456 | 2024-01-05 | Transferred cash from TD Bank to RBC | 2024-02-14 | - | 75000 | 150000 | 10 | Opened | Contacted customer to confirm transaction | 2024-02-14 |\\n| 789012 | 2024-01-10 | Transferred funds from CIBC to RBC | 2024-01-25 | - | 100000 | 200000 | 15 | Opened | Resolved missing withdrawal transaction information | 2024-01-25 |\\n| 345678 | 2024-01-15 | Withdrew cash for investment | 2024-02-05 | 50000 | - | 150000 | - | Closed | - | - |\\n| 901234 | 2024-01-20 | Deposited funds from BMO into account | 2024-02-07 | - | 85000 | 185000 | 18 | Opened | Verified deposit with customer | 2024-02-07 |\\n| 567890 | 2024-01-25 | Transferred money from RBC to TD Bank | 2024-02-10 | - | 60000 | 160000 | 16 | Opened | Sent confirmation email to customer | 2024-02-10 |\\n| 234567 | 2024-02-03 | Withdrew funds for stock purchase | 2024-02-25 | 70000 | - | 160000 | - | Closed | - | - |\\n| 890123 | 2024-02-08 | Transferred cash from ScotiaBank to RBC | 2024-02-28 | - | 95000 | 195000 | 20 | Opened | Called customer on the same day | 2024-02-28 |\\n| 456789 | 2024-02-12 | Deposited funds from RBC into account | 2024-03-06 | - | 80000 | 180000 | 22 | Opened | Resolved deposit discrepancy | 2024-03-06 |\\n| 123456 | 2024-02-18 | Withdrew cash for investment | 2024-03-12 | 45000 | - | 135000 | - | Closed | -\"\n",
    "test_messages = []\n",
    "test_messages.append({\"role\": \"system\", \"content\": system_message})\n",
    "user_message = \"List all accounts with a status of 'Closed' and a balance amount greater than $150,000\"\n",
    "test_messages.append({\"role\": \"user\", \"content\": user_message})\n",
    "\n",
    "pprint(test_messages)"
   ]
  },
  {
   "cell_type": "code",
   "execution_count": 124,
   "id": "3d0230e9",
   "metadata": {},
   "outputs": [
    {
     "name": "stdout",
     "output_type": "stream",
     "text": [
      "Account: 234567\n",
      "Balance Amount: $160,000\n",
      "Withdrawal Amount: $70,000\n",
      "++++++++++++++++++\n",
      "Account: 789012\n",
      "Balance Amount: $200,000\n",
      "Withdrawal Amount: $100,000\n"
     ]
    }
   ],
   "source": [
    "response = client.chat.completions.create(\n",
    "    model=fine_tuned_model_id, messages=test_messages, temperature=0, max_tokens=200\n",
    ")\n",
    "print(response.choices[0].message.content)"
   ]
  },
  {
   "cell_type": "code",
   "execution_count": 125,
   "id": "b934ce04",
   "metadata": {},
   "outputs": [
    {
     "name": "stdout",
     "output_type": "stream",
     "text": [
      "[{'content': 'You are given with the transactional data and your task is to '\n",
      "             'process this tabular data containing both text and numerical '\n",
      "             'values based on criteria then generate answers.\\n'\n",
      "             '-The answers should be in bullets and sub-bullet points\\n'\n",
      "             '-If the answer cannot be found in the Transactional data given '\n",
      "             \"below, write 'please contact RBC Direct Investing Team.'\\n\"\n",
      "             'Transactional Data :\\n'\n",
      "             '| Account No | Request Date | Transactional Details | Transfer '\n",
      "             'Date | Withdrawal Amount | Deposit Amount | Balance Amount | '\n",
      "             'Expected Transfer Days | Status | Note | Last Note Date |\\n'\n",
      "             '|------------|--------------|---------------------|---------------|----------------|-------------|-------------|-----------------------|--------|------|----------------|\\n'\n",
      "             '| 123456 | 2024-01-05 | Transferred cash from TD Bank to RBC | '\n",
      "             '2024-02-14 | - | 75000 | 150000 | 10 | Opened | Contacted '\n",
      "             'customer to confirm transaction | 2024-02-14 |\\n'\n",
      "             '| 789012 | 2024-01-10 | Transferred funds from CIBC to RBC | '\n",
      "             '2024-01-25 | - | 100000 | 200000 | 15 | Opened | Resolved '\n",
      "             'missing withdrawal transaction information | 2024-01-25 |\\n'\n",
      "             '| 345678 | 2024-01-15 | Withdrew cash for investment | '\n",
      "             '2024-02-05 | 50000 | - | 150000 | - | Closed | - | - |\\n'\n",
      "             '| 901234 | 2024-01-20 | Deposited funds from BMO into account | '\n",
      "             '2024-02-07 | - | 85000 | 185000 | 18 | Opened | Verified deposit '\n",
      "             'with customer | 2024-02-07 |\\n'\n",
      "             '| 567890 | 2024-01-25 | Transferred money from RBC to TD Bank | '\n",
      "             '2024-02-10 | - | 60000 | 160000 | 16 | Opened | Sent '\n",
      "             'confirmation email to customer | 2024-02-10 |\\n'\n",
      "             '| 234567 | 2024-02-03 | Withdrew funds for stock purchase | '\n",
      "             '2024-02-25 | 70000 | - | 160000 | - | Closed | - | - |\\n'\n",
      "             '| 890123 | 2024-02-08 | Transferred cash from ScotiaBank to RBC '\n",
      "             '| 2024-02-28 | - | 95000 | 195000 | 20 | Opened | Called '\n",
      "             'customer on the same day | 2024-02-28 |\\n'\n",
      "             '| 456789 | 2024-02-12 | Deposited funds from RBC into account | '\n",
      "             '2024-03-06 | - | 80000 | 180000 | 22 | Opened | Resolved deposit '\n",
      "             'discrepancy | 2024-03-06 |\\n'\n",
      "             '| 123456 | 2024-02-18 | Withdrew cash for investment | '\n",
      "             '2024-03-12 | 45000 | - | 135000 | - | Closed | -',\n",
      "  'role': 'system'},\n",
      " {'content': \"Give me all accounts where the 'Expected Transfer Days' is \"\n",
      "             'greater than 20',\n",
      "  'role': 'user'}]\n"
     ]
    }
   ],
   "source": [
    "system_message = \"You are given with the transactional data and your task is to process this tabular data containing both text and numerical values based on criteria then generate answers.\\n-The answers should be in bullets and sub-bullet points\\n-If the answer cannot be found in the Transactional data given below, write 'please contact RBC Direct Investing Team.'\\nTransactional Data :\\n| Account No | Request Date | Transactional Details | Transfer Date | Withdrawal Amount | Deposit Amount | Balance Amount | Expected Transfer Days | Status | Note | Last Note Date |\\n|------------|--------------|---------------------|---------------|----------------|-------------|-------------|-----------------------|--------|------|----------------|\\n| 123456 | 2024-01-05 | Transferred cash from TD Bank to RBC | 2024-02-14 | - | 75000 | 150000 | 10 | Opened | Contacted customer to confirm transaction | 2024-02-14 |\\n| 789012 | 2024-01-10 | Transferred funds from CIBC to RBC | 2024-01-25 | - | 100000 | 200000 | 15 | Opened | Resolved missing withdrawal transaction information | 2024-01-25 |\\n| 345678 | 2024-01-15 | Withdrew cash for investment | 2024-02-05 | 50000 | - | 150000 | - | Closed | - | - |\\n| 901234 | 2024-01-20 | Deposited funds from BMO into account | 2024-02-07 | - | 85000 | 185000 | 18 | Opened | Verified deposit with customer | 2024-02-07 |\\n| 567890 | 2024-01-25 | Transferred money from RBC to TD Bank | 2024-02-10 | - | 60000 | 160000 | 16 | Opened | Sent confirmation email to customer | 2024-02-10 |\\n| 234567 | 2024-02-03 | Withdrew funds for stock purchase | 2024-02-25 | 70000 | - | 160000 | - | Closed | - | - |\\n| 890123 | 2024-02-08 | Transferred cash from ScotiaBank to RBC | 2024-02-28 | - | 95000 | 195000 | 20 | Opened | Called customer on the same day | 2024-02-28 |\\n| 456789 | 2024-02-12 | Deposited funds from RBC into account | 2024-03-06 | - | 80000 | 180000 | 22 | Opened | Resolved deposit discrepancy | 2024-03-06 |\\n| 123456 | 2024-02-18 | Withdrew cash for investment | 2024-03-12 | 45000 | - | 135000 | - | Closed | -\"\n",
    "test_messages = []\n",
    "test_messages.append({\"role\": \"system\", \"content\": system_message})\n",
    "user_message = \"Give me all accounts where the 'Expected Transfer Days' is greater than 20\"\n",
    "test_messages.append({\"role\": \"user\", \"content\": user_message})\n",
    "\n",
    "pprint(test_messages)"
   ]
  },
  {
   "cell_type": "code",
   "execution_count": 126,
   "id": "14e77e2f",
   "metadata": {},
   "outputs": [
    {
     "name": "stdout",
     "output_type": "stream",
     "text": [
      "Account: 456789\n",
      "Expected Transfer Days: 22\n",
      "++++++++++++++++++\n",
      "Account: 890123\n",
      "Expected Transfer Days: 20\n"
     ]
    }
   ],
   "source": [
    "response = client.chat.completions.create(\n",
    "    model=fine_tuned_model_id, messages=test_messages, temperature=0, max_tokens=200\n",
    ")\n",
    "print(response.choices[0].message.content)"
   ]
  },
  {
   "cell_type": "code",
   "execution_count": 219,
   "id": "572dd1e3",
   "metadata": {},
   "outputs": [
    {
     "name": "stdout",
     "output_type": "stream",
     "text": [
      "[{'content': 'You are given with the transactional data and your task is to '\n",
      "             'process this tabular data containing both text and numerical '\n",
      "             'values based on criteria then generate answers.\\n'\n",
      "             '-The answers should be in bullets and sub-bullet points\\n'\n",
      "             '-If the answer cannot be found in the Transactional data given '\n",
      "             \"below, write 'please contact RBC Direct Investing Team.'\\n\"\n",
      "             'Transactional Data :\\n'\n",
      "             '| Account No | Request Date | Transactional Details | Transfer '\n",
      "             'Date | Withdrawal Amount | Deposit Amount | Balance Amount | '\n",
      "             'Expected Transfer Days | Status | Note | Last Note Date |\\n'\n",
      "             '|------------|--------------|---------------------|---------------|----------------|-------------|-------------|-----------------------|--------|------|----------------|\\n'\n",
      "             '| 123456 | 2024-01-05 | Transferred cash from TD Bank to RBC | '\n",
      "             '2024-02-14 | - | 75000 | 150000 | 10 | Opened | Contacted '\n",
      "             'customer to confirm transaction | 2024-02-14 |\\n'\n",
      "             '| 789012 | 2024-01-10 | Transferred funds from CIBC to RBC | '\n",
      "             '2024-01-25 | - | 100000 | 200000 | 15 | Opened | Resolved '\n",
      "             'missing withdrawal transaction information | 2024-01-25 |\\n'\n",
      "             '| 345678 | 2024-01-15 | Withdrew cash for investment | '\n",
      "             '2024-02-05 | 50000 | - | 150000 | - | Closed | - | - |\\n'\n",
      "             '| 901234 | 2024-01-20 | Deposited funds from BMO into account | '\n",
      "             '2024-02-07 | - | 85000 | 185000 | 18 | Opened | Verified deposit '\n",
      "             'with customer | 2024-02-07 |\\n'\n",
      "             '| 567890 | 2024-01-25 | Transferred money from RBC to TD Bank | '\n",
      "             '2024-02-10 | - | 60000 | 160000 | 16 | Opened | Sent '\n",
      "             'confirmation email to customer | 2024-02-10 |\\n'\n",
      "             '| 234567 | 2024-02-03 | Withdrew funds for stock purchase | '\n",
      "             '2024-02-25 | 70000 | - | 160000 | - | Closed | - | - |\\n'\n",
      "             '| 890123 | 2024-02-08 | Transferred cash from ScotiaBank to RBC '\n",
      "             '| 2024-02-28 | - | 95000 | 195000 | 20 | Opened | Called '\n",
      "             'customer on the same day | 2024-02-28 |\\n'\n",
      "             '| 456789 | 2024-02-12 | Deposited funds from RBC into account | '\n",
      "             '2024-03-06 | - | 80000 | 180000 | 22 | Opened | Resolved deposit '\n",
      "             'discrepancy | 2024-03-06 |\\n'\n",
      "             '| 123456 | 2024-02-18 | Withdrew cash for investment | '\n",
      "             '2024-03-12 | 45000 | - | 135000 | - | Closed | -',\n",
      "  'role': 'system'},\n",
      " {'content': \"Give me all accounts where the transaction detail - 'Withdrew \"\n",
      "             \"cash for investment'\",\n",
      "  'role': 'user'}]\n"
     ]
    }
   ],
   "source": [
    "system_message = \"You are given with the transactional data and your task is to process this tabular data containing both text and numerical values based on criteria then generate answers.\\n-The answers should be in bullets and sub-bullet points\\n-If the answer cannot be found in the Transactional data given below, write 'please contact RBC Direct Investing Team.'\\nTransactional Data :\\n| Account No | Request Date | Transactional Details | Transfer Date | Withdrawal Amount | Deposit Amount | Balance Amount | Expected Transfer Days | Status | Note | Last Note Date |\\n|------------|--------------|---------------------|---------------|----------------|-------------|-------------|-----------------------|--------|------|----------------|\\n| 123456 | 2024-01-05 | Transferred cash from TD Bank to RBC | 2024-02-14 | - | 75000 | 150000 | 10 | Opened | Contacted customer to confirm transaction | 2024-02-14 |\\n| 789012 | 2024-01-10 | Transferred funds from CIBC to RBC | 2024-01-25 | - | 100000 | 200000 | 15 | Opened | Resolved missing withdrawal transaction information | 2024-01-25 |\\n| 345678 | 2024-01-15 | Withdrew cash for investment | 2024-02-05 | 50000 | - | 150000 | - | Closed | - | - |\\n| 901234 | 2024-01-20 | Deposited funds from BMO into account | 2024-02-07 | - | 85000 | 185000 | 18 | Opened | Verified deposit with customer | 2024-02-07 |\\n| 567890 | 2024-01-25 | Transferred money from RBC to TD Bank | 2024-02-10 | - | 60000 | 160000 | 16 | Opened | Sent confirmation email to customer | 2024-02-10 |\\n| 234567 | 2024-02-03 | Withdrew funds for stock purchase | 2024-02-25 | 70000 | - | 160000 | - | Closed | - | - |\\n| 890123 | 2024-02-08 | Transferred cash from ScotiaBank to RBC | 2024-02-28 | - | 95000 | 195000 | 20 | Opened | Called customer on the same day | 2024-02-28 |\\n| 456789 | 2024-02-12 | Deposited funds from RBC into account | 2024-03-06 | - | 80000 | 180000 | 22 | Opened | Resolved deposit discrepancy | 2024-03-06 |\\n| 123456 | 2024-02-18 | Withdrew cash for investment | 2024-03-12 | 45000 | - | 135000 | - | Closed | -\"\n",
    "test_messages = []\n",
    "test_messages.append({\"role\": \"system\", \"content\": system_message})\n",
    "user_message = \"Give me all accounts where the transaction detail - 'Withdrew cash for investment'\"\n",
    "test_messages.append({\"role\": \"user\", \"content\": user_message})\n",
    "\n",
    "pprint(test_messages)"
   ]
  },
  {
   "cell_type": "code",
   "execution_count": 220,
   "id": "e03fce08",
   "metadata": {},
   "outputs": [
    {
     "name": "stdout",
     "output_type": "stream",
     "text": [
      "Account: 345678\n",
      "Withdrawal Amount: $50,000\n",
      "Balance Amount: $150,000\n",
      "Withdrawal Date: 2024-02-05\n",
      "++++++++++++++++++\n",
      "Account: 123456\n",
      "Withdrawal Amount: $45,000\n",
      "Balance Amount: $135,000\n",
      "Withdrawal Date: 2024-03-12\n"
     ]
    }
   ],
   "source": [
    "response = client.chat.completions.create(\n",
    "    model=fine_tuned_model_id, messages=test_messages, temperature=0, max_tokens=200\n",
    ")\n",
    "print(response.choices[0].message.content)"
   ]
  },
  {
   "cell_type": "code",
   "execution_count": 129,
   "id": "1492142f",
   "metadata": {},
   "outputs": [
    {
     "name": "stdout",
     "output_type": "stream",
     "text": [
      "[{'content': 'You are given with the transactional data and your task is to '\n",
      "             'process this tabular data containing both text and numerical '\n",
      "             'values based on criteria then generate answers.\\n'\n",
      "             '-The answers should be in bullets and sub-bullet points\\n'\n",
      "             '-If the answer cannot be found in the Transactional data given '\n",
      "             \"below, write 'please contact RBC Direct Investing Team.'\\n\"\n",
      "             'Transactional Data :\\n'\n",
      "             '| Account No | Request Date | Transactional Details | Transfer '\n",
      "             'Date | Withdrawal Amount | Deposit Amount | Balance Amount | '\n",
      "             'Expected Transfer Days | Status | Note | Last Note Date |\\n'\n",
      "             '|------------|--------------|---------------------|---------------|----------------|-------------|-------------|-----------------------|--------|------|----------------|\\n'\n",
      "             '| 123456 | 2024-01-05 | Transferred cash from TD Bank to RBC | '\n",
      "             '2024-02-14 | - | 75000 | 150000 | 10 | Opened | Contacted '\n",
      "             'customer to confirm transaction | 2024-02-14 |\\n'\n",
      "             '| 789012 | 2024-01-10 | Transferred funds from CIBC to RBC | '\n",
      "             '2024-01-25 | - | 100000 | 200000 | 15 | Opened | Resolved '\n",
      "             'missing withdrawal transaction information | 2024-01-25 |\\n'\n",
      "             '| 345678 | 2024-01-15 | Withdrew cash for investment | '\n",
      "             '2024-02-05 | 50000 | - | 150000 | - | Closed | - | - |\\n'\n",
      "             '| 901234 | 2024-01-20 | Deposited funds from BMO into account | '\n",
      "             '2024-02-07 | - | 85000 | 185000 | 18 | Opened | Verified deposit '\n",
      "             'with customer | 2024-02-07 |\\n'\n",
      "             '| 567890 | 2024-01-25 | Transferred money from RBC to TD Bank | '\n",
      "             '2024-02-10 | - | 60000 | 160000 | 16 | Opened | Sent '\n",
      "             'confirmation email to customer | 2024-02-10 |\\n'\n",
      "             '| 234567 | 2024-02-03 | Withdrew funds for stock purchase | '\n",
      "             '2024-02-25 | 70000 | - | 160000 | - | Closed | - | - |\\n'\n",
      "             '| 890123 | 2024-02-08 | Transferred cash from ScotiaBank to RBC '\n",
      "             '| 2024-02-28 | - | 95000 | 195000 | 20 | Opened | Called '\n",
      "             'customer on the same day | 2024-02-28 |\\n'\n",
      "             '| 456789 | 2024-02-12 | Deposited funds from RBC into account | '\n",
      "             '2024-03-06 | - | 80000 | 180000 | 22 | Opened | Resolved deposit '\n",
      "             'discrepancy | 2024-03-06 |\\n'\n",
      "             '| 123456 | 2024-02-18 | Withdrew cash for investment | '\n",
      "             '2024-03-12 | 45000 | - | 135000 | - | Closed | -',\n",
      "  'role': 'system'},\n",
      " {'content': \"Give me all accounts where the transaction detail - 'Withdrew \"\n",
      "             \"cash for investment', I need only account numbers\",\n",
      "  'role': 'user'}]\n"
     ]
    }
   ],
   "source": [
    "system_message = \"You are given with the transactional data and your task is to process this tabular data containing both text and numerical values based on criteria then generate answers.\\n-The answers should be in bullets and sub-bullet points\\n-If the answer cannot be found in the Transactional data given below, write 'please contact RBC Direct Investing Team.'\\nTransactional Data :\\n| Account No | Request Date | Transactional Details | Transfer Date | Withdrawal Amount | Deposit Amount | Balance Amount | Expected Transfer Days | Status | Note | Last Note Date |\\n|------------|--------------|---------------------|---------------|----------------|-------------|-------------|-----------------------|--------|------|----------------|\\n| 123456 | 2024-01-05 | Transferred cash from TD Bank to RBC | 2024-02-14 | - | 75000 | 150000 | 10 | Opened | Contacted customer to confirm transaction | 2024-02-14 |\\n| 789012 | 2024-01-10 | Transferred funds from CIBC to RBC | 2024-01-25 | - | 100000 | 200000 | 15 | Opened | Resolved missing withdrawal transaction information | 2024-01-25 |\\n| 345678 | 2024-01-15 | Withdrew cash for investment | 2024-02-05 | 50000 | - | 150000 | - | Closed | - | - |\\n| 901234 | 2024-01-20 | Deposited funds from BMO into account | 2024-02-07 | - | 85000 | 185000 | 18 | Opened | Verified deposit with customer | 2024-02-07 |\\n| 567890 | 2024-01-25 | Transferred money from RBC to TD Bank | 2024-02-10 | - | 60000 | 160000 | 16 | Opened | Sent confirmation email to customer | 2024-02-10 |\\n| 234567 | 2024-02-03 | Withdrew funds for stock purchase | 2024-02-25 | 70000 | - | 160000 | - | Closed | - | - |\\n| 890123 | 2024-02-08 | Transferred cash from ScotiaBank to RBC | 2024-02-28 | - | 95000 | 195000 | 20 | Opened | Called customer on the same day | 2024-02-28 |\\n| 456789 | 2024-02-12 | Deposited funds from RBC into account | 2024-03-06 | - | 80000 | 180000 | 22 | Opened | Resolved deposit discrepancy | 2024-03-06 |\\n| 123456 | 2024-02-18 | Withdrew cash for investment | 2024-03-12 | 45000 | - | 135000 | - | Closed | -\"\n",
    "test_messages = []\n",
    "test_messages.append({\"role\": \"system\", \"content\": system_message})\n",
    "user_message = \"Give me all accounts where the transaction detail - 'Withdrew cash for investment', I need only account numbers\"\n",
    "test_messages.append({\"role\": \"user\", \"content\": user_message})\n",
    "\n",
    "pprint(test_messages)"
   ]
  },
  {
   "cell_type": "code",
   "execution_count": 130,
   "id": "895bad44",
   "metadata": {},
   "outputs": [
    {
     "name": "stdout",
     "output_type": "stream",
     "text": [
      "Account Number: 345678\n",
      "Account Number: 123456\n"
     ]
    }
   ],
   "source": [
    "response = client.chat.completions.create(\n",
    "    model=fine_tuned_model_id, messages=test_messages, temperature=0, max_tokens=200\n",
    ")\n",
    "print(response.choices[0].message.content)"
   ]
  },
  {
   "cell_type": "code",
   "execution_count": 131,
   "id": "9a051f08",
   "metadata": {},
   "outputs": [
    {
     "data": {
      "text/plain": [
       "'ft:gpt-3.5-turbo-0125:personal:di-txn-assist:9GCDhNRR'"
      ]
     },
     "execution_count": 131,
     "metadata": {},
     "output_type": "execute_result"
    }
   ],
   "source": [
    "## Fine tuned Trained Model - \n",
    "fine_tuned_model_id"
   ]
  },
  {
   "cell_type": "markdown",
   "id": "c1199e89",
   "metadata": {},
   "source": [
    "# -----------------------------------------------------------------------------------------------------------------------------------------------"
   ]
  },
  {
   "cell_type": "markdown",
   "id": "2c325f4f",
   "metadata": {},
   "source": [
    "### OpenAI Functions"
   ]
  },
  {
   "cell_type": "code",
   "execution_count": 172,
   "id": "3b95d4f4",
   "metadata": {},
   "outputs": [],
   "source": [
    "# Example dummy function hard coded to return the same weather\n",
    "# In production, this could be your backend API or an external API\n",
    "def search_internet(search_query):\n",
    "    \"\"\"Get the latest news from the internet on Finance for given search_query\"\"\"\n",
    "    if search_query == None:\n",
    "        print(\"LLM Didn't pass the argument\")\n",
    "        return\n",
    "    params = {\n",
    "    \"engine\": \"google\",\n",
    "    \"q\": search_query,\n",
    "    \"api_key\": serp_api_secret\n",
    "    }\n",
    "    print('--------------')\n",
    "    print(params)\n",
    "    print('--------------')\n",
    "    search = GoogleSearch(params)\n",
    "    results = search.get_dict()\n",
    "    print('--------------')\n",
    "    print(results)\n",
    "    print('--------------')\n",
    "    organic_results = results[\"organic_results\"][:3]\n",
    "\n",
    "    # Extract 'link' and 'snippet' fields from each dictionary\n",
    "    filtered_data = [{'link': item['link'], 'snippet': item['snippet']} for item in organic_results]\n",
    "\n",
    "    # Convert the filtered data to JSON\n",
    "    return json.dumps(filtered_data, indent=4)\n"
   ]
  },
  {
   "cell_type": "code",
   "execution_count": 225,
   "id": "b8b624b0",
   "metadata": {},
   "outputs": [],
   "source": [
    "system_message = \"\"\"You are Fine-tuned on following 3 tasks:\n",
    "1. Queue Task - You will be provided queries from 'Direct Investing' customer service department at RBC. Classify each query to the right queue category.\\nProvide your output in a bullet point format with only one: Queue Category\\nQueue Categories are:\\n--Queue 1: Account Management\\n--Queue 2: Fund Transfer\\n--Queue 3: External Transfers\\n--Queue 4: Trading and Withdrawals\"\n",
    "\n",
    "2. Transactional Task - You are given with the transactional data and your task is to process this tabular data containing both text and numerical values based on criteria then generate answers.\\n-The answers should be in bullets and sub-bullet points\\n-If the answer cannot be found in the Transactional data given below, write 'please contact RBC Direct Investing Team.'\\nTransactional Data :\\n| Account No | Request Date | Transactional Details | Transfer Date | Withdrawal Amount | Deposit Amount | Balance Amount | Expected Transfer Days | Status | Note | Last Note Date |\\n|------------|--------------|---------------------|---------------|----------------|-------------|-------------|-----------------------|--------|------|----------------|\\n| 123456 | 2024-01-05 | Transferred cash from TD Bank to RBC | 2024-02-14 | - | 75000 | 150000 | 10 | Opened | Contacted customer to confirm transaction | 2024-02-14 |\\n| 789012 | 2024-01-10 | Transferred funds from CIBC to RBC | 2024-01-25 | - | 100000 | 200000 | 15 | Opened | Resolved missing withdrawal transaction information | 2024-01-25 |\\n| 345678 | 2024-01-15 | Withdrew cash for investment | 2024-02-05 | 50000 | - | 150000 | - | Closed | - | - |\\n| 901234 | 2024-01-20 | Deposited funds from BMO into account | 2024-02-07 | - | 85000 | 185000 | 18 | Opened | Verified deposit with customer | 2024-02-07 |\\n| 567890 | 2024-01-25 | Transferred money from RBC to TD Bank | 2024-02-10 | - | 60000 | 160000 | 16 | Opened | Sent confirmation email to customer | 2024-02-10 |\\n| 234567 | 2024-02-03 | Withdrew funds for stock purchase | 2024-02-25 | 70000 | - | 160000 | - | Closed | - | - |\\n| 890123 | 2024-02-08 | Transferred cash from ScotiaBank to RBC | 2024-02-28 | - | 95000 | 195000 | 20 | Opened | Called customer on the same day | 2024-02-28 |\\n| 456789 | 2024-02-12 | Deposited funds from RBC into account | 2024-03-06 | - | 80000 | 180000 | 22 | Opened | Resolved deposit discrepancy | 2024-03-06 |\\n| 123456 | 2024-02-18 | Withdrew cash for investment | 2024-03-12 | 45000 | - | 135000 | - | Closed | -\n",
    "\n",
    "3. Customer Service QnA Task - You will be provided queries from customer service department. Your task is to answer the question using only the provided steps with reference at the end. If the document does not contain the information needed to answer this question then write: 'Insufficient information, please contact RBC Direct Investing customer service representative at 1-800-769-2560.\n",
    "\n",
    "--You are allowed to generate search_query text on Financial Industries such as Dividends, Earnings per share/EPS etc. and plug into functions.  Provide Answer with Reference link from function in the format: [Answer](URL)\"\n",
    "\"\"\"\n",
    "\n",
    "def run_conversation():\n",
    "    # Step 1: send the conversation and available functions to the model\n",
    "    messages = []\n",
    "    messages.append({\"role\": \"system\", \"content\": system_message})\n",
    "    messages.append({\"role\": \"user\", \"content\": \"Scotiabank EPS for Q3 2023'\"})\n",
    "    tools = [\n",
    "         {\n",
    "        \"type\": \"function\",\n",
    "        \"function\": {\n",
    "            \"name\": \"search_internet\",\n",
    "            \"description\": \"Search the internet for the search_query on Finance.\",\n",
    "            \"parameters\": {\n",
    "                \"type\": \"object\",\n",
    "                \"properties\": {\n",
    "                    \"search_query\": {\n",
    "                        \"type\": \"string\",\n",
    "                        \"description\": \"The query to search for on the internet.\"\n",
    "                    }\n",
    "                },\n",
    "                \"required\": [\"search_query\"]\n",
    "            }\n",
    "        }\n",
    "    }\n",
    "    ]\n",
    "    response = client.chat.completions.create(\n",
    "        model=fine_tuned_model_id,\n",
    "        messages=messages,\n",
    "        tools=tools,\n",
    "        tool_choice=\"auto\",  # auto is default, but we'll be explicit\n",
    "    )\n",
    "    response_message = response.choices[0].message\n",
    "    print('+++++++++++++++++++++++')\n",
    "    print(response_message)\n",
    "    print('+++++++++++++++++++++++')\n",
    "    tool_calls = response_message.tool_calls\n",
    "    # Step 2: check if the model wanted to call a function\n",
    "    if tool_calls:\n",
    "        print('+++++++++++Invoking function++++++++')\n",
    "        # Step 3: call the function\n",
    "        # Note: the JSON response may not always be valid; be sure to handle errors\n",
    "        available_functions = {\n",
    "            \"search_internet\": search_internet,\n",
    "        }  # only one function in this example, but you can have multiple\n",
    "        messages.append(response_message)  # extend conversation with assistant's reply\n",
    "        # Step 4: send the info for each function call and function response to the model\n",
    "        for tool_call in tool_calls:\n",
    "            function_name = tool_call.function.name\n",
    "            function_to_call = available_functions[function_name]\n",
    "            print('function to call -->',function_to_call)\n",
    "            function_args = json.loads(tool_call.function.arguments)\n",
    "            print('function to call w/ arguments-->',function_args)\n",
    "            function_response = function_to_call(\n",
    "                search_query=function_args.get(\"search_query\")\n",
    "            )\n",
    "            messages.append(\n",
    "                {\n",
    "                    \"tool_call_id\": tool_call.id,\n",
    "                    \"role\": \"tool\",\n",
    "                    \"name\": function_name,\n",
    "                    \"content\": function_response,\n",
    "                }\n",
    "            )  # extend conversation with function response\n",
    "        second_response = client.chat.completions.create(\n",
    "            model=fine_tuned_model_id,\n",
    "            messages=messages,\n",
    "        )  # get a new response from the model where it can see the function response\n",
    "        return second_response\n"
   ]
  },
  {
   "cell_type": "code",
   "execution_count": 226,
   "id": "d756f20b",
   "metadata": {},
   "outputs": [
    {
     "name": "stdout",
     "output_type": "stream",
     "text": [
      "+++++++++++++++++++++++\n",
      "ChatCompletionMessage(content=None, role='assistant', function_call=None, tool_calls=[ChatCompletionMessageToolCall(id='call_rscUcaFSDSfKgncojs9ashge', function=Function(arguments='{\"search_query\":\"Scotiabank EPS Q3 2023\"}', name='search_internet'), type='function')])\n",
      "+++++++++++++++++++++++\n",
      "+++++++++++Invoking function++++++++\n",
      "function to call --> <function search_internet at 0x000002147EB580E0>\n",
      "function to call w/ arguments--> {'search_query': 'Scotiabank EPS Q3 2023'}\n",
      "--------------\n",
      "{'engine': 'google', 'q': 'Scotiabank EPS Q3 2023', 'api_key': '4dcedd8e41021dea1a8c248e4bc07bf66eded7353ef3813cbff51d1a883490b2'}\n",
      "--------------\n",
      "--------------\n",
      "{'search_metadata': {'id': '6624aed6216a9d1f954b49b8', 'status': 'Success', 'json_endpoint': 'https://serpapi.com/searches/2d498b52a215f8ae/6624aed6216a9d1f954b49b8.json', 'created_at': '2024-04-21 06:14:46 UTC', 'processed_at': '2024-04-21 06:14:46 UTC', 'google_url': 'https://www.google.com/search?q=Scotiabank+EPS+Q3+2023&oq=Scotiabank+EPS+Q3+2023&sourceid=chrome&ie=UTF-8', 'raw_html_file': 'https://serpapi.com/searches/2d498b52a215f8ae/6624aed6216a9d1f954b49b8.html', 'total_time_taken': 1.51}, 'search_parameters': {'engine': 'google', 'q': 'Scotiabank EPS Q3 2023', 'google_domain': 'google.com', 'device': 'desktop'}, 'search_information': {'query_displayed': 'Scotiabank EPS Q3 2023', 'total_results': 85000, 'time_taken_displayed': 0.65, 'organic_results_state': 'Results for exact spelling'}, 'jobs_results': {'location': 'Financials'}, 'knowledge_graph': {'title': 'Bank of Nova Scotia', 'type': 'NYSE: BNS', 'entity_type': 'finance, finance', 'main_tab_text': 'Overview', 'kgmid': '/m/07zm6d0', 'knowledge_graph_search_link': 'https://www.google.com/search?kgmid=/m/07zm6d0&hl=en-US&q=Bank+of+Nova+Scotia&kgs=a0c4d5a54203e896&shndl=17&shem=lnole,lsde&source=sh/x/kp/osrp/m5/1', 'serpapi_knowledge_graph_search_link': 'https://serpapi.com/search.json?device=desktop&engine=google&google_domain=google.com&hl=en-US&kgmid=%2Fm%2F07zm6d0&q=Bank+of+Nova+Scotia', 'tabs': [{'text': 'Compare', 'si': 'AKbGX_pETPY6hYz7xAeHGWEMafPzypbqOgqlM1_jEsyR0m2IHRZCfNh02P05n1poc0ITBbhHbSlF_hoShSw8qnBMrIip6fuQXFA7lw3Xsxw83t6b4m73xLsR3AjHNOSZqdcF-HA5VVdF', 'link': 'https://www.google.com/search?si=AKbGX_pETPY6hYz7xAeHGWEMafPzypbqOgqlM1_jEsyR0m2IHRZCfNh02P05n1poc0ITBbhHbSlF_hoShSw8qnBMrIip6fuQXFA7lw3Xsxw83t6b4m73xLsR3AjHNOSZqdcF-HA5VVdF&hl=en-US&q=nyse+bns+compare&kgs=a0c4d5a54203e896&shndl=17&shem=lnole,lsde&source=sh/x/kp/osrp/m5/1', 'serpapi_link': 'https://serpapi.com/search.json?device=desktop&engine=google&google_domain=google.com&hl=en-US&q=nyse+bns+compare&si=AKbGX_pETPY6hYz7xAeHGWEMafPzypbqOgqlM1_jEsyR0m2IHRZCfNh02P05n1poc0ITBbhHbSlF_hoShSw8qnBMrIip6fuQXFA7lw3Xsxw83t6b4m73xLsR3AjHNOSZqdcF-HA5VVdF'}, {'text': 'Financials', 'si': 'AKbGX_qBrLyCzCpFPC2_djaeWIJwf4LAlVteTAoaKeWDjmzBC89ssn3tREexSkdEO0pLUtJS8ccmDe7be5tHD-8TMIXi6LijQbzfILmS4iXaEv52wOlIrYw4bPKO8tBour_oGu6GGG1SoMFdOwczunqA13CG5xNikg==', 'link': 'https://www.google.com/search?si=AKbGX_qBrLyCzCpFPC2_djaeWIJwf4LAlVteTAoaKeWDjmzBC89ssn3tREexSkdEO0pLUtJS8ccmDe7be5tHD-8TMIXi6LijQbzfILmS4iXaEv52wOlIrYw4bPKO8tBour_oGu6GGG1SoMFdOwczunqA13CG5xNikg%3D%3D&hl=en-US&q=nyse+bns+financials&kgs=a0c4d5a54203e896&shndl=17&shem=lnole,lsde&source=sh/x/kp/osrp/m5/1', 'serpapi_link': 'https://serpapi.com/search.json?device=desktop&engine=google&google_domain=google.com&hl=en-US&q=nyse+bns+financials&si=AKbGX_qBrLyCzCpFPC2_djaeWIJwf4LAlVteTAoaKeWDjmzBC89ssn3tREexSkdEO0pLUtJS8ccmDe7be5tHD-8TMIXi6LijQbzfILmS4iXaEv52wOlIrYw4bPKO8tBour_oGu6GGG1SoMFdOwczunqA13CG5xNikg%3D%3D'}], 'website': 'http://www.scotiabank.com/', 'description': \"The Bank of Nova Scotia, operating as Scotiabank, is a Canadian multinational banking and financial services company headquartered in Toronto, Ontario. One of Canada's Big Five banks, it is the third-largest Canadian bank by deposits and market capitalization. In 2023, the company’s seat in Forbes Global 2000 was 88.\", 'source': {'name': 'Wikipedia', 'link': 'https://en.wikipedia.org/wiki/Scotiabank'}, 'ceo': 'L. Scott Thomson (Feb 1, 2023–)', 'ceo_links': [{'text': 'L. Scott Thomson', 'link': 'https://www.google.com/search?sca_esv=9c9edb63dbab71a4&sca_upv=1&q=L.+Scott+Thomson&si=AKbGX_rNw0aV2xaMSajixiwS9lmNu5OlNFGzE_NenPRGAlzGM-UqN6LyoVbEx0ClPbqpRvYVTzNQ892_7QMg2qKcuVtH9V-tfyBg_jo13SJi9UC-rC7zpvEFCLZiMz-V9H3e7BE2Bh89ipqe5nZ2DXC5sCSesldiiQT-93kG5fout3a6FZN1gtrWO2BuzZBj97OrGtA3nL-BXwiZQj43gvgwyTHnWIJoIw%3D%3D&sa=X&ved=2ahUKEwie-P3m09KFAxVzSTABHYLoANkQmxMoAHoECBcQAg'}], 'founded': 'March 30, 1832, Halifax Regional Municipality, Canada', 'founded_links': [{'text': 'Halifax Regional Municipality, Canada', 'link': 'https://www.google.com/search?sca_esv=9c9edb63dbab71a4&sca_upv=1&q=Halifax+Regional+Municipality&si=AKbGX_oBDfquzodaRrfbb9img4kPQ4fCBZjeqAiaW1svvC8uXq2_kdiPvI-_zuDZLpDRp2UiLt3qeEyUw9XOfzNFPM8KVoqVzyvPzOPTyDnrk9c83BKfIl7bbY9PbdcM7E5bljr9eHxW7154JH_QFHvzIKfzSSfouqJMNNUQWA3KFuCKE3IymQW0RAzmXHBv_7dtNcnh_PI6okjJnckZBtrAtPmOxoQ9Tw%3D%3D&sa=X&ved=2ahUKEwie-P3m09KFAxVzSTABHYLoANkQmxMoAHoECB0QAg'}], 'headquarters': 'Toronto, Canada', 'headquarters_links': [{'text': 'Toronto, Canada', 'link': 'https://www.google.com/search?sca_esv=9c9edb63dbab71a4&sca_upv=1&q=Toronto&si=AKbGX_paaCugDdYkuX2heTJMr0_FGRox2AzKVmiTg2eQr2d-rkcitcW6B6_LRCsu5D8b0p4jy4uEf6bHyn6yL_gkT6JqLQtJVrRU0zMcE2wcC0TAVH5Lo8CCm1L13hxlWTR00AWAWvyH7c7zF3p16I1NYKIQLOWmKePPGmfxAvg0b5i7fJemzSJy4XKDOyyIZQiGPzrc3vUH&sa=X&ved=2ahUKEwie-P3m09KFAxVzSTABHYLoANkQmxMoAHoECCQQAg'}], 'number_of_employees': '89,249 (2024)', 'revenue': '32.31 billion CAD (2023)', 'subsidiaries': 'The Bank of Nova Scotia (Sucursal de Panamá)', 'subsidiaries_links': [{'text': 'The Bank of Nova Scotia (Sucursal de Panamá)', 'link': 'https://www.google.com/search?sca_esv=9c9edb63dbab71a4&sca_upv=1&q=The+Bank+of+Nova+Scotia+(Sucursal+de+Panam%C3%A1)&si=AKbGX_rO4P19IF_yO85wYpkEaz-W_oZWd5JUOOVnUVftf2aeoeAVXTpfutt3aorRDdX7oQGDGqNDmYnWV69_BORcFlY-b3j510iVtMzMwrz8dyzeTO4BTiLa8b28HK305vEYRT3f4KGEgGyYXo6M80i_rLtjTLBIefaLhhAvu715M3jIKbLT2zfu4k2h1_Lse6SsL4fUUuevewGvD4G0KamME2eeBngdSwOi19WN_JN_YDCQGCrmgswAhvL3PhAnMcbtxzkiB0AE&sa=X&ved=2ahUKEwie-P3m09KFAxVzSTABHYLoANkQmxMoAHoECBgQAg'}, {'text': 'MORE', 'link': 'https://www.google.com/search?sca_esv=9c9edb63dbab71a4&sca_upv=1&q=nyse:bns+subsidiaries&stick=H4sIAAAAAAAAAOPgE-LSz9U3MK_KNUsx0NLOTrbST8vMS8xLTtUvLslPzrZKzs8tSMyr1M3MS8tXKC5NKs5MyUwsykwtXsQqmldZnGqVlFeMIg4AE6ZjTVMAAAA&sa=X&ved=2ahUKEwie-P3m09KFAxVzSTABHYLoANkQ44YBKAF6BAgYEAM'}], 'financials': {'quarterly_financials': [{'table': [['(CAD)', 'Jan 2024', 'Y/Y'], ['Revenue', '7.47B', '2.01%'], ['Net income', '2.17B', '26.32%'], ['Diluted EPS', '1.68', '24.44%'], ['Net profit margin', '29.1%', '23.83%'], ['Operating income', '2.73B', '-4.58%'], ['Net change in cash', '-962M', '65.2%'], ['Cash on hand', '-', '-'], ['Cost of revenue', '-', '-']], 'formatted': [{'cad': 'Revenue', 'jan_2024': '7.47B', 'y_y': '2.01%'}, {'cad': 'Net income', 'jan_2024': '2.17B', 'y_y': '26.32%'}, {'cad': 'Diluted EPS', 'jan_2024': '1.68', 'y_y': '24.44%'}, {'cad': 'Net profit margin', 'jan_2024': '29.1%', 'y_y': '23.83%'}, {'cad': 'Operating income', 'jan_2024': '2.73B', 'y_y': '-4.58%'}, {'cad': 'Net change in cash', 'jan_2024': '-962M', 'y_y': '65.2%'}, {'cad': 'Cash on hand', 'jan_2024': '-', 'y_y': '-'}, {'cad': 'Cost of revenue', 'jan_2024': '-', 'y_y': '-'}]}, {'table': [['(CAD)', 'Oct 2023', 'Y/Y'], ['Revenue', '7.42B', '8.09%'], ['Net income', '1.35B', '-34.11%'], ['Diluted EPS', '1.02', '-35.44%'], ['Net profit margin', '18.25%', '-39.04%'], ['Operating income', '1.52B', '-40.69%'], ['Net change in cash', '-2.46B', '-249.03%'], ['Cash on hand', '-', '-'], ['Cost of revenue', '-', '-']], 'formatted': [{'cad': 'Revenue', 'oct_2023': '7.42B', 'y_y': '8.09%'}, {'cad': 'Net income', 'oct_2023': '1.35B', 'y_y': '-34.11%'}, {'cad': 'Diluted EPS', 'oct_2023': '1.02', 'y_y': '-35.44%'}, {'cad': 'Net profit margin', 'oct_2023': '18.25%', 'y_y': '-39.04%'}, {'cad': 'Operating income', 'oct_2023': '1.52B', 'y_y': '-40.69%'}, {'cad': 'Net change in cash', 'oct_2023': '-2.46B', 'y_y': '-249.03%'}, {'cad': 'Cash on hand', 'oct_2023': '-', 'y_y': '-'}, {'cad': 'Cost of revenue', 'oct_2023': '-', 'y_y': '-'}]}, {'table': [['(CAD)', 'Jul 2023', 'Y/Y'], ['Revenue', '7.27B', '-1.57%'], ['Net income', '2.19B', '-13.74%'], ['Diluted EPS', '1.72', '-17.7%'], ['Net profit margin', '30.13%', '-12.36%'], ['Operating income', '2.71B', '-15.24%'], ['Net change in cash', '3.34B', '371.79%'], ['Cash on hand', '-', '-'], ['Cost of revenue', '-', '-']], 'formatted': [{'cad': 'Revenue', 'jul_2023': '7.27B', 'y_y': '-1.57%'}, {'cad': 'Net income', 'jul_2023': '2.19B', 'y_y': '-13.74%'}, {'cad': 'Diluted EPS', 'jul_2023': '1.72', 'y_y': '-17.7%'}, {'cad': 'Net profit margin', 'jul_2023': '30.13%', 'y_y': '-12.36%'}, {'cad': 'Operating income', 'jul_2023': '2.71B', 'y_y': '-15.24%'}, {'cad': 'Net change in cash', 'jul_2023': '3.34B', 'y_y': '371.79%'}, {'cad': 'Cash on hand', 'jul_2023': '-', 'y_y': '-'}, {'cad': 'Cost of revenue', 'jul_2023': '-', 'y_y': '-'}]}, {'table': [['(CAD)', 'Apr 2023', 'Y/Y'], ['Revenue', '7.22B', '-6.51%'], ['Net income', '2.13B', '-20.08%'], ['Diluted EPS', '1.69', '-21.76%'], ['Net profit margin', '29.54%', '-14.53%'], ['Operating income', '2.64B', '-25.81%'], ['Net change in cash', '991M', '1138.75%'], ['Cash on hand', '-', '-'], ['Cost of revenue', '-', '-']], 'formatted': [{'cad': 'Revenue', 'apr_2023': '7.22B', 'y_y': '-6.51%'}, {'cad': 'Net income', 'apr_2023': '2.13B', 'y_y': '-20.08%'}, {'cad': 'Diluted EPS', 'apr_2023': '1.69', 'y_y': '-21.76%'}, {'cad': 'Net profit margin', 'apr_2023': '29.54%', 'y_y': '-14.53%'}, {'cad': 'Operating income', 'apr_2023': '2.64B', 'y_y': '-25.81%'}, {'cad': 'Net change in cash', 'apr_2023': '991M', 'y_y': '1138.75%'}, {'cad': 'Cash on hand', 'apr_2023': '-', 'y_y': '-'}, {'cad': 'Cost of revenue', 'apr_2023': '-', 'y_y': '-'}]}], 'earnings_calls': {'summary': {'table': [['Previous', 'EPS', 'Revenue'], ['Jan 2024', 'Beat 4.71%', 'Beat 2.27%'], ['Oct 2023', 'Miss -23.47%', 'Miss -2.93%'], ['Jul 2023', 'Miss -0.10%', 'Miss -0.54%'], ['Apr 2023', 'Miss -6.90%', 'Miss -4.72%']], 'formatted': [{'previous': 'Jan 2024', 'eps': 'Beat 4.71%', 'revenue': 'Beat 2.27%'}, {'previous': 'Oct 2023', 'eps': 'Miss -23.47%', 'revenue': 'Miss -2.93%'}, {'previous': 'Jul 2023', 'eps': 'Miss -0.10%', 'revenue': 'Miss -0.54%'}, {'previous': 'Apr 2023', 'eps': 'Miss -6.90%', 'revenue': 'Miss -4.72%'}]}, 'details': {'jan_2024': [{'title': 'EPS (CAD)', 'extensions': ['Reported Feb 27', 'Fiscal Q1 2024 ended 1/31/2024'], 'expected': '1.61', 'reported': '1.69', 'surprise': '4.71%'}, {'title': 'Revenue (CAD)', 'expected': '8.25B', 'reported': '8.43B', 'surprise': '2.27%'}], 'oct_2023': [{'title': 'EPS (CAD)', 'extensions': ['Reported Nov 28', 'Fiscal Q4 2023 ended 10/31/2023'], 'expected': '1.65', 'reported': '1.26', 'surprise': '-23.47%'}, {'title': 'Revenue (CAD)', 'expected': '8.18B', 'reported': '7.94B', 'surprise': '-2.93%'}], 'jul_2023': [{'title': 'EPS (CAD)', 'extensions': ['Reported Aug 29', 'Fiscal Q3 2023 ended 7/31/2023'], 'expected': '1.73', 'reported': '1.73', 'surprise': '-0.10%'}, {'title': 'Revenue (CAD)', 'expected': '8.13B', 'reported': '8.09B', 'surprise': '-0.54%'}], 'apr_2023': [{'title': 'EPS (CAD)', 'extensions': ['Reported May 24', 'Fiscal Q2 2023 ended 4/30/2023'], 'expected': '1.83', 'reported': '1.70', 'surprise': '-6.90%'}, {'title': 'Revenue (CAD)', 'expected': '8.32B', 'reported': '7.93B', 'surprise': '-4.72%'}]}}}}, 'related_questions': [{'question': 'Is Scotiabank laying off employees?', 'snippet': 'Scotiabank to Lay Off 3% of Workforce, Take $432 Million Charge - BNN Bloomberg.', 'title': 'Scotiabank to Lay Off 3% of Workforce, Take $432 Million Charge', 'date': 'Oct 18, 2023', 'link': 'https://www.bnnbloomberg.ca/scotiabank-to-lay-off-3-of-workforce-take-432-million-charge-1.1986281#:~:text=Scotiabank%20to%20Lay%20Off%203,%24432%20Million%20Charge%20%2D%20BNN%20Bloomberg', 'displayed_link': 'https://www.bnnbloomberg.ca › scotiabank-to-lay-off-3-...', 'source_logo': 'https://serpapi.com/searches/6624aed6216a9d1f954b49b8/images/f519754f92f1f173ce0b81040a87b00d35e441104aa75888b2334f47a0f159f0.png', 'next_page_token': 'eyJvbnMiOiIxMDA0MSIsImZjIjoiRW9zQkNreEJUblZYYUdOclMwcE1jRGxETjAxcWJFVnJaRUkyVUd0RVVEVkpOMHB3WjBaT2FtRkNXWGxqUm5WTlkxSkdPRFoxTVdKUWR6WjRiblZxTUV0WVRYaFhhVlZaZGsxTlRWaFlkMnhMRWhjeE5qUnJXblEyZDBobVQxTjNZbXRRWjNSSFJIbEJNQm9pUVZCWWFHMDFXbUZ5UTBaWmRWQXdSRTAxTUZjMFVVd3RWRWswZEdwaVoxbGtRUSIsImZjdiI6IjMiLCJlaSI6IjE2NGtadDZ3SGZPU3dia1BndEdEeUEwIiwicWMiOiJDaFp6WTI5MGFXRmlZVzVySUdWd2N5QnhNeUF5TURJekVBQjlnSlFyUHciLCJxdWVzdGlvbiI6IklzIFNjb3RpYWJhbmsgbGF5aW5nIG9mZiBlbXBsb3llZXM/IiwibGsiOiJHaUpwY3lCelkyOTBhV0ZpWVc1cklHeGhlV2x1WnlCdlptWWdaVzF3Ykc5NVpXVnoiLCJicyI6ImMtUHk0MUwyTEZZSVRzNHZ5VXhNU3N6TFZzaEpyTXpNUzFmSVQwdFRTTTB0eU1tdlRFMHR0cGM0VVdla0lxV1VXYXhRakY4bGx3dVhXbmhHWW9rQ1VHbEpScXBDYW1KUkhsQlJzVUphZmxGcWNtSnhDWWloNE9RWGJDX3hsOUZJWEVvMEthOFlVNUVBSXdBIiwiaWQiOiJmY18xIn0=', 'serpapi_link': 'https://serpapi.com/search.json?device=desktop&engine=google_related_questions&google_domain=google.com&next_page_token=eyJvbnMiOiIxMDA0MSIsImZjIjoiRW9zQkNreEJUblZYYUdOclMwcE1jRGxETjAxcWJFVnJaRUkyVUd0RVVEVkpOMHB3WjBaT2FtRkNXWGxqUm5WTlkxSkdPRFoxTVdKUWR6WjRiblZxTUV0WVRYaFhhVlZaZGsxTlRWaFlkMnhMRWhjeE5qUnJXblEyZDBobVQxTjNZbXRRWjNSSFJIbEJNQm9pUVZCWWFHMDFXbUZ5UTBaWmRWQXdSRTAxTUZjMFVVd3RWRWswZEdwaVoxbGtRUSIsImZjdiI6IjMiLCJlaSI6IjE2NGtadDZ3SGZPU3dia1BndEdEeUEwIiwicWMiOiJDaFp6WTI5MGFXRmlZVzVySUdWd2N5QnhNeUF5TURJekVBQjlnSlFyUHciLCJxdWVzdGlvbiI6IklzIFNjb3RpYWJhbmsgbGF5aW5nIG9mZiBlbXBsb3llZXM%2FIiwibGsiOiJHaUpwY3lCelkyOTBhV0ZpWVc1cklHeGhlV2x1WnlCdlptWWdaVzF3Ykc5NVpXVnoiLCJicyI6ImMtUHk0MUwyTEZZSVRzNHZ5VXhNU3N6TFZzaEpyTXpNUzFmSVQwdFRTTTB0eU1tdlRFMHR0cGM0VVdla0lxV1VXYXhRakY4bGx3dVhXbmhHWW9rQ1VHbEpScXBDYW1KUkhsQlJzVUphZmxGcWNtSnhDWWloNE9RWGJDX3hsOUZJWEVvMEthOFlVNUVBSXdBIiwiaWQiOiJmY18xIn0%3D'}, {'question': 'What is the earnings forecast for BNS?', 'snippet': \"BNS Earnings Forecast Next quarter's earnings estimate for BNS is C$1.55 with a range of C$1.47 to C$1.60. The previous quarter's EPS was C$1.69.\", 'title': 'Bank Of Nova Scotia (BNS) Stock Forecast & Price Target - Tipranks', 'link': \"https://www.tipranks.com/stocks/tse:bns/forecast#:~:text=BNS%20Earnings%20Forecast,quarter's%20EPS%20was%20C%241.69.\", 'displayed_link': 'https://www.tipranks.com › stocks › tse:bns › forecast', 'source_logo': 'https://serpapi.com/searches/6624aed6216a9d1f954b49b8/images/f519754f92f1f173ce0b81040a87b00d1b9ba1bae6d23c98cd5f757ed80f8c30.png', 'next_page_token': 'eyJvbnMiOiIxMDA0MSIsImZjIjoiRW9zQkNreEJUblZYYUdOclMwcE1jRGxETjAxcWJFVnJaRUkyVUd0RVVEVkpOMHB3WjBaT2FtRkNXWGxqUm5WTlkxSkdPRFoxTVdKUWR6WjRiblZxTUV0WVRYaFhhVlZaZGsxTlRWaFlkMnhMRWhjeE5qUnJXblEyZDBobVQxTjNZbXRRWjNSSFJIbEJNQm9pUVZCWWFHMDFXbUZ5UTBaWmRWQXdSRTAxTUZjMFVVd3RWRWswZEdwaVoxbGtRUSIsImZjdiI6IjMiLCJlaSI6IjE2NGtadDZ3SGZPU3dia1BndEdEeUEwIiwicWMiOiJDaFp6WTI5MGFXRmlZVzVySUdWd2N5QnhNeUF5TURJekVBQjlnSlFyUHciLCJxdWVzdGlvbiI6IldoYXQgaXMgdGhlIGVhcm5pbmdzIGZvcmVjYXN0IGZvciBCTlM/IiwibGsiOiJHaFZpYm5NZ1pXRnlibWx1WjNNZ1ptOXlaV05oYzNRIiwiYnMiOiJjLVB5NDFMMkxGWUlUczR2eVV4TVNzekxWc2hKck16TVMxZklUMHRUU00wdHlNbXZURTB0dHBjNFVXZWtJcVdVV2F4UWpGOGxsd3VYV25oR1lva0NVR2xKUnFwQ2FtSlJIbEJSc1VKYWZsRnFjbUp4Q1lpaDRPUVhiQ194bDlGSVhFbzBLYThZVTVFQUl3QSIsImlkIjoiZmNfMSJ9', 'serpapi_link': 'https://serpapi.com/search.json?device=desktop&engine=google_related_questions&google_domain=google.com&next_page_token=eyJvbnMiOiIxMDA0MSIsImZjIjoiRW9zQkNreEJUblZYYUdOclMwcE1jRGxETjAxcWJFVnJaRUkyVUd0RVVEVkpOMHB3WjBaT2FtRkNXWGxqUm5WTlkxSkdPRFoxTVdKUWR6WjRiblZxTUV0WVRYaFhhVlZaZGsxTlRWaFlkMnhMRWhjeE5qUnJXblEyZDBobVQxTjNZbXRRWjNSSFJIbEJNQm9pUVZCWWFHMDFXbUZ5UTBaWmRWQXdSRTAxTUZjMFVVd3RWRWswZEdwaVoxbGtRUSIsImZjdiI6IjMiLCJlaSI6IjE2NGtadDZ3SGZPU3dia1BndEdEeUEwIiwicWMiOiJDaFp6WTI5MGFXRmlZVzVySUdWd2N5QnhNeUF5TURJekVBQjlnSlFyUHciLCJxdWVzdGlvbiI6IldoYXQgaXMgdGhlIGVhcm5pbmdzIGZvcmVjYXN0IGZvciBCTlM%2FIiwibGsiOiJHaFZpYm5NZ1pXRnlibWx1WjNNZ1ptOXlaV05oYzNRIiwiYnMiOiJjLVB5NDFMMkxGWUlUczR2eVV4TVNzekxWc2hKck16TVMxZklUMHRUU00wdHlNbXZURTB0dHBjNFVXZWtJcVdVV2F4UWpGOGxsd3VYV25oR1lva0NVR2xKUnFwQ2FtSlJIbEJSc1VKYWZsRnFjbUp4Q1lpaDRPUVhiQ194bDlGSVhFbzBLYThZVTVFQUl3QSIsImlkIjoiZmNfMSJ9'}], 'answer_box': {'type': 'finance_results', 'title': 'Bank of Nova Scotia', 'exchange': 'NYSE', 'stock': ' BNS', 'currency': 'USD', 'price': 46.74, 'thumbnail': 'https://serpapi.com/searches/6624aed6216a9d1f954b49b8/images/2e7b2cb3ec7bb8fe720bd65c3e1d46703bf3bb3cb6ae8a6d.png', 'price_movement': {'price': 0.17, 'percentage': 0.37, 'movement': 'Up', 'date': 'today'}, 'market': {'closed': True, 'date': 'Apr 19, 6:16 PM EDT', 'trading': 'After hours', 'price': 46.77, 'price_movement': {'price': 0.03, 'percentage': 0.064, 'movement': 'Up'}}, 'previous_close': 46.57, 'table': [{'name': 'Open', 'value': 46.57}, {'name': 'High', 'value': 47.1}, {'name': 'Low', 'value': 46.5}, {'name': 'Mkt cap', 'value': 57150000000}, {'name': 'P/E ratio', 'value': 10.49}, {'name': 'Div yield', 'value': 6.69}, {'name': '52-wk high', 'value': 51.98}, {'name': '52-wk low', 'value': 39.8}]}, 'organic_results': [{'position': 1, 'title': 'Q3 2023 Quarterly Report to Shareholders', 'link': 'https://www.scotiabank.com/content/dam/scotiabank/corporate/quarterly-reports/2023/q3/Q323_Shareholders_Report-EN.pdf', 'redirect_link': 'https://www.google.com/url?sa=t&source=web&rct=j&opi=89978449&url=https://www.scotiabank.com/content/dam/scotiabank/corporate/quarterly-reports/2023/q3/Q323_Shareholders_Report-EN.pdf&ved=2ahUKEwie-P3m09KFAxVzSTABHYLoANkQFnoECCsQAQ', 'displayed_link': 'https://www.scotiabank.com › dam › corporate › q3', 'favicon': 'https://serpapi.com/searches/6624aed6216a9d1f954b49b8/images/eb4c4f3dd3a2e0fecb66f450720bfad290a7183d8d5e19c56034ff8fea974543.png', 'date': 'Aug 29, 2023', 'snippet': 'TORONTO, August 29, 2023 – Scotiabank reported third quarter net income of $2,212 million compared to $2,594 million in the same period last ...', 'snippet_highlighted_words': ['net income of $2,212 million compared'], 'source': 'scotiabank.com'}, {'position': 2, 'title': 'Third Quarter 2023 Earnings Release - Scotiabank Global Site', 'link': 'https://www.scotiabank.com/content/dam/scotiabank/corporate/quarterly-reports/2023/q3/Q323_Quarterly_Press_Release-EN.pdf', 'redirect_link': 'https://www.google.com/url?sa=t&source=web&rct=j&opi=89978449&url=https://www.scotiabank.com/content/dam/scotiabank/corporate/quarterly-reports/2023/q3/Q323_Quarterly_Press_Release-EN.pdf&ved=2ahUKEwie-P3m09KFAxVzSTABHYLoANkQFnoECCwQAQ', 'displayed_link': 'https://www.scotiabank.com › dam › 2023 › q3', 'favicon': 'https://serpapi.com/searches/6624aed6216a9d1f954b49b8/images/eb4c4f3dd3a2e0fecb66f450720bfad25b8451e0dfaf4d049da054eac2f1cb3e.png', 'date': 'Aug 29, 2023', 'snippet': 'Adjusted net income(1) for the third quarter was $2,227 million and EPS was $1.73, down from $2.10 last year. Adjusted return on equity was 12. ...', 'snippet_highlighted_words': ['EPS was $1.73'], 'source': 'scotiabank.com'}, {'position': 3, 'title': 'Investor Fact Sheet - Q3 2023 - Scotiabank Global Site', 'link': 'https://www.scotiabank.com/content/dam/scotiabank/corporate/quarterly-reports/2023/q3/new/Q323_Scotiabank_Investor_Factsheet.pdf', 'redirect_link': 'https://www.google.com/url?sa=t&source=web&rct=j&opi=89978449&url=https://www.scotiabank.com/content/dam/scotiabank/corporate/quarterly-reports/2023/q3/new/Q323_Scotiabank_Investor_Factsheet.pdf&ved=2ahUKEwie-P3m09KFAxVzSTABHYLoANkQFnoECEMQAQ', 'displayed_link': 'https://www.scotiabank.com › 2023 › q3 › new', 'favicon': 'https://serpapi.com/searches/6624aed6216a9d1f954b49b8/images/eb4c4f3dd3a2e0fecb66f450720bfad29cf340ed84a5a66c0893f37845330ae5.png', 'date': 'Nov 28, 2023', 'snippet': 'Financial Information (Q3 2023). Pre-Tax, Pre-Provision Profit3 ... EPS Growth. 7%+. (17.7%). (17.6%). 4.2%. 8.0%. Return on. Equity9. 14%+. 12.1%.', 'snippet_highlighted_words': ['7%+. (17.7'], 'source': 'scotiabank.com'}, {'position': 4, 'title': 'The Bank of Nova Scotia (NYSE:BNS) Q3 2023 Earnings ...', 'link': 'https://finance.yahoo.com/news/bank-nova-scotia-nyse-bns-125952343.html', 'redirect_link': 'https://www.google.com/url?sa=t&source=web&rct=j&opi=89978449&url=https://finance.yahoo.com/news/bank-nova-scotia-nyse-bns-125952343.html&ved=2ahUKEwie-P3m09KFAxVzSTABHYLoANkQFnoECE8QAQ', 'displayed_link': 'https://finance.yahoo.com › news › bank-nova-scotia-ny...', 'favicon': 'https://serpapi.com/searches/6624aed6216a9d1f954b49b8/images/eb4c4f3dd3a2e0fecb66f450720bfad27be6d4908fa38fd7e0faabf134b89c37.png', 'date': 'Aug 30, 2023', 'snippet': 'The Bank of Nova Scotia beats earnings expectations. Reported EPS is $1.73, expectations were $1.28. John McCartney: Good morning, and welcome ...', 'snippet_highlighted_words': ['EPS is $1.73'], 'source': 'Yahoo Finance'}, {'position': 5, 'title': 'Investor Fact Sheet - Q3 2023 - Scotiabank Global Site', 'link': 'https://www.scotiabank.com/content/dam/scotiabank/corporate/quarterly-reports/2023/q3/Q323_Scotiabank_Investor_Factsheet.pdf', 'redirect_link': 'https://www.google.com/url?sa=t&source=web&rct=j&opi=89978449&url=https://www.scotiabank.com/content/dam/scotiabank/corporate/quarterly-reports/2023/q3/Q323_Scotiabank_Investor_Factsheet.pdf&ved=2ahUKEwie-P3m09KFAxVzSTABHYLoANkQFnoECFgQAQ', 'displayed_link': 'https://www.scotiabank.com › quarterly-reports › q3', 'favicon': 'https://serpapi.com/searches/6624aed6216a9d1f954b49b8/images/eb4c4f3dd3a2e0fecb66f450720bfad2ec07aac0192af2298cd90de4d4a6358b.png', 'date': 'Nov 28, 2023', 'snippet': 'Financial Information (Q3 2023). FY 2022. Business Line. Earnings ... Reported Diluted EPS Growth8. Annual Dividend Paid Growth. +6%. CAGR. $5.18.', 'snippet_highlighted_words': ['Financial', 'Q3 2023', 'Earnings', 'EPS'], 'source': 'scotiabank.com'}, {'position': 6, 'title': 'Scotiabank reports fourth quarter and 2023 results', 'link': 'https://www.newswire.ca/news-releases/scotiabank-reports-fourth-quarter-and-2023-results-822715953.html', 'redirect_link': 'https://www.google.com/url?sa=t&source=web&rct=j&opi=89978449&url=https://www.newswire.ca/news-releases/scotiabank-reports-fourth-quarter-and-2023-results-822715953.html&ved=2ahUKEwie-P3m09KFAxVzSTABHYLoANkQFnoECC0QAQ', 'displayed_link': 'https://www.newswire.ca › news-releases › scotiabank-re...', 'favicon': 'https://serpapi.com/searches/6624aed6216a9d1f954b49b8/images/eb4c4f3dd3a2e0fecb66f450720bfad26ccd6f2cda039ad8c9192725b8d6d3b1.png', 'date': 'Nov 28, 2023', 'snippet': 'Adjusted net income(2) for the fourth quarter ended October 31, 2023 was $1,674 million and adjusted diluted EPS were $1.26, compared to $2.06 ...', 'snippet_highlighted_words': ['1.26'], 'source': 'Canada Newswire'}, {'position': 7, 'title': 'Supplementary Financial Information - Scotiabank Global Site', 'link': 'https://www.scotiabank.com/content/dam/scotiabank/corporate/quarterly-reports/2023/q3/Q323_Supplementary_Financial_Information-EN.pdf', 'redirect_link': 'https://www.google.com/url?sa=t&source=web&rct=j&opi=89978449&url=https://www.scotiabank.com/content/dam/scotiabank/corporate/quarterly-reports/2023/q3/Q323_Supplementary_Financial_Information-EN.pdf&ved=2ahUKEwie-P3m09KFAxVzSTABHYLoANkQFnoECC4QAQ', 'displayed_link': 'https://www.scotiabank.com › dam › 2023 › q3', 'favicon': 'https://serpapi.com/searches/6624aed6216a9d1f954b49b8/images/eb4c4f3dd3a2e0fecb66f450720bfad2dc82357c267f8ace6383a585d91db796.png', 'snippet': '... Q3 2023 Quarterly Report to Shareholders and 2022 Annual Report. Non-GAAP Measures: The Bank uses a number of financial measures and ratios to assess its ...', 'snippet_highlighted_words': ['Q3 2023 Quarterly', 'financial'], 'source': 'scotiabank.com'}, {'position': 8, 'title': 'Scotiabank Stock (TSE:BNS) Gains Despite Q3 Earnings ...', 'link': 'https://www.tipranks.com/news/scotiabank-stock-tsebns-gains-despite-q3-earnings-miss', 'redirect_link': 'https://www.google.com/url?sa=t&source=web&rct=j&opi=89978449&url=https://www.tipranks.com/news/scotiabank-stock-tsebns-gains-despite-q3-earnings-miss&ved=2ahUKEwie-P3m09KFAxVzSTABHYLoANkQFnoECDoQAQ', 'displayed_link': 'https://www.tipranks.com › news › scotiabank-stock-tseb...', 'favicon': 'https://serpapi.com/searches/6624aed6216a9d1f954b49b8/images/eb4c4f3dd3a2e0fecb66f450720bfad2b0de035f5e9909739535fd82bb94630a.png', 'snippet': \"Another negative thing to note is BNS' adjusted return on equity, which fell to 12.2% in Q3 2023 compared to 15.4% in the prior year. There are positives, ...\", 'snippet_highlighted_words': ['12.2'], 'source': 'Tipranks'}, {'position': 9, 'title': 'Scotiabank to Announce Third Quarter 2023 Results', 'link': 'https://scotiabank.investorroom.com/2023-08-03-Scotiabank-to-Announce-Third-Quarter-2023-Results', 'redirect_link': 'https://www.google.com/url?sa=t&source=web&rct=j&opi=89978449&url=https://scotiabank.investorroom.com/2023-08-03-Scotiabank-to-Announce-Third-Quarter-2023-Results&ved=2ahUKEwie-P3m09KFAxVzSTABHYLoANkQFnoECEUQAQ', 'displayed_link': 'https://scotiabank.investorroom.com › 2023-08-03-Scoti...', 'favicon': 'https://serpapi.com/searches/6624aed6216a9d1f954b49b8/images/eb4c4f3dd3a2e0fecb66f450720bfad22b301dcdd72c31a4c35baba69daae8a8.png', 'date': 'Aug 3, 2023', 'snippet': 'Financial results will be issued in a press release at approximately 6:00 a.m. ET on Tuesday, August 29, 2023. The results will be available on ...', 'snippet_highlighted_words': ['be issued in a press release at approximately 6:00 a.m. ET on Tuesday, August 29, 2023'], 'source': 'investorroom.com'}, {'position': 10, 'title': 'Scotiabank reports third quarter results', 'link': 'https://finance.yahoo.com/news/scotiabank-reports-third-quarter-results-100000800.html', 'redirect_link': 'https://www.google.com/url?sa=t&source=web&rct=j&opi=89978449&url=https://finance.yahoo.com/news/scotiabank-reports-third-quarter-results-100000800.html&ved=2ahUKEwie-P3m09KFAxVzSTABHYLoANkQFnoECEEQAQ', 'displayed_link': 'https://finance.yahoo.com › news › scotiabank-reports-th...', 'favicon': 'https://serpapi.com/searches/6624aed6216a9d1f954b49b8/images/eb4c4f3dd3a2e0fecb66f450720bfad2d60d2e2ded211fd88a87356af1e73eaf.png', 'date': 'Aug 29, 2023', 'snippet': '29, 2023 /CNW/ - Scotiabank reported third quarter net income of $2,212 million compared to $2,594 million in the same period last year. Diluted ...', 'snippet_highlighted_words': ['net income of $2,212 million compared'], 'source': 'Yahoo Finance'}], 'top_stories_link': 'https://www.google.com/finance/quote/BNS:NYSE?sa=X&ved=2ahUKEwie-P3m09KFAxVzSTABHYLoANkQ3ecFegQILxAX', 'top_stories_serpapi_link': 'https://serpapi.com/search.json?device=desktop&engine=google&google_domain=google.com&q=Scotiabank+EPS+Q3+2023', 'related_searches': [{'block_position': 1, 'query': 'Nova scotiabank eps q3 2023', 'link': 'https://www.google.com/search?sca_esv=9c9edb63dbab71a4&sca_upv=1&q=Nova+scotiabank+eps+q3+2023&sa=X&ved=2ahUKEwie-P3m09KFAxVzSTABHYLoANkQ1QJ6BAhUEAE', 'serpapi_link': 'https://serpapi.com/search.json?device=desktop&engine=google&google_domain=google.com&q=Nova+scotiabank+eps+q3+2023'}, {'block_position': 1, 'query': 'scotiabank earnings q2 2023', 'link': 'https://www.google.com/search?sca_esv=9c9edb63dbab71a4&sca_upv=1&q=Scotiabank+earnings+Q2+2023&sa=X&ved=2ahUKEwie-P3m09KFAxVzSTABHYLoANkQ1QJ6BAhSEAE', 'serpapi_link': 'https://serpapi.com/search.json?device=desktop&engine=google&google_domain=google.com&q=Scotiabank+earnings+Q2+2023'}, {'block_position': 1, 'query': 'bns stock earnings report', 'link': 'https://www.google.com/search?sca_esv=9c9edb63dbab71a4&sca_upv=1&q=Bns+stock+earnings+report&sa=X&ved=2ahUKEwie-P3m09KFAxVzSTABHYLoANkQ1QJ6BAhREAE', 'serpapi_link': 'https://serpapi.com/search.json?device=desktop&engine=google&google_domain=google.com&q=Bns+stock+earnings+report'}, {'block_position': 1, 'query': 'scotiabank revenue usd', 'link': 'https://www.google.com/search?sca_esv=9c9edb63dbab71a4&sca_upv=1&q=Scotiabank+revenue+usd&sa=X&ved=2ahUKEwie-P3m09KFAxVzSTABHYLoANkQ1QJ6BAhNEAE', 'serpapi_link': 'https://serpapi.com/search.json?device=desktop&engine=google&google_domain=google.com&q=Scotiabank+revenue+usd'}, {'block_position': 1, 'query': 'bank quarterly results date 2023', 'link': 'https://www.google.com/search?sca_esv=9c9edb63dbab71a4&sca_upv=1&q=Bank+quarterly+results+date+2023&sa=X&ved=2ahUKEwie-P3m09KFAxVzSTABHYLoANkQ1QJ6BAhLEAE', 'serpapi_link': 'https://serpapi.com/search.json?device=desktop&engine=google&google_domain=google.com&q=Bank+quarterly+results+date+2023'}, {'block_position': 1, 'query': 'scotiabank analyst answers where do canadian bank investors go from here', 'link': 'https://www.google.com/search?sca_esv=9c9edb63dbab71a4&sca_upv=1&q=Scotiabank+analyst+answers+where+do+Canadian+Bank+investors+go+from+here&sa=X&ved=2ahUKEwie-P3m09KFAxVzSTABHYLoANkQ1QJ6BAhJEAE', 'serpapi_link': 'https://serpapi.com/search.json?device=desktop&engine=google&google_domain=google.com&q=Scotiabank+analyst+answers+where+do+Canadian+Bank+investors+go+from+here'}, {'block_position': 1, 'query': 'bank earnings calls', 'link': 'https://www.google.com/search?sca_esv=9c9edb63dbab71a4&sca_upv=1&q=Bank+earnings+calls&sa=X&ved=2ahUKEwie-P3m09KFAxVzSTABHYLoANkQ1QJ6BAhHEAE', 'serpapi_link': 'https://serpapi.com/search.json?device=desktop&engine=google&google_domain=google.com&q=Bank+earnings+calls'}, {'block_position': 1, 'query': 'cibc 2nd quarter results 2023', 'link': 'https://www.google.com/search?sca_esv=9c9edb63dbab71a4&sca_upv=1&q=CIBC+2nd+quarter+results+2023&sa=X&ved=2ahUKEwie-P3m09KFAxVzSTABHYLoANkQ1QJ6BAhGEAE', 'serpapi_link': 'https://serpapi.com/search.json?device=desktop&engine=google&google_domain=google.com&q=CIBC+2nd+quarter+results+2023'}], 'pagination': {'current': 1, 'next': 'https://www.google.com/search?q=Scotiabank+EPS+Q3+2023&oq=Scotiabank+EPS+Q3+2023&start=10&sourceid=chrome&ie=UTF-8', 'other_pages': {'2': 'https://www.google.com/search?q=Scotiabank+EPS+Q3+2023&oq=Scotiabank+EPS+Q3+2023&start=10&sourceid=chrome&ie=UTF-8', '3': 'https://www.google.com/search?q=Scotiabank+EPS+Q3+2023&oq=Scotiabank+EPS+Q3+2023&start=20&sourceid=chrome&ie=UTF-8', '4': 'https://www.google.com/search?q=Scotiabank+EPS+Q3+2023&oq=Scotiabank+EPS+Q3+2023&start=30&sourceid=chrome&ie=UTF-8', '5': 'https://www.google.com/search?q=Scotiabank+EPS+Q3+2023&oq=Scotiabank+EPS+Q3+2023&start=40&sourceid=chrome&ie=UTF-8'}}, 'serpapi_pagination': {'current': 1, 'next_link': 'https://serpapi.com/search.json?device=desktop&engine=google&google_domain=google.com&q=Scotiabank+EPS+Q3+2023&start=10', 'next': 'https://serpapi.com/search.json?device=desktop&engine=google&google_domain=google.com&q=Scotiabank+EPS+Q3+2023&start=10', 'other_pages': {'2': 'https://serpapi.com/search.json?device=desktop&engine=google&google_domain=google.com&q=Scotiabank+EPS+Q3+2023&start=10', '3': 'https://serpapi.com/search.json?device=desktop&engine=google&google_domain=google.com&q=Scotiabank+EPS+Q3+2023&start=20', '4': 'https://serpapi.com/search.json?device=desktop&engine=google&google_domain=google.com&q=Scotiabank+EPS+Q3+2023&start=30', '5': 'https://serpapi.com/search.json?device=desktop&engine=google&google_domain=google.com&q=Scotiabank+EPS+Q3+2023&start=40'}}}\n",
      "--------------\n",
      "Scotiabank reported adjusted EPS for Q3 2023 was $1.73, down from $2.10 last year. Adjusted net income was reported as $2,227 million. [Source](https://www.scotiabank.com/content/dam/scotiabank/corporate/quarterly-reports/2023/q3/Q323_Quarterly_Press_Release-EN.pdf)\n"
     ]
    }
   ],
   "source": [
    "print(run_conversation().choices[0].message.content)"
   ]
  },
  {
   "cell_type": "code",
   "execution_count": 212,
   "id": "68153eb9",
   "metadata": {},
   "outputs": [],
   "source": [
    "system_message = \"\"\"You are Fine-tuned on following 3 tasks:\n",
    "1. Queue Task - You will be provided queries from 'Direct Investing' customer service department at RBC. Classify each query to the right queue category.\\nProvide your output in a bullet point format with only one: Queue Category\\nQueue Categories are:\\n--Queue 1: Account Management\\n--Queue 2: Fund Transfer\\n--Queue 3: External Transfers\\n--Queue 4: Trading and Withdrawals\"\n",
    "\n",
    "2. Transactional Task - You are given with the transactional data and your task is to process this tabular data containing both text and numerical values based on criteria then generate answers.\\n-The answers should be in bullets and sub-bullet points\\n-If the answer cannot be found in the Transactional data given below, write 'please contact RBC Direct Investing Team.'\\nTransactional Data :\\n| Account No | Request Date | Transactional Details | Transfer Date | Withdrawal Amount | Deposit Amount | Balance Amount | Expected Transfer Days | Status | Note | Last Note Date |\\n|------------|--------------|---------------------|---------------|----------------|-------------|-------------|-----------------------|--------|------|----------------|\\n| 123456 | 2024-01-05 | Transferred cash from TD Bank to RBC | 2024-02-14 | - | 75000 | 150000 | 10 | Opened | Contacted customer to confirm transaction | 2024-02-14 |\\n| 789012 | 2024-01-10 | Transferred funds from CIBC to RBC | 2024-01-25 | - | 100000 | 200000 | 15 | Opened | Resolved missing withdrawal transaction information | 2024-01-25 |\\n| 345678 | 2024-01-15 | Withdrew cash for investment | 2024-02-05 | 50000 | - | 150000 | - | Closed | - | - |\\n| 901234 | 2024-01-20 | Deposited funds from BMO into account | 2024-02-07 | - | 85000 | 185000 | 18 | Opened | Verified deposit with customer | 2024-02-07 |\\n| 567890 | 2024-01-25 | Transferred money from RBC to TD Bank | 2024-02-10 | - | 60000 | 160000 | 16 | Opened | Sent confirmation email to customer | 2024-02-10 |\\n| 234567 | 2024-02-03 | Withdrew funds for stock purchase | 2024-02-25 | 70000 | - | 160000 | - | Closed | - | - |\\n| 890123 | 2024-02-08 | Transferred cash from ScotiaBank to RBC | 2024-02-28 | - | 95000 | 195000 | 20 | Opened | Called customer on the same day | 2024-02-28 |\\n| 456789 | 2024-02-12 | Deposited funds from RBC into account | 2024-03-06 | - | 80000 | 180000 | 22 | Opened | Resolved deposit discrepancy | 2024-03-06 |\\n| 123456 | 2024-02-18 | Withdrew cash for investment | 2024-03-12 | 45000 | - | 135000 | - | Closed | -\n",
    "\n",
    "3. Customer Service QnA Task - You will be provided queries from customer service department. Your task is to answer the question using only the provided steps with reference at the end. If the document does not contain the information needed to answer this question then write: 'Insufficient information, please contact RBC Direct Investing customer service representative at 1-800-769-2560.\n",
    "\n",
    "--You are allowed to generate search_query text on Financial Industries such as Dividends, Earnings per share/EPS etc. and plug into functions.  Provide Answer with Reference link from function in the format: [Answer](URL)\"\n",
    "\"\"\"\n",
    "test_messages = []\n",
    "test_messages.append({\"role\": \"system\", \"content\": system_message})\n"
   ]
  },
  {
   "cell_type": "code",
   "execution_count": 213,
   "id": "8f3b65ba",
   "metadata": {},
   "outputs": [
    {
     "name": "stdout",
     "output_type": "stream",
     "text": [
      "[{'content': 'You are Fine-tuned on following 3 tasks:\\n'\n",
      "             \"1. Queue Task - You will be provided queries from 'Direct \"\n",
      "             \"Investing' customer service department at RBC. Classify each \"\n",
      "             'query to the right queue category.\\n'\n",
      "             'Provide your output in a bullet point format with only one: '\n",
      "             'Queue Category\\n'\n",
      "             'Queue Categories are:\\n'\n",
      "             '--Queue 1: Account Management\\n'\n",
      "             '--Queue 2: Fund Transfer\\n'\n",
      "             '--Queue 3: External Transfers\\n'\n",
      "             '--Queue 4: Trading and Withdrawals\"\\n'\n",
      "             '\\n'\n",
      "             '2. Transactional Task - You are given with the transactional '\n",
      "             'data and your task is to process this tabular data containing '\n",
      "             'both text and numerical values based on criteria then generate '\n",
      "             'answers.\\n'\n",
      "             '-The answers should be in bullets and sub-bullet points\\n'\n",
      "             '-If the answer cannot be found in the Transactional data given '\n",
      "             \"below, write 'please contact RBC Direct Investing Team.'\\n\"\n",
      "             'Transactional Data :\\n'\n",
      "             '| Account No | Request Date | Transactional Details | Transfer '\n",
      "             'Date | Withdrawal Amount | Deposit Amount | Balance Amount | '\n",
      "             'Expected Transfer Days | Status | Note | Last Note Date |\\n'\n",
      "             '|------------|--------------|---------------------|---------------|----------------|-------------|-------------|-----------------------|--------|------|----------------|\\n'\n",
      "             '| 123456 | 2024-01-05 | Transferred cash from TD Bank to RBC | '\n",
      "             '2024-02-14 | - | 75000 | 150000 | 10 | Opened | Contacted '\n",
      "             'customer to confirm transaction | 2024-02-14 |\\n'\n",
      "             '| 789012 | 2024-01-10 | Transferred funds from CIBC to RBC | '\n",
      "             '2024-01-25 | - | 100000 | 200000 | 15 | Opened | Resolved '\n",
      "             'missing withdrawal transaction information | 2024-01-25 |\\n'\n",
      "             '| 345678 | 2024-01-15 | Withdrew cash for investment | '\n",
      "             '2024-02-05 | 50000 | - | 150000 | - | Closed | - | - |\\n'\n",
      "             '| 901234 | 2024-01-20 | Deposited funds from BMO into account | '\n",
      "             '2024-02-07 | - | 85000 | 185000 | 18 | Opened | Verified deposit '\n",
      "             'with customer | 2024-02-07 |\\n'\n",
      "             '| 567890 | 2024-01-25 | Transferred money from RBC to TD Bank | '\n",
      "             '2024-02-10 | - | 60000 | 160000 | 16 | Opened | Sent '\n",
      "             'confirmation email to customer | 2024-02-10 |\\n'\n",
      "             '| 234567 | 2024-02-03 | Withdrew funds for stock purchase | '\n",
      "             '2024-02-25 | 70000 | - | 160000 | - | Closed | - | - |\\n'\n",
      "             '| 890123 | 2024-02-08 | Transferred cash from ScotiaBank to RBC '\n",
      "             '| 2024-02-28 | - | 95000 | 195000 | 20 | Opened | Called '\n",
      "             'customer on the same day | 2024-02-28 |\\n'\n",
      "             '| 456789 | 2024-02-12 | Deposited funds from RBC into account | '\n",
      "             '2024-03-06 | - | 80000 | 180000 | 22 | Opened | Resolved deposit '\n",
      "             'discrepancy | 2024-03-06 |\\n'\n",
      "             '| 123456 | 2024-02-18 | Withdrew cash for investment | '\n",
      "             '2024-03-12 | 45000 | - | 135000 | - | Closed | -\\n'\n",
      "             '\\n'\n",
      "             '3. Customer Service QnA Task - You will be provided queries from '\n",
      "             'customer service department. Your task is to answer the question '\n",
      "             'using only the provided steps with reference at the end. If the '\n",
      "             'document does not contain the information needed to answer this '\n",
      "             \"question then write: 'Insufficient information, please contact \"\n",
      "             'RBC Direct Investing customer service representative at '\n",
      "             '1-800-769-2560.\\n'\n",
      "             '\\n'\n",
      "             '--You are allowed to generate search_query text on Financial '\n",
      "             'Industries such as Dividends, Earnings per share/EPS etc. and '\n",
      "             'plug into functions.  Provide Answer with Reference link from '\n",
      "             'function in the format: [Answer](URL)\"\\n',\n",
      "  'role': 'system'},\n",
      " {'content': 'Which queue for this task- Can I transfer funds from my RBC '\n",
      "             'Direct Investing account to a non-Canadian bank account?',\n",
      "  'role': 'user'}]\n"
     ]
    }
   ],
   "source": [
    "user_message = \"Which queue for this task- Can I transfer funds from my RBC Direct Investing account to a non-Canadian bank account?\"\n",
    "test_messages.append({\"role\": \"user\", \"content\": user_message})\n",
    "\n",
    "pprint(test_messages)"
   ]
  },
  {
   "cell_type": "code",
   "execution_count": 214,
   "id": "21d8426f",
   "metadata": {},
   "outputs": [
    {
     "name": "stdout",
     "output_type": "stream",
     "text": [
      "Queue 3: External Transfers\n"
     ]
    }
   ],
   "source": [
    "response = client.chat.completions.create(\n",
    "    model=fine_tuned_model_id, messages=test_messages, temperature=0, max_tokens=200\n",
    ")\n",
    "print(response.choices[0].message.content)"
   ]
  },
  {
   "cell_type": "code",
   "execution_count": null,
   "id": "01eb9150",
   "metadata": {},
   "outputs": [],
   "source": []
  }
 ],
 "metadata": {
  "kernelspec": {
   "display_name": "Python 3 (ipykernel)",
   "language": "python",
   "name": "python3"
  },
  "language_info": {
   "codemirror_mode": {
    "name": "ipython",
    "version": 3
   },
   "file_extension": ".py",
   "mimetype": "text/x-python",
   "name": "python",
   "nbconvert_exporter": "python",
   "pygments_lexer": "ipython3",
   "version": "3.11.7"
  }
 },
 "nbformat": 4,
 "nbformat_minor": 5
}
