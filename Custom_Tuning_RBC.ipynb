{
 "cells": [
  {
   "cell_type": "markdown",
   "id": "4fe54735-1c2f-4ab6-a8e0-19e743a135a3",
   "metadata": {},
   "source": [
    "<center><a href=\"https://www.rbc.com/\" ><img src=\"https://golden-storage-production.s3.amazonaws.com/topic_images/71c114ebf3b14f51846444bd69926a3f.png\" alt=\"RBC Logo\" /></a></center>\n"
   ]
  },
  {
   "cell_type": "markdown",
   "id": "4cbeca1d-5190-4346-8599-9222dac6b4c1",
   "metadata": {},
   "source": [
    "# LLM Fine Tuning - \"Queue - Assistance\""
   ]
  },
  {
   "cell_type": "code",
   "execution_count": 132,
   "id": "e8bf48bc-900e-467b-8504-8c5cc04899a4",
   "metadata": {},
   "outputs": [],
   "source": [
    "from DataPrep.fine_tuning_data_prep_analysis import complete_data_prep_analysis\n",
    "from dotenv import load_dotenv\n",
    "import os\n",
    "import json\n",
    "import openai\n",
    "import os\n",
    "from pprint import pprint\n",
    "from serpapi import GoogleSearch\n"
   ]
  },
  {
   "cell_type": "code",
   "execution_count": 30,
   "id": "a29a5c43",
   "metadata": {},
   "outputs": [
    {
     "name": "stdout",
     "output_type": "stream",
     "text": [
      "^C\n"
     ]
    }
   ],
   "source": [
    "# make sure to use the latest version of the openai python package"
   ]
  },
  {
   "cell_type": "code",
   "execution_count": 2,
   "id": "5f0a1a11",
   "metadata": {},
   "outputs": [],
   "source": [
    "# Get all the API's Setup\n",
    "# Reference code - https://cookbook.openai.com/examples/how_to_finetune_chat_models\n",
    "\n",
    "load_dotenv()\n",
    "openai_api_key = os.getenv(\"OPENAI_API_KEY\")\n",
    "serp_api_secret = os.getenv(\"SERP_API_KEY\")\n"
   ]
  },
  {
   "cell_type": "code",
   "execution_count": 6,
   "id": "1abbaa06",
   "metadata": {},
   "outputs": [],
   "source": [
    "import os\n",
    "from openai import OpenAI\n",
    "\n",
    "client = openai.OpenAI(api_key=os.environ.get(\"OPENAI_API_KEY\", openai_api_key))\n"
   ]
  },
  {
   "cell_type": "markdown",
   "id": "fa1f7f4e-08d1-4a74-a9ee-388879a08b26",
   "metadata": {},
   "source": [
    "### Training & Validation dataset"
   ]
  },
  {
   "cell_type": "code",
   "execution_count": 8,
   "id": "52d00307-5845-4e51-add7-c31f5bfe8858",
   "metadata": {},
   "outputs": [
    {
     "name": "stdout",
     "output_type": "stream",
     "text": [
      "-------Training Data Prep Analysis-------\n",
      "Num examples: 28\n",
      "First example:\n",
      "{'role': 'system', 'content': \"You will be provided queries from 'Direct Investing' customer service department at RBC. Classify each query to the right queue category.\\nProvide your output in a bullet point format with only one: Queue Category\\nQueue Categories are:\\n--Queue 1: Account Management\\n--Queue 2: Fund Transfer\\n--Queue 3: External Transfers\\n--Queue 4: Trading and Withdrawals\"}\n",
      "{'role': 'user', 'content': \"I've forgotten my username for RBC Direct Investing. How can I retrieve it?\"}\n",
      "{'role': 'assistant', 'content': 'Queue 1: Account Management'}\n",
      "No errors found\n",
      "Num examples missing system message: 0\n",
      "Num examples missing user message: 0\n",
      "\n",
      "#### Distribution of num_messages_per_example:\n",
      "min / max: 3, 3\n",
      "mean / median: 3.0, 3.0\n",
      "p5 / p95: 3.0, 3.0\n",
      "\n",
      "#### Distribution of num_total_tokens_per_example:\n",
      "min / max: 113, 125\n",
      "mean / median: 117.75, 118.0\n",
      "p5 / p95: 114.0, 121.3\n",
      "\n",
      "#### Distribution of num_assistant_tokens_per_example:\n",
      "min / max: 6, 8\n",
      "mean / median: 6.75, 6.5\n",
      "p5 / p95: 6.0, 8.0\n",
      "\n",
      "0 examples may be over the 4096 token limit, they will be truncated during fine-tuning\n",
      "Dataset has ~3297 tokens that will be charged for during training\n",
      "By default, you'll train for 3 epochs on this dataset\n",
      "By default, you'll be charged for ~9891 tokens\n"
     ]
    }
   ],
   "source": [
    "training_file_name = './queue/training.jsonl'\n",
    "validation_file_name = './queue/validation.jsonl'\n",
    "\n",
    "# Perform data prep and analysis - Token Counts, and file validation\n",
    "print(\"-------Training Data Prep Analysis-------\")\n",
    "complete_data_prep_analysis(training_file_name)\n"
   ]
  },
  {
   "cell_type": "code",
   "execution_count": 9,
   "id": "f206bbd3",
   "metadata": {},
   "outputs": [
    {
     "name": "stdout",
     "output_type": "stream",
     "text": [
      "-------Validation Data Prep Analysis-------\n",
      "Num examples: 12\n",
      "First example:\n",
      "{'role': 'system', 'content': \"You will be provided queries from 'Direct Investing' customer service department at RBC. Classify each query to the right queue category.\\nProvide your output in a bullet point format with only one: Queue Category\\nQueue Categories are:\\n--Queue 1: Account Management\\n--Queue 2: Fund Transfer\\n--Queue 3: External Transfers\\n--Queue 4: Trading and Withdrawals\"}\n",
      "{'role': 'user', 'content': 'How do I update my email address on my RBC Direct Investing account?'}\n",
      "{'role': 'assistant', 'content': 'Queue 1: Account Management'}\n",
      "No errors found\n",
      "Num examples missing system message: 0\n",
      "Num examples missing user message: 0\n",
      "\n",
      "#### Distribution of num_messages_per_example:\n",
      "min / max: 3, 3\n",
      "mean / median: 3.0, 3.0\n",
      "p5 / p95: 3.0, 3.0\n",
      "\n",
      "#### Distribution of num_total_tokens_per_example:\n",
      "min / max: 114, 124\n",
      "mean / median: 118.75, 118.5\n",
      "p5 / p95: 114.2, 123.0\n",
      "\n",
      "#### Distribution of num_assistant_tokens_per_example:\n",
      "min / max: 6, 8\n",
      "mean / median: 6.75, 6.5\n",
      "p5 / p95: 6.0, 8.0\n",
      "\n",
      "0 examples may be over the 4096 token limit, they will be truncated during fine-tuning\n",
      "Dataset has ~1425 tokens that will be charged for during training\n",
      "By default, you'll train for 8 epochs on this dataset\n",
      "By default, you'll be charged for ~11400 tokens\n"
     ]
    }
   ],
   "source": [
    "print(\"-------Validation Data Prep Analysis-------\")\n",
    "complete_data_prep_analysis(validation_file_name)"
   ]
  },
  {
   "cell_type": "markdown",
   "id": "40bdda44",
   "metadata": {},
   "source": [
    "#### Upload Files"
   ]
  },
  {
   "cell_type": "code",
   "execution_count": 9,
   "id": "d529c7b4",
   "metadata": {},
   "outputs": [
    {
     "name": "stdout",
     "output_type": "stream",
     "text": [
      "Training file ID: file-vlCuB0JaCNPNBiJrsAcKKE7P\n",
      "Validation file ID: file-vdvAGKV5odg3r4HSOJRTAOvy\n"
     ]
    }
   ],
   "source": [
    "# Upload the training and validation dataset files to Azure OpenAI with the SDK.\n",
    "\n",
    "with open(training_file_name, \"rb\") as training_fd:\n",
    "    training_response = client.files.create(\n",
    "        file=training_fd, purpose=\"fine-tune\"\n",
    "    )\n",
    "\n",
    "training_file_id = training_response.id\n",
    "\n",
    "with open(validation_file_name, \"rb\") as validation_fd:\n",
    "    validation_response = client.files.create(\n",
    "        file=validation_fd, purpose=\"fine-tune\"\n",
    "    )\n",
    "validation_file_id = validation_response.id\n",
    "\n",
    "print(\"Training file ID:\", training_file_id)\n",
    "print(\"Validation file ID:\", validation_file_id)"
   ]
  },
  {
   "cell_type": "code",
   "execution_count": 13,
   "id": "2bf94593",
   "metadata": {},
   "outputs": [],
   "source": [
    "### Adjust hyperparameters as needed\n",
    "'''   client.fine_tuning.jobs.create(\n",
    "  training_file=\"file-abc123\", \n",
    "  model=\"gpt-35-turbo-0613\", # Enter base model name. Note that in Azure OpenAI the model name contains dashes and cannot contain dot/period characters. \n",
    "  hyperparameters={\n",
    "    \"n_epochs\":2,\n",
    "    \"learning_rate_multiplier\": 2 ,\n",
    "    \"batch_size\": 1,\n",
    "  }\n",
    ")   '''"
   ]
  },
  {
   "cell_type": "markdown",
   "id": "8effe23c",
   "metadata": {},
   "source": [
    "##### Fine Tuning"
   ]
  },
  {
   "cell_type": "code",
   "execution_count": 11,
   "id": "00c1cb73",
   "metadata": {},
   "outputs": [
    {
     "name": "stdout",
     "output_type": "stream",
     "text": [
      "Job ID: ftjob-a94UB9FZ9B0jHW0cEenehRem\n",
      "Status: validating_files\n"
     ]
    }
   ],
   "source": [
    "response = client.fine_tuning.jobs.create(\n",
    "    training_file=training_file_id,\n",
    "    validation_file=validation_file_id,\n",
    "    model=\"gpt-3.5-turbo-0125\",\n",
    "    suffix=\"queue-assist\",\n",
    ")\n",
    "\n",
    "job_id = response.id\n",
    "\n",
    "print(\"Job ID:\", response.id)\n",
    "print(\"Status:\", response.status)"
   ]
  },
  {
   "cell_type": "code",
   "execution_count": 16,
   "id": "493ffbd1",
   "metadata": {},
   "outputs": [
    {
     "name": "stdout",
     "output_type": "stream",
     "text": [
      "Job ID: ftjob-a94UB9FZ9B0jHW0cEenehRem\n",
      "Status: succeeded\n",
      "Trained Tokens: 9723\n"
     ]
    }
   ],
   "source": [
    "response = client.fine_tuning.jobs.retrieve(job_id)\n",
    "\n",
    "print(\"Job ID:\", response.id)\n",
    "print(\"Status:\", response.status)\n",
    "print(\"Trained Tokens:\", response.trained_tokens)\n"
   ]
  },
  {
   "cell_type": "code",
   "execution_count": 17,
   "id": "9842cfc8",
   "metadata": {},
   "outputs": [
    {
     "name": "stdout",
     "output_type": "stream",
     "text": [
      "Step 69/84: training loss=0.00, validation loss=0.00\n",
      "Step 70/84: training loss=0.00, validation loss=0.00\n",
      "Step 71/84: training loss=0.00, validation loss=0.00\n",
      "Step 72/84: training loss=0.00, validation loss=0.00\n",
      "Step 73/84: training loss=0.00, validation loss=0.00\n",
      "Step 74/84: training loss=0.00, validation loss=0.00\n",
      "Step 75/84: training loss=0.00, validation loss=0.00\n",
      "Step 76/84: training loss=0.00, validation loss=0.00\n",
      "Step 77/84: training loss=0.00, validation loss=0.00\n",
      "Step 78/84: training loss=0.00, validation loss=0.00\n",
      "Step 79/84: training loss=0.00, validation loss=0.00\n",
      "Step 80/84: training loss=0.00, validation loss=0.00\n",
      "Step 81/84: training loss=0.00, validation loss=0.00\n",
      "Step 82/84: training loss=0.00, validation loss=0.00\n",
      "Step 83/84: training loss=0.00, validation loss=0.00\n",
      "Step 84/84: training loss=0.00, validation loss=0.00, full validation loss=0.00\n",
      "Checkpoint created at step 28 with Snapshot ID: ft:gpt-3.5-turbo-0125:personal:queue-assist:9G69Yuvf:ckpt-step-28\n",
      "Checkpoint created at step 56 with Snapshot ID: ft:gpt-3.5-turbo-0125:personal:queue-assist:9G69YRLi:ckpt-step-56\n",
      "New fine-tuned model created: ft:gpt-3.5-turbo-0125:personal:queue-assist:9G69YEnl\n",
      "The job has successfully completed\n"
     ]
    }
   ],
   "source": [
    "response = client.fine_tuning.jobs.list_events(job_id)\n",
    "\n",
    "events = response.data\n",
    "events.reverse()\n",
    "\n",
    "for event in events:\n",
    "    print(event.message)"
   ]
  },
  {
   "cell_type": "code",
   "execution_count": 185,
   "id": "cf1b2f10",
   "metadata": {},
   "outputs": [
    {
     "name": "stdout",
     "output_type": "stream",
     "text": [
      "Fine-tuned model ID: ft:gpt-3.5-turbo-0125:personal:di-txn-assist:9GCDhNRR\n"
     ]
    }
   ],
   "source": [
    "response = client.fine_tuning.jobs.retrieve(job_id)\n",
    "fine_tuned_model_id = response.fine_tuned_model\n",
    "\n",
    "if fine_tuned_model_id is None: \n",
    "    raise RuntimeError(\"Fine-tuned model ID not found. Your job has likely not been completed yet.\")\n",
    "\n",
    "print(\"Fine-tuned model ID:\", fine_tuned_model_id)"
   ]
  },
  {
   "cell_type": "code",
   "execution_count": 186,
   "id": "42472035",
   "metadata": {},
   "outputs": [
    {
     "name": "stdout",
     "output_type": "stream",
     "text": [
      "[{'content': \"You will be provided queries from 'Direct Investing' customer \"\n",
      "             'service department at RBC. Classify each query to the right '\n",
      "             'queue category.\\n'\n",
      "             'Provide your output in a bullet point format with only one: '\n",
      "             'Queue Category\\n'\n",
      "             'Queue Categories are:\\n'\n",
      "             '--Queue 1: Account Management\\n'\n",
      "             '--Queue 2: Fund Transfer\\n'\n",
      "             '--Queue 3: External Transfers\\n'\n",
      "             '--Queue 4: Trading and Withdrawals',\n",
      "  'role': 'system'},\n",
      " {'content': 'What should I do if I suspect unauthorized access to my RBC '\n",
      "             'Direct Investing account?',\n",
      "  'role': 'user'}]\n"
     ]
    }
   ],
   "source": [
    "system_message = \"You will be provided queries from 'Direct Investing' customer service department at RBC. Classify each query to the right queue category.\\nProvide your output in a bullet point format with only one: Queue Category\\nQueue Categories are:\\n--Queue 1: Account Management\\n--Queue 2: Fund Transfer\\n--Queue 3: External Transfers\\n--Queue 4: Trading and Withdrawals\"\n",
    "test_messages = []\n",
    "test_messages.append({\"role\": \"system\", \"content\": system_message})\n",
    "user_message = \"What should I do if I suspect unauthorized access to my RBC Direct Investing account?\"\n",
    "test_messages.append({\"role\": \"user\", \"content\": user_message})\n",
    "\n",
    "pprint(test_messages)"
   ]
  },
  {
   "cell_type": "code",
   "execution_count": 187,
   "id": "306bf1a6",
   "metadata": {},
   "outputs": [
    {
     "name": "stdout",
     "output_type": "stream",
     "text": [
      "Queue 1: Account Management\n"
     ]
    }
   ],
   "source": [
    "response = client.chat.completions.create(\n",
    "    model=fine_tuned_model_id, messages=test_messages, temperature=0, max_tokens=50\n",
    ")\n",
    "print(response.choices[0].message.content)"
   ]
  },
  {
   "cell_type": "markdown",
   "id": "868a8bca",
   "metadata": {},
   "source": [
    "# LLM Fine Tuning - \"QnA Direct Investing Assistance\""
   ]
  },
  {
   "cell_type": "markdown",
   "id": "1e9e76f1",
   "metadata": {},
   "source": [
    "#### Transfer learning within Queue Assistance Fine Tune LLM Model"
   ]
  },
  {
   "cell_type": "code",
   "execution_count": 89,
   "id": "23e245ed",
   "metadata": {},
   "outputs": [
    {
     "name": "stdout",
     "output_type": "stream",
     "text": [
      "-------Training Data Prep Analysis-------\n",
      "Num examples: 10\n",
      "First example:\n",
      "{'role': 'system', 'content': \"You will be provided queries from customer service department. Your task is to answer the question using only the provided steps with reference at the end. If the document does not contain the information needed to answer this question then write: 'Insufficient information, please contact RBC Direct Investing customer service representative at 1-800-769-2560.' Reference link should be in the format: [Title](URL)\\nNOTE: KEEP THE URL SAME AS GIVEN IN EACH QUESTION END}\"}\n",
      "{'role': 'user', 'content': 'How do I update my address with RBC Direct Investing?'}\n",
      "{'role': 'assistant', 'content': \"To update your address with RBC Direct Investing, follow these steps:\\n1. Log in to your RBC Direct Investing account.\\n2. Navigate to the 'Update Profile' section.\\n3. Select 'Change your Account Profile' and complete the form with your new address details.\\n4. Click 'Continue' to submit the request.\\n5. Note: Ensure to provide your civic address as PO boxes are not accepted.\\n6. Your address will be updated within 24-48 business hours.\\n7. If your street/civic address is different from your mailing address or you are unable to update your address online, please call one of our investment services representatives at 1 800 769-2560.\\n8. To change your address with RBC Royal Bank, submit a separate request through Online Banking. Changes will be reflected with RBC Royal Bank right away.\\nReference: [RBC Direct Investing - Update Address](https://www.rbcroyalbank.com/onlinebanking/bankingusertips/investments/adirect/address.html)\"}\n",
      "No errors found\n",
      "Num examples missing system message: 0\n",
      "Num examples missing user message: 0\n",
      "\n",
      "#### Distribution of num_messages_per_example:\n",
      "min / max: 3, 3\n",
      "mean / median: 3.0, 3.0\n",
      "p5 / p95: 3.0, 3.0\n",
      "\n",
      "#### Distribution of num_total_tokens_per_example:\n",
      "min / max: 254, 501\n",
      "mean / median: 333.3, 321.5\n",
      "p5 / p95: 263.0, 392.09999999999997\n",
      "\n",
      "#### Distribution of num_assistant_tokens_per_example:\n",
      "min / max: 130, 380\n",
      "mean / median: 212.2, 198.0\n",
      "p5 / p95: 142.6, 269.29999999999995\n",
      "\n",
      "0 examples may be over the 4096 token limit, they will be truncated during fine-tuning\n",
      "Dataset has ~3333 tokens that will be charged for during training\n",
      "By default, you'll train for 10 epochs on this dataset\n",
      "By default, you'll be charged for ~33330 tokens\n"
     ]
    }
   ],
   "source": [
    "training_file_name = './DI_QnA_Assistance/training_DI_QnA.jsonl'\n",
    "validation_file_name = './DI_QnA_Assistance/validation_DI_QnA.jsonl'\n",
    "\n",
    "# Perform data prep and analysis - Token Counts, and file validation\n",
    "print(\"-------Training Data Prep Analysis-------\")\n",
    "complete_data_prep_analysis(training_file_name)\n"
   ]
  },
  {
   "cell_type": "code",
   "execution_count": 91,
   "id": "8ab44898",
   "metadata": {},
   "outputs": [
    {
     "name": "stdout",
     "output_type": "stream",
     "text": [
      "Num examples: 3\n",
      "First example:\n",
      "{'role': 'system', 'content': \"You will be provided queries from customer service department. Your task is to answer the question using only the provided steps with reference at the end. If the document does not contain the information needed to answer this question then write: 'Insufficient information, please contact RBC Direct Investing customer service representative at 1-800-769-2560.' Reference link should be in the format: [Title](URL)\\nNOTE: KEEP THE LINK SAME AS GIVEN IN EACH QUESTION END}\"}\n",
      "{'role': 'user', 'content': 'How do I open a new RRSP?'}\n",
      "{'role': 'assistant', 'content': 'To open a new RRSP, follow these steps:\\n1. Call 1-800-463-3863 and select the Investments option before midnight (local time) of March 1, 2010. Our investment specialists are available by phone 24 hours a day, 7 days a week.\\n2. Visit your local RBC Royal Bank branch by the close of the March 1, 2010 business day. Schedule an appointment by calling ahead.\\nReference: [RBC Direct Investing - Open New RRSP](https://www.rbcroyalbank.com/onlinebanking/bankingusertips/investments/rrsps/index.html#2)'}\n",
      "No errors found\n",
      "Num examples missing system message: 0\n",
      "Num examples missing user message: 0\n",
      "\n",
      "#### Distribution of num_messages_per_example:\n",
      "min / max: 3, 3\n",
      "mean / median: 3.0, 3.0\n",
      "p5 / p95: 3.0, 3.0\n",
      "\n",
      "#### Distribution of num_total_tokens_per_example:\n",
      "min / max: 218, 303\n",
      "mean / median: 259.0, 256.0\n",
      "p5 / p95: 225.6, 293.6\n",
      "\n",
      "#### Distribution of num_assistant_tokens_per_example:\n",
      "min / max: 94, 180\n",
      "mean / median: 137.0, 137.0\n",
      "p5 / p95: 102.6, 171.4\n",
      "\n",
      "0 examples may be over the 4096 token limit, they will be truncated during fine-tuning\n",
      "Dataset has ~777 tokens that will be charged for during training\n",
      "By default, you'll train for 25 epochs on this dataset\n",
      "By default, you'll be charged for ~19425 tokens\n"
     ]
    }
   ],
   "source": [
    "complete_data_prep_analysis(validation_file_name)"
   ]
  },
  {
   "cell_type": "code",
   "execution_count": 92,
   "id": "9836b707",
   "metadata": {},
   "outputs": [
    {
     "name": "stdout",
     "output_type": "stream",
     "text": [
      "Training file ID: file-P5niTGQG4Y03ls6Np5FKRsg5\n",
      "Validation file ID: file-BpNfkOb50i2SUCnmH7mKvI85\n"
     ]
    }
   ],
   "source": [
    "# Upload the training and validation dataset files to Azure OpenAI with the SDK.\n",
    "\n",
    "with open(training_file_name, \"rb\") as training_fd:\n",
    "    training_response = client.files.create(\n",
    "        file=training_fd, purpose=\"fine-tune\"\n",
    "    )\n",
    "\n",
    "training_file_id = training_response.id\n",
    "\n",
    "with open(validation_file_name, \"rb\") as validation_fd:\n",
    "    validation_response = client.files.create(\n",
    "        file=validation_fd, purpose=\"fine-tune\"\n",
    "    )\n",
    "validation_file_id = validation_response.id\n",
    "\n",
    "print(\"Training file ID:\", training_file_id)\n",
    "print(\"Validation file ID:\", validation_file_id)"
   ]
  },
  {
   "cell_type": "code",
   "execution_count": 93,
   "id": "93cb8c13",
   "metadata": {},
   "outputs": [
    {
     "name": "stdout",
     "output_type": "stream",
     "text": [
      "Job ID: ftjob-5oXKu7dnBOXz3hWDOYdBztvT\n",
      "Status: validating_files\n"
     ]
    }
   ],
   "source": [
    "response = client.fine_tuning.jobs.create(\n",
    "  training_file=training_file_id,\n",
    "  validation_file=validation_file_id,\n",
    "  hyperparameters={\n",
    "    \"n_epochs\": 3,\n",
    "    \"learning_rate_multiplier\": 3,\n",
    "    \"batch_size\": 1,\n",
    "  },\n",
    "  model=fine_tuned_model_id,\n",
    "  suffix=\"QnA-Assist-DI\",\n",
    ")\n",
    "\n",
    "job_id = response.id\n",
    "\n",
    "print(\"Job ID:\", response.id)\n",
    "print(\"Status:\", response.status)"
   ]
  },
  {
   "cell_type": "code",
   "execution_count": 98,
   "id": "e6e58fae",
   "metadata": {},
   "outputs": [
    {
     "name": "stdout",
     "output_type": "stream",
     "text": [
      "Job ID: ftjob-5oXKu7dnBOXz3hWDOYdBztvT\n",
      "Status: succeeded\n",
      "Trained Tokens: 9939\n"
     ]
    }
   ],
   "source": [
    "response = client.fine_tuning.jobs.retrieve(job_id)\n",
    "\n",
    "print(\"Job ID:\", response.id)\n",
    "print(\"Status:\", response.status)\n",
    "print(\"Trained Tokens:\", response.trained_tokens)"
   ]
  },
  {
   "cell_type": "code",
   "execution_count": 99,
   "id": "ce888db1",
   "metadata": {},
   "outputs": [
    {
     "name": "stdout",
     "output_type": "stream",
     "text": [
      "Step 15/30: training loss=0.80, validation loss=0.90\n",
      "Step 16/30: training loss=0.97, validation loss=0.97\n",
      "Step 17/30: training loss=0.82, validation loss=1.32\n",
      "Step 18/30: training loss=0.77, validation loss=0.92\n",
      "Step 19/30: training loss=0.30, validation loss=0.97\n",
      "Step 20/30: training loss=0.88, validation loss=1.35, full validation loss=1.01\n",
      "Step 21/30: training loss=1.12, validation loss=0.94\n",
      "Step 22/30: training loss=0.84, validation loss=1.00\n",
      "Step 23/30: training loss=0.22, validation loss=1.39\n",
      "Step 24/30: training loss=0.71, validation loss=0.96\n",
      "Step 25/30: training loss=0.70, validation loss=1.03\n",
      "Step 26/30: training loss=0.84, validation loss=1.41\n",
      "Step 27/30: training loss=0.57, validation loss=0.98\n",
      "Step 28/30: training loss=0.66, validation loss=1.04\n",
      "Step 29/30: training loss=0.83, validation loss=1.41\n",
      "Step 30/30: training loss=0.86, validation loss=0.98, full validation loss=1.05\n",
      "Checkpoint created at step 10 with Snapshot ID: ft:gpt-3.5-turbo-0125:personal:qna-assist-di:9GAwMZmx:ckpt-step-10\n",
      "Checkpoint created at step 20 with Snapshot ID: ft:gpt-3.5-turbo-0125:personal:qna-assist-di:9GAwMECX:ckpt-step-20\n",
      "New fine-tuned model created: ft:gpt-3.5-turbo-0125:personal:qna-assist-di:9GAwMxch\n",
      "The job has successfully completed\n"
     ]
    }
   ],
   "source": [
    "response = client.fine_tuning.jobs.list_events(job_id)\n",
    "\n",
    "events = response.data\n",
    "events.reverse()\n",
    "\n",
    "for event in events:\n",
    "    print(event.message)"
   ]
  },
  {
   "cell_type": "code",
   "execution_count": 100,
   "id": "6513d6ac",
   "metadata": {},
   "outputs": [
    {
     "name": "stdout",
     "output_type": "stream",
     "text": [
      "Fine-tuned model ID: ft:gpt-3.5-turbo-0125:personal:qna-assist-di:9GAwMxch\n"
     ]
    }
   ],
   "source": [
    "response = client.fine_tuning.jobs.retrieve(job_id)\n",
    "fine_tuned_model_id = response.fine_tuned_model\n",
    "\n",
    "if fine_tuned_model_id is None: \n",
    "    raise RuntimeError(\"Fine-tuned model ID not found. Your job has likely not been completed yet.\")\n",
    "\n",
    "print(\"Fine-tuned model ID:\", fine_tuned_model_id)"
   ]
  },
  {
   "cell_type": "code",
   "execution_count": 104,
   "id": "b9a430db",
   "metadata": {},
   "outputs": [
    {
     "name": "stdout",
     "output_type": "stream",
     "text": [
      "[{'content': 'You will be provided queries from customer service department. '\n",
      "             'Your task is to answer the question using only the provided '\n",
      "             'steps with reference at the end. If the document does not '\n",
      "             'contain the information needed to answer this question then '\n",
      "             \"write: 'Insufficient information, please contact RBC Direct \"\n",
      "             'Investing customer service representative at 1-800-769-2560.',\n",
      "  'role': 'system'},\n",
      " {'content': 'How can I place a trade with RBC Direct Investing account?',\n",
      "  'role': 'user'}]\n"
     ]
    }
   ],
   "source": [
    "system_message = \"You will be provided queries from customer service department. Your task is to answer the question using only the provided steps with reference at the end. If the document does not contain the information needed to answer this question then write: 'Insufficient information, please contact RBC Direct Investing customer service representative at 1-800-769-2560.\"\n",
    "test_messages = []\n",
    "test_messages.append({\"role\": \"system\", \"content\": system_message})\n",
    "user_message = \"How can I place a trade with RBC Direct Investing account?\"\n",
    "test_messages.append({\"role\": \"user\", \"content\": user_message})\n",
    "\n",
    "pprint(test_messages)"
   ]
  },
  {
   "cell_type": "code",
   "execution_count": 105,
   "id": "9d4db0b0",
   "metadata": {},
   "outputs": [
    {
     "name": "stdout",
     "output_type": "stream",
     "text": [
      "To place a trade with RBC Direct Investing account, follow these steps:\n",
      "1. Log in to your RBC Direct Investing account.\n",
      "2. Click on the 'Trading' tab.\n",
      "3. Select 'Order Entry' from the drop-down menu.\n",
      "4. Enter the required information for your trade, including the symbol, quantity, and order type.\n",
      "5. Review the order details and click 'Submit Order' to complete the trade.\n",
      "6. Note: If you are placing a trade outside of regular market hours, ensure you have selected the appropriate order type (e.g., 'Extended Hours' or 'Good 'til Canceled').\n",
      "7. If you need assistance with placing a trade, contact RBC Direct Investing customer service at 1-800-769-2560.\n",
      "[Reference](https://www.rbcroyalbank.com/onlinebanking/bankingusertips/investments/adirect/trade.html)\n"
     ]
    }
   ],
   "source": [
    "response = client.chat.completions.create(\n",
    "    model=fine_tuned_model_id, messages=test_messages, temperature=0, max_tokens=200\n",
    ")\n",
    "print(response.choices[0].message.content)"
   ]
  },
  {
   "cell_type": "code",
   "execution_count": 183,
   "id": "bb6aed5f",
   "metadata": {},
   "outputs": [
    {
     "name": "stdout",
     "output_type": "stream",
     "text": [
      "[{'content': \"You will be provided queries from 'Direct Investing' customer \"\n",
      "             'service department at RBC. Classify each query to the right '\n",
      "             'queue category.\\n'\n",
      "             'Provide your output in a bullet point format with only one: '\n",
      "             'Queue Category\\n'\n",
      "             'Queue Categories are:\\n'\n",
      "             '--Queue 1: Account Management\\n'\n",
      "             '--Queue 2: Fund Transfer\\n'\n",
      "             '--Queue 3: External Transfers\\n'\n",
      "             '--Queue 4: Trading and Withdrawals',\n",
      "  'role': 'system'},\n",
      " {'content': 'How do I update my address with RBC Direct Investing?',\n",
      "  'role': 'user'}]\n",
      "Queue 1: Account Management\n"
     ]
    }
   ],
   "source": [
    "system_message = \"You will be provided queries from 'Direct Investing' customer service department at RBC. Classify each query to the right queue category.\\nProvide your output in a bullet point format with only one: Queue Category\\nQueue Categories are:\\n--Queue 1: Account Management\\n--Queue 2: Fund Transfer\\n--Queue 3: External Transfers\\n--Queue 4: Trading and Withdrawals\"\n",
    "test_messages = []\n",
    "test_messages.append({\"role\": \"system\", \"content\": system_message})\n",
    "user_message = \"How do I update my address with RBC Direct Investing?\"\n",
    "test_messages.append({\"role\": \"user\", \"content\": user_message})\n",
    "\n",
    "pprint(test_messages)\n",
    "response = client.chat.completions.create(\n",
    "    model=fine_tuned_model_id, messages=test_messages, temperature=0, max_tokens=50\n",
    ")\n",
    "print(response.choices[0].message.content)\n"
   ]
  },
  {
   "cell_type": "markdown",
   "id": "ab6e3daf",
   "metadata": {},
   "source": [
    "# LLM Fine Tuning - \"Transactional Assistance\""
   ]
  },
  {
   "cell_type": "code",
   "execution_count": 108,
   "id": "0141e57e",
   "metadata": {},
   "outputs": [
    {
     "name": "stdout",
     "output_type": "stream",
     "text": [
      "-------Training Data Prep Analysis-------\n",
      "Num examples: 13\n",
      "First example:\n",
      "{'role': 'system', 'content': \"You are given with the transactional data and your task is to process this tabular data containing both text and numerical values based on criteria then generate answers.\\n-The answers should be in bullets and sub-bullet points\\n-If the answer cannot be found in the Transactional data given below, write 'please contact RBC Direct Investing Team.'\\nTransactional Data :\\n| Account No | Request Date | Transactional Details | Transfer Date | Withdrawal Amount | Deposit Amount | Balance Amount | Expected Transfer Days | Status | Note | Last Note Date |\\n|------------|--------------|---------------------|---------------|----------------|-------------|-------------|-----------------------|--------|------|----------------|\\n| 123456 | 2024-01-05 | Transferred cash from TD Bank to RBC | 2024-02-14 | - | 75000 | 150000 | 10 | Opened | Contacted customer to confirm transaction | 2024-02-14 |\\n| 789012 | 2024-01-10 | Transferred funds from CIBC to RBC | 2024-01-25 | - | 100000 | 200000 | 15 | Opened | Resolved missing withdrawal transaction information | 2024-01-25 |\\n| 345678 | 2024-01-15 | Withdrew cash for investment | 2024-02-05 | 50000 | - | 150000 | - | Closed | - | - |\\n| 901234 | 2024-01-20 | Deposited funds from BMO into account | 2024-02-07 | - | 85000 | 185000 | 18 | Opened | Verified deposit with customer | 2024-02-07 |\\n| 567890 | 2024-01-25 | Transferred money from RBC to TD Bank | 2024-02-10 | - | 60000 | 160000 | 16 | Opened | Sent confirmation email to customer | 2024-02-10 |\\n| 234567 | 2024-02-03 | Withdrew funds for stock purchase | 2024-02-25 | 70000 | - | 160000 | - | Closed | - | - |\\n| 890123 | 2024-02-08 | Transferred cash from ScotiaBank to RBC | 2024-02-28 | - | 95000 | 195000 | 20 | Opened | Called customer on the same day | 2024-02-28 |\\n| 456789 | 2024-02-12 | Deposited funds from RBC into account | 2024-03-06 | - | 80000 | 180000 | 22 | Opened | Resolved deposit discrepancy | 2024-03-06 |\\n| 123456 | 2024-02-18 | Withdrew cash for investment | 2024-03-12 | 45000 | - | 135000 | - | Closed | -\"}\n",
      "{'role': 'user', 'content': \"Give me all the accounts with the Expected transfer days, Note, and Last Note date where Status is 'opened'\"}\n",
      "{'role': 'assistant', 'content': 'Account: 123456\\nExpected transfer days: 10\\nNote: Contacted customer to confirm transaction\\nLast Note date: 2024-02-14\\n++++++++++++++++++\\nAccount: 789012\\nExpected transfer days: 15\\nNote: Resolved missing withdrawal transaction information\\nLast Note date: 2024-01-25\\n++++++++++++++++++\\nAccount: 901234\\nExpected transfer days: 18\\nNote: Verified deposit with customer\\nLast Note date: 2024-02-07\\n++++++++++++++++++\\nAccount: 567890\\nExpected transfer days: 16\\nNote: Sent confirmation email to customer\\nLast Note date: 2024-02-10'}\n",
      "No errors found\n",
      "Num examples missing system message: 0\n",
      "Num examples missing user message: 0\n",
      "\n",
      "#### Distribution of num_messages_per_example:\n",
      "min / max: 3, 3\n",
      "mean / median: 3.0, 3.0\n",
      "p5 / p95: 3.0, 3.0\n",
      "\n",
      "#### Distribution of num_total_tokens_per_example:\n",
      "min / max: 672, 809\n",
      "mean / median: 719.8461538461538, 715.0\n",
      "p5 / p95: 678.0, 782.2\n",
      "\n",
      "#### Distribution of num_assistant_tokens_per_example:\n",
      "min / max: 7, 138\n",
      "mean / median: 50.07692307692308, 47.0\n",
      "p5 / p95: 11.400000000000002, 112.00000000000004\n",
      "\n",
      "0 examples may be over the 4096 token limit, they will be truncated during fine-tuning\n",
      "Dataset has ~9358 tokens that will be charged for during training\n",
      "By default, you'll train for 7 epochs on this dataset\n",
      "By default, you'll be charged for ~65506 tokens\n"
     ]
    }
   ],
   "source": [
    "training_file_name = './Transactional/training_DI_txn.jsonl'\n",
    "validation_file_name = './Transactional/validation_DI_txn.jsonl'\n",
    "\n",
    "# Perform data prep and analysis - Token Counts, and file validation\n",
    "print(\"-------Training Data Prep Analysis-------\")\n",
    "complete_data_prep_analysis(training_file_name)\n"
   ]
  },
  {
   "cell_type": "code",
   "execution_count": 109,
   "id": "fb5a4303",
   "metadata": {},
   "outputs": [
    {
     "name": "stdout",
     "output_type": "stream",
     "text": [
      "Num examples: 6\n",
      "First example:\n",
      "{'role': 'system', 'content': \"You are given with the transactional data and your task is to process this tabular data containing both text and numerical values based on criteria then generate answers.\\n-The answers should be in bullets and sub-bullet points\\n-If the answer cannot be found in the Transactional data given below, write 'please contact RBC Direct Investing Team.'\\nTransactional Data :\\n| Account No | Request Date | Transactional Details | Transfer Date | Withdrawal Amount | Deposit Amount | Balance Amount | Expected Transfer Days | Status | Note | Last Note Date |\\n|------------|--------------|---------------------|---------------|----------------|-------------|-------------|-----------------------|--------|------|----------------|\\n| 123456 | 2024-01-05 | Transferred cash from TD Bank to RBC | 2024-02-14 | - | 75000 | 150000 | 10 | Opened | Contacted customer to confirm transaction | 2024-02-14 |\\n| 789012 | 2024-01-10 | Transferred funds from CIBC to RBC | 2024-01-25 | - | 100000 | 200000 | 15 | Opened | Resolved missing withdrawal transaction information | 2024-01-25 |\\n| 345678 | 2024-01-15 | Withdrew cash for investment | 2024-02-05 | 50000 | - | 150000 | - | Closed | - | - |\\n| 901234 | 2024-01-20 | Deposited funds from BMO into account | 2024-02-07 | - | 85000 | 185000 | 18 | Opened | Verified deposit with customer | 2024-02-07 |\\n| 567890 | 2024-01-25 | Transferred money from RBC to TD Bank | 2024-02-10 | - | 60000 | 160000 | 16 | Opened | Sent confirmation email to customer | 2024-02-10 |\\n| 234567 | 2024-02-03 | Withdrew funds for stock purchase | 2024-02-25 | 70000 | - | 160000 | - | Closed | - | - |\\n| 890123 | 2024-02-08 | Transferred cash from ScotiaBank to RBC | 2024-02-28 | - | 95000 | 195000 | 20 | Opened | Called customer on the same day | 2024-02-28 |\\n| 456789 | 2024-02-12 | Deposited funds from RBC into account | 2024-03-06 | - | 80000 | 180000 | 22 | Opened | Resolved deposit discrepancy | 2024-03-06 |\\n| 123456 | 2024-02-18 | Withdrew cash for investment | 2024-03-12 | 45000 | - | 135000 | - | Closed | -\"}\n",
      "{'role': 'user', 'content': \"List all accounts opened after February 1, 2024, with a note mentioning 'customer contact'\"}\n",
      "{'role': 'assistant', 'content': 'Account: 890123\\nRequest Date: 2024-02-08\\nNote: Called customer on the same day'}\n",
      "No errors found\n",
      "Num examples missing system message: 0\n",
      "Num examples missing user message: 0\n",
      "\n",
      "#### Distribution of num_messages_per_example:\n",
      "min / max: 3, 3\n",
      "mean / median: 3.0, 3.0\n",
      "p5 / p95: 3.0, 3.0\n",
      "\n",
      "#### Distribution of num_total_tokens_per_example:\n",
      "min / max: 672, 781\n",
      "mean / median: 716.1666666666666, 716.5\n",
      "p5 / p95: 672.0, 760.0\n",
      "\n",
      "#### Distribution of num_assistant_tokens_per_example:\n",
      "min / max: 8, 113\n",
      "mean / median: 48.0, 45.5\n",
      "p5 / p95: 8.0, 90.5\n",
      "\n",
      "0 examples may be over the 4096 token limit, they will be truncated during fine-tuning\n",
      "Dataset has ~4297 tokens that will be charged for during training\n",
      "By default, you'll train for 16 epochs on this dataset\n",
      "By default, you'll be charged for ~68752 tokens\n"
     ]
    }
   ],
   "source": [
    "complete_data_prep_analysis(validation_file_name)"
   ]
  },
  {
   "cell_type": "code",
   "execution_count": 110,
   "id": "806a56a6",
   "metadata": {},
   "outputs": [
    {
     "name": "stdout",
     "output_type": "stream",
     "text": [
      "Training file ID: file-ebKtNr4G1PPX7aEFfs5DD1E0\n",
      "Validation file ID: file-9CoT1nWGFJXS78zzQ7fO7HFO\n"
     ]
    }
   ],
   "source": [
    "# Upload the training and validation dataset files to Azure OpenAI with the SDK.\n",
    "\n",
    "with open(training_file_name, \"rb\") as training_fd:\n",
    "    training_response = client.files.create(\n",
    "        file=training_fd, purpose=\"fine-tune\"\n",
    "    )\n",
    "\n",
    "training_file_id = training_response.id\n",
    "\n",
    "with open(validation_file_name, \"rb\") as validation_fd:\n",
    "    validation_response = client.files.create(\n",
    "        file=validation_fd, purpose=\"fine-tune\"\n",
    "    )\n",
    "validation_file_id = validation_response.id\n",
    "\n",
    "print(\"Training file ID:\", training_file_id)\n",
    "print(\"Validation file ID:\", validation_file_id)"
   ]
  },
  {
   "cell_type": "code",
   "execution_count": 111,
   "id": "48035e12",
   "metadata": {},
   "outputs": [
    {
     "name": "stdout",
     "output_type": "stream",
     "text": [
      "Job ID: ftjob-BKhVDlxr13kb7utrdB7zh8b8\n",
      "Status: validating_files\n"
     ]
    }
   ],
   "source": [
    "response = client.fine_tuning.jobs.create(\n",
    "  training_file=training_file_id,\n",
    "  validation_file=validation_file_id,\n",
    "  hyperparameters={\n",
    "    \"n_epochs\": 3,\n",
    "    \"learning_rate_multiplier\": 2,\n",
    "    \"batch_size\": 1,\n",
    "  },\n",
    "  model=fine_tuned_model_id,\n",
    "  suffix=\"DI-Txn-Assist\",\n",
    ")\n",
    "\n",
    "job_id = response.id\n",
    "\n",
    "print(\"Job ID:\", response.id)\n",
    "print(\"Status:\", response.status)"
   ]
  },
  {
   "cell_type": "code",
   "execution_count": 122,
   "id": "b8d3cd71",
   "metadata": {},
   "outputs": [
    {
     "data": {
      "text/plain": [
       "'ft:gpt-3.5-turbo-0125:personal:di-txn-assist:9GCDhNRR'"
      ]
     },
     "execution_count": 122,
     "metadata": {},
     "output_type": "execute_result"
    }
   ],
   "source": [
    "fine_tuned_model_id"
   ]
  },
  {
   "cell_type": "code",
   "execution_count": 119,
   "id": "50ad1f2d",
   "metadata": {},
   "outputs": [
    {
     "name": "stdout",
     "output_type": "stream",
     "text": [
      "Job ID: ftjob-BKhVDlxr13kb7utrdB7zh8b8\n",
      "Status: succeeded\n",
      "Trained Tokens: 27996\n"
     ]
    }
   ],
   "source": [
    "response = client.fine_tuning.jobs.retrieve(job_id)\n",
    "\n",
    "print(\"Job ID:\", response.id)\n",
    "print(\"Status:\", response.status)\n",
    "print(\"Trained Tokens:\", response.trained_tokens)"
   ]
  },
  {
   "cell_type": "code",
   "execution_count": 120,
   "id": "501bfec1",
   "metadata": {},
   "outputs": [
    {
     "name": "stdout",
     "output_type": "stream",
     "text": [
      "Step 24/39: training loss=0.26, validation loss=0.64\n",
      "Step 25/39: training loss=0.27, validation loss=0.01\n",
      "Step 26/39: training loss=0.14, validation loss=0.12, full validation loss=0.17\n",
      "Step 27/39: training loss=0.01, validation loss=0.66\n",
      "Step 28/39: training loss=0.05, validation loss=0.18\n",
      "Step 29/39: training loss=0.08, validation loss=0.11\n",
      "Step 30/39: training loss=0.06, validation loss=0.66\n",
      "Step 31/39: training loss=0.17, validation loss=0.00\n",
      "Step 32/39: training loss=0.08, validation loss=0.07\n",
      "Step 33/39: training loss=0.04, validation loss=0.64\n",
      "Step 34/39: training loss=0.11, validation loss=0.12\n",
      "Step 35/39: training loss=0.62, validation loss=0.06\n",
      "Step 36/39: training loss=0.00, validation loss=0.55\n",
      "Step 37/39: training loss=0.03, validation loss=0.00\n",
      "Step 38/39: training loss=0.05, validation loss=0.05\n",
      "Step 39/39: training loss=0.56, validation loss=0.55, full validation loss=0.12\n",
      "Checkpoint created at step 13 with Snapshot ID: ft:gpt-3.5-turbo-0125:personal:di-txn-assist:9GCDg7cm:ckpt-step-13\n",
      "Checkpoint created at step 26 with Snapshot ID: ft:gpt-3.5-turbo-0125:personal:di-txn-assist:9GCDhdd4:ckpt-step-26\n",
      "New fine-tuned model created: ft:gpt-3.5-turbo-0125:personal:di-txn-assist:9GCDhNRR\n",
      "The job has successfully completed\n"
     ]
    }
   ],
   "source": [
    "response = client.fine_tuning.jobs.list_events(job_id)\n",
    "\n",
    "events = response.data\n",
    "events.reverse()\n",
    "\n",
    "for event in events:\n",
    "    print(event.message)"
   ]
  },
  {
   "cell_type": "code",
   "execution_count": 184,
   "id": "f43c135d",
   "metadata": {},
   "outputs": [
    {
     "name": "stdout",
     "output_type": "stream",
     "text": [
      "Fine-tuned model ID: ft:gpt-3.5-turbo-0125:personal:di-txn-assist:9GCDhNRR\n"
     ]
    }
   ],
   "source": [
    "response = client.fine_tuning.jobs.retrieve(job_id)\n",
    "fine_tuned_model_id = response.fine_tuned_model\n",
    "\n",
    "if fine_tuned_model_id is None: \n",
    "    raise RuntimeError(\"Fine-tuned model ID not found. Your job has likely not been completed yet.\")\n",
    "\n",
    "print(\"Fine-tuned model ID:\", fine_tuned_model_id)"
   ]
  },
  {
   "cell_type": "code",
   "execution_count": 123,
   "id": "8ee73720",
   "metadata": {},
   "outputs": [
    {
     "name": "stdout",
     "output_type": "stream",
     "text": [
      "[{'content': 'You are given with the transactional data and your task is to '\n",
      "             'process this tabular data containing both text and numerical '\n",
      "             'values based on criteria then generate answers.\\n'\n",
      "             '-The answers should be in bullets and sub-bullet points\\n'\n",
      "             '-If the answer cannot be found in the Transactional data given '\n",
      "             \"below, write 'please contact RBC Direct Investing Team.'\\n\"\n",
      "             'Transactional Data :\\n'\n",
      "             '| Account No | Request Date | Transactional Details | Transfer '\n",
      "             'Date | Withdrawal Amount | Deposit Amount | Balance Amount | '\n",
      "             'Expected Transfer Days | Status | Note | Last Note Date |\\n'\n",
      "             '|------------|--------------|---------------------|---------------|----------------|-------------|-------------|-----------------------|--------|------|----------------|\\n'\n",
      "             '| 123456 | 2024-01-05 | Transferred cash from TD Bank to RBC | '\n",
      "             '2024-02-14 | - | 75000 | 150000 | 10 | Opened | Contacted '\n",
      "             'customer to confirm transaction | 2024-02-14 |\\n'\n",
      "             '| 789012 | 2024-01-10 | Transferred funds from CIBC to RBC | '\n",
      "             '2024-01-25 | - | 100000 | 200000 | 15 | Opened | Resolved '\n",
      "             'missing withdrawal transaction information | 2024-01-25 |\\n'\n",
      "             '| 345678 | 2024-01-15 | Withdrew cash for investment | '\n",
      "             '2024-02-05 | 50000 | - | 150000 | - | Closed | - | - |\\n'\n",
      "             '| 901234 | 2024-01-20 | Deposited funds from BMO into account | '\n",
      "             '2024-02-07 | - | 85000 | 185000 | 18 | Opened | Verified deposit '\n",
      "             'with customer | 2024-02-07 |\\n'\n",
      "             '| 567890 | 2024-01-25 | Transferred money from RBC to TD Bank | '\n",
      "             '2024-02-10 | - | 60000 | 160000 | 16 | Opened | Sent '\n",
      "             'confirmation email to customer | 2024-02-10 |\\n'\n",
      "             '| 234567 | 2024-02-03 | Withdrew funds for stock purchase | '\n",
      "             '2024-02-25 | 70000 | - | 160000 | - | Closed | - | - |\\n'\n",
      "             '| 890123 | 2024-02-08 | Transferred cash from ScotiaBank to RBC '\n",
      "             '| 2024-02-28 | - | 95000 | 195000 | 20 | Opened | Called '\n",
      "             'customer on the same day | 2024-02-28 |\\n'\n",
      "             '| 456789 | 2024-02-12 | Deposited funds from RBC into account | '\n",
      "             '2024-03-06 | - | 80000 | 180000 | 22 | Opened | Resolved deposit '\n",
      "             'discrepancy | 2024-03-06 |\\n'\n",
      "             '| 123456 | 2024-02-18 | Withdrew cash for investment | '\n",
      "             '2024-03-12 | 45000 | - | 135000 | - | Closed | -',\n",
      "  'role': 'system'},\n",
      " {'content': \"List all accounts with a status of 'Closed' and a balance amount \"\n",
      "             'greater than $150,000',\n",
      "  'role': 'user'}]\n"
     ]
    }
   ],
   "source": [
    "system_message = \"You are given with the transactional data and your task is to process this tabular data containing both text and numerical values based on criteria then generate answers.\\n-The answers should be in bullets and sub-bullet points\\n-If the answer cannot be found in the Transactional data given below, write 'please contact RBC Direct Investing Team.'\\nTransactional Data :\\n| Account No | Request Date | Transactional Details | Transfer Date | Withdrawal Amount | Deposit Amount | Balance Amount | Expected Transfer Days | Status | Note | Last Note Date |\\n|------------|--------------|---------------------|---------------|----------------|-------------|-------------|-----------------------|--------|------|----------------|\\n| 123456 | 2024-01-05 | Transferred cash from TD Bank to RBC | 2024-02-14 | - | 75000 | 150000 | 10 | Opened | Contacted customer to confirm transaction | 2024-02-14 |\\n| 789012 | 2024-01-10 | Transferred funds from CIBC to RBC | 2024-01-25 | - | 100000 | 200000 | 15 | Opened | Resolved missing withdrawal transaction information | 2024-01-25 |\\n| 345678 | 2024-01-15 | Withdrew cash for investment | 2024-02-05 | 50000 | - | 150000 | - | Closed | - | - |\\n| 901234 | 2024-01-20 | Deposited funds from BMO into account | 2024-02-07 | - | 85000 | 185000 | 18 | Opened | Verified deposit with customer | 2024-02-07 |\\n| 567890 | 2024-01-25 | Transferred money from RBC to TD Bank | 2024-02-10 | - | 60000 | 160000 | 16 | Opened | Sent confirmation email to customer | 2024-02-10 |\\n| 234567 | 2024-02-03 | Withdrew funds for stock purchase | 2024-02-25 | 70000 | - | 160000 | - | Closed | - | - |\\n| 890123 | 2024-02-08 | Transferred cash from ScotiaBank to RBC | 2024-02-28 | - | 95000 | 195000 | 20 | Opened | Called customer on the same day | 2024-02-28 |\\n| 456789 | 2024-02-12 | Deposited funds from RBC into account | 2024-03-06 | - | 80000 | 180000 | 22 | Opened | Resolved deposit discrepancy | 2024-03-06 |\\n| 123456 | 2024-02-18 | Withdrew cash for investment | 2024-03-12 | 45000 | - | 135000 | - | Closed | -\"\n",
    "test_messages = []\n",
    "test_messages.append({\"role\": \"system\", \"content\": system_message})\n",
    "user_message = \"List all accounts with a status of 'Closed' and a balance amount greater than $150,000\"\n",
    "test_messages.append({\"role\": \"user\", \"content\": user_message})\n",
    "\n",
    "pprint(test_messages)"
   ]
  },
  {
   "cell_type": "code",
   "execution_count": 124,
   "id": "3d0230e9",
   "metadata": {},
   "outputs": [
    {
     "name": "stdout",
     "output_type": "stream",
     "text": [
      "Account: 234567\n",
      "Balance Amount: $160,000\n",
      "Withdrawal Amount: $70,000\n",
      "++++++++++++++++++\n",
      "Account: 789012\n",
      "Balance Amount: $200,000\n",
      "Withdrawal Amount: $100,000\n"
     ]
    }
   ],
   "source": [
    "response = client.chat.completions.create(\n",
    "    model=fine_tuned_model_id, messages=test_messages, temperature=0, max_tokens=200\n",
    ")\n",
    "print(response.choices[0].message.content)"
   ]
  },
  {
   "cell_type": "code",
   "execution_count": 125,
   "id": "b934ce04",
   "metadata": {},
   "outputs": [
    {
     "name": "stdout",
     "output_type": "stream",
     "text": [
      "[{'content': 'You are given with the transactional data and your task is to '\n",
      "             'process this tabular data containing both text and numerical '\n",
      "             'values based on criteria then generate answers.\\n'\n",
      "             '-The answers should be in bullets and sub-bullet points\\n'\n",
      "             '-If the answer cannot be found in the Transactional data given '\n",
      "             \"below, write 'please contact RBC Direct Investing Team.'\\n\"\n",
      "             'Transactional Data :\\n'\n",
      "             '| Account No | Request Date | Transactional Details | Transfer '\n",
      "             'Date | Withdrawal Amount | Deposit Amount | Balance Amount | '\n",
      "             'Expected Transfer Days | Status | Note | Last Note Date |\\n'\n",
      "             '|------------|--------------|---------------------|---------------|----------------|-------------|-------------|-----------------------|--------|------|----------------|\\n'\n",
      "             '| 123456 | 2024-01-05 | Transferred cash from TD Bank to RBC | '\n",
      "             '2024-02-14 | - | 75000 | 150000 | 10 | Opened | Contacted '\n",
      "             'customer to confirm transaction | 2024-02-14 |\\n'\n",
      "             '| 789012 | 2024-01-10 | Transferred funds from CIBC to RBC | '\n",
      "             '2024-01-25 | - | 100000 | 200000 | 15 | Opened | Resolved '\n",
      "             'missing withdrawal transaction information | 2024-01-25 |\\n'\n",
      "             '| 345678 | 2024-01-15 | Withdrew cash for investment | '\n",
      "             '2024-02-05 | 50000 | - | 150000 | - | Closed | - | - |\\n'\n",
      "             '| 901234 | 2024-01-20 | Deposited funds from BMO into account | '\n",
      "             '2024-02-07 | - | 85000 | 185000 | 18 | Opened | Verified deposit '\n",
      "             'with customer | 2024-02-07 |\\n'\n",
      "             '| 567890 | 2024-01-25 | Transferred money from RBC to TD Bank | '\n",
      "             '2024-02-10 | - | 60000 | 160000 | 16 | Opened | Sent '\n",
      "             'confirmation email to customer | 2024-02-10 |\\n'\n",
      "             '| 234567 | 2024-02-03 | Withdrew funds for stock purchase | '\n",
      "             '2024-02-25 | 70000 | - | 160000 | - | Closed | - | - |\\n'\n",
      "             '| 890123 | 2024-02-08 | Transferred cash from ScotiaBank to RBC '\n",
      "             '| 2024-02-28 | - | 95000 | 195000 | 20 | Opened | Called '\n",
      "             'customer on the same day | 2024-02-28 |\\n'\n",
      "             '| 456789 | 2024-02-12 | Deposited funds from RBC into account | '\n",
      "             '2024-03-06 | - | 80000 | 180000 | 22 | Opened | Resolved deposit '\n",
      "             'discrepancy | 2024-03-06 |\\n'\n",
      "             '| 123456 | 2024-02-18 | Withdrew cash for investment | '\n",
      "             '2024-03-12 | 45000 | - | 135000 | - | Closed | -',\n",
      "  'role': 'system'},\n",
      " {'content': \"Give me all accounts where the 'Expected Transfer Days' is \"\n",
      "             'greater than 20',\n",
      "  'role': 'user'}]\n"
     ]
    }
   ],
   "source": [
    "system_message = \"You are given with the transactional data and your task is to process this tabular data containing both text and numerical values based on criteria then generate answers.\\n-The answers should be in bullets and sub-bullet points\\n-If the answer cannot be found in the Transactional data given below, write 'please contact RBC Direct Investing Team.'\\nTransactional Data :\\n| Account No | Request Date | Transactional Details | Transfer Date | Withdrawal Amount | Deposit Amount | Balance Amount | Expected Transfer Days | Status | Note | Last Note Date |\\n|------------|--------------|---------------------|---------------|----------------|-------------|-------------|-----------------------|--------|------|----------------|\\n| 123456 | 2024-01-05 | Transferred cash from TD Bank to RBC | 2024-02-14 | - | 75000 | 150000 | 10 | Opened | Contacted customer to confirm transaction | 2024-02-14 |\\n| 789012 | 2024-01-10 | Transferred funds from CIBC to RBC | 2024-01-25 | - | 100000 | 200000 | 15 | Opened | Resolved missing withdrawal transaction information | 2024-01-25 |\\n| 345678 | 2024-01-15 | Withdrew cash for investment | 2024-02-05 | 50000 | - | 150000 | - | Closed | - | - |\\n| 901234 | 2024-01-20 | Deposited funds from BMO into account | 2024-02-07 | - | 85000 | 185000 | 18 | Opened | Verified deposit with customer | 2024-02-07 |\\n| 567890 | 2024-01-25 | Transferred money from RBC to TD Bank | 2024-02-10 | - | 60000 | 160000 | 16 | Opened | Sent confirmation email to customer | 2024-02-10 |\\n| 234567 | 2024-02-03 | Withdrew funds for stock purchase | 2024-02-25 | 70000 | - | 160000 | - | Closed | - | - |\\n| 890123 | 2024-02-08 | Transferred cash from ScotiaBank to RBC | 2024-02-28 | - | 95000 | 195000 | 20 | Opened | Called customer on the same day | 2024-02-28 |\\n| 456789 | 2024-02-12 | Deposited funds from RBC into account | 2024-03-06 | - | 80000 | 180000 | 22 | Opened | Resolved deposit discrepancy | 2024-03-06 |\\n| 123456 | 2024-02-18 | Withdrew cash for investment | 2024-03-12 | 45000 | - | 135000 | - | Closed | -\"\n",
    "test_messages = []\n",
    "test_messages.append({\"role\": \"system\", \"content\": system_message})\n",
    "user_message = \"Give me all accounts where the 'Expected Transfer Days' is greater than 20\"\n",
    "test_messages.append({\"role\": \"user\", \"content\": user_message})\n",
    "\n",
    "pprint(test_messages)"
   ]
  },
  {
   "cell_type": "code",
   "execution_count": 126,
   "id": "14e77e2f",
   "metadata": {},
   "outputs": [
    {
     "name": "stdout",
     "output_type": "stream",
     "text": [
      "Account: 456789\n",
      "Expected Transfer Days: 22\n",
      "++++++++++++++++++\n",
      "Account: 890123\n",
      "Expected Transfer Days: 20\n"
     ]
    }
   ],
   "source": [
    "response = client.chat.completions.create(\n",
    "    model=fine_tuned_model_id, messages=test_messages, temperature=0, max_tokens=200\n",
    ")\n",
    "print(response.choices[0].message.content)"
   ]
  },
  {
   "cell_type": "code",
   "execution_count": 127,
   "id": "572dd1e3",
   "metadata": {},
   "outputs": [
    {
     "name": "stdout",
     "output_type": "stream",
     "text": [
      "[{'content': 'You are given with the transactional data and your task is to '\n",
      "             'process this tabular data containing both text and numerical '\n",
      "             'values based on criteria then generate answers.\\n'\n",
      "             '-The answers should be in bullets and sub-bullet points\\n'\n",
      "             '-If the answer cannot be found in the Transactional data given '\n",
      "             \"below, write 'please contact RBC Direct Investing Team.'\\n\"\n",
      "             'Transactional Data :\\n'\n",
      "             '| Account No | Request Date | Transactional Details | Transfer '\n",
      "             'Date | Withdrawal Amount | Deposit Amount | Balance Amount | '\n",
      "             'Expected Transfer Days | Status | Note | Last Note Date |\\n'\n",
      "             '|------------|--------------|---------------------|---------------|----------------|-------------|-------------|-----------------------|--------|------|----------------|\\n'\n",
      "             '| 123456 | 2024-01-05 | Transferred cash from TD Bank to RBC | '\n",
      "             '2024-02-14 | - | 75000 | 150000 | 10 | Opened | Contacted '\n",
      "             'customer to confirm transaction | 2024-02-14 |\\n'\n",
      "             '| 789012 | 2024-01-10 | Transferred funds from CIBC to RBC | '\n",
      "             '2024-01-25 | - | 100000 | 200000 | 15 | Opened | Resolved '\n",
      "             'missing withdrawal transaction information | 2024-01-25 |\\n'\n",
      "             '| 345678 | 2024-01-15 | Withdrew cash for investment | '\n",
      "             '2024-02-05 | 50000 | - | 150000 | - | Closed | - | - |\\n'\n",
      "             '| 901234 | 2024-01-20 | Deposited funds from BMO into account | '\n",
      "             '2024-02-07 | - | 85000 | 185000 | 18 | Opened | Verified deposit '\n",
      "             'with customer | 2024-02-07 |\\n'\n",
      "             '| 567890 | 2024-01-25 | Transferred money from RBC to TD Bank | '\n",
      "             '2024-02-10 | - | 60000 | 160000 | 16 | Opened | Sent '\n",
      "             'confirmation email to customer | 2024-02-10 |\\n'\n",
      "             '| 234567 | 2024-02-03 | Withdrew funds for stock purchase | '\n",
      "             '2024-02-25 | 70000 | - | 160000 | - | Closed | - | - |\\n'\n",
      "             '| 890123 | 2024-02-08 | Transferred cash from ScotiaBank to RBC '\n",
      "             '| 2024-02-28 | - | 95000 | 195000 | 20 | Opened | Called '\n",
      "             'customer on the same day | 2024-02-28 |\\n'\n",
      "             '| 456789 | 2024-02-12 | Deposited funds from RBC into account | '\n",
      "             '2024-03-06 | - | 80000 | 180000 | 22 | Opened | Resolved deposit '\n",
      "             'discrepancy | 2024-03-06 |\\n'\n",
      "             '| 123456 | 2024-02-18 | Withdrew cash for investment | '\n",
      "             '2024-03-12 | 45000 | - | 135000 | - | Closed | -',\n",
      "  'role': 'system'},\n",
      " {'content': \"Give me all accounts where the transaction detail - 'Withdrew \"\n",
      "             \"cash for investment'\",\n",
      "  'role': 'user'}]\n"
     ]
    }
   ],
   "source": [
    "system_message = \"You are given with the transactional data and your task is to process this tabular data containing both text and numerical values based on criteria then generate answers.\\n-The answers should be in bullets and sub-bullet points\\n-If the answer cannot be found in the Transactional data given below, write 'please contact RBC Direct Investing Team.'\\nTransactional Data :\\n| Account No | Request Date | Transactional Details | Transfer Date | Withdrawal Amount | Deposit Amount | Balance Amount | Expected Transfer Days | Status | Note | Last Note Date |\\n|------------|--------------|---------------------|---------------|----------------|-------------|-------------|-----------------------|--------|------|----------------|\\n| 123456 | 2024-01-05 | Transferred cash from TD Bank to RBC | 2024-02-14 | - | 75000 | 150000 | 10 | Opened | Contacted customer to confirm transaction | 2024-02-14 |\\n| 789012 | 2024-01-10 | Transferred funds from CIBC to RBC | 2024-01-25 | - | 100000 | 200000 | 15 | Opened | Resolved missing withdrawal transaction information | 2024-01-25 |\\n| 345678 | 2024-01-15 | Withdrew cash for investment | 2024-02-05 | 50000 | - | 150000 | - | Closed | - | - |\\n| 901234 | 2024-01-20 | Deposited funds from BMO into account | 2024-02-07 | - | 85000 | 185000 | 18 | Opened | Verified deposit with customer | 2024-02-07 |\\n| 567890 | 2024-01-25 | Transferred money from RBC to TD Bank | 2024-02-10 | - | 60000 | 160000 | 16 | Opened | Sent confirmation email to customer | 2024-02-10 |\\n| 234567 | 2024-02-03 | Withdrew funds for stock purchase | 2024-02-25 | 70000 | - | 160000 | - | Closed | - | - |\\n| 890123 | 2024-02-08 | Transferred cash from ScotiaBank to RBC | 2024-02-28 | - | 95000 | 195000 | 20 | Opened | Called customer on the same day | 2024-02-28 |\\n| 456789 | 2024-02-12 | Deposited funds from RBC into account | 2024-03-06 | - | 80000 | 180000 | 22 | Opened | Resolved deposit discrepancy | 2024-03-06 |\\n| 123456 | 2024-02-18 | Withdrew cash for investment | 2024-03-12 | 45000 | - | 135000 | - | Closed | -\"\n",
    "test_messages = []\n",
    "test_messages.append({\"role\": \"system\", \"content\": system_message})\n",
    "user_message = \"Give me all accounts where the transaction detail - 'Withdrew cash for investment'\"\n",
    "test_messages.append({\"role\": \"user\", \"content\": user_message})\n",
    "\n",
    "pprint(test_messages)"
   ]
  },
  {
   "cell_type": "code",
   "execution_count": 128,
   "id": "e03fce08",
   "metadata": {},
   "outputs": [
    {
     "name": "stdout",
     "output_type": "stream",
     "text": [
      "Account: 345678\n",
      "Withdrawal Amount: $50,000\n",
      "Balance Amount: $150,000\n",
      "Withdrawal Date: 2024-02-05\n",
      "++++++++++++++++++\n",
      "Account: 123456\n",
      "Withdrawal Amount: $45,000\n",
      "Balance Amount: $135,000\n",
      "Withdrawal Date: 2024-03-12\n"
     ]
    }
   ],
   "source": [
    "response = client.chat.completions.create(\n",
    "    model=fine_tuned_model_id, messages=test_messages, temperature=0, max_tokens=200\n",
    ")\n",
    "print(response.choices[0].message.content)"
   ]
  },
  {
   "cell_type": "code",
   "execution_count": 129,
   "id": "1492142f",
   "metadata": {},
   "outputs": [
    {
     "name": "stdout",
     "output_type": "stream",
     "text": [
      "[{'content': 'You are given with the transactional data and your task is to '\n",
      "             'process this tabular data containing both text and numerical '\n",
      "             'values based on criteria then generate answers.\\n'\n",
      "             '-The answers should be in bullets and sub-bullet points\\n'\n",
      "             '-If the answer cannot be found in the Transactional data given '\n",
      "             \"below, write 'please contact RBC Direct Investing Team.'\\n\"\n",
      "             'Transactional Data :\\n'\n",
      "             '| Account No | Request Date | Transactional Details | Transfer '\n",
      "             'Date | Withdrawal Amount | Deposit Amount | Balance Amount | '\n",
      "             'Expected Transfer Days | Status | Note | Last Note Date |\\n'\n",
      "             '|------------|--------------|---------------------|---------------|----------------|-------------|-------------|-----------------------|--------|------|----------------|\\n'\n",
      "             '| 123456 | 2024-01-05 | Transferred cash from TD Bank to RBC | '\n",
      "             '2024-02-14 | - | 75000 | 150000 | 10 | Opened | Contacted '\n",
      "             'customer to confirm transaction | 2024-02-14 |\\n'\n",
      "             '| 789012 | 2024-01-10 | Transferred funds from CIBC to RBC | '\n",
      "             '2024-01-25 | - | 100000 | 200000 | 15 | Opened | Resolved '\n",
      "             'missing withdrawal transaction information | 2024-01-25 |\\n'\n",
      "             '| 345678 | 2024-01-15 | Withdrew cash for investment | '\n",
      "             '2024-02-05 | 50000 | - | 150000 | - | Closed | - | - |\\n'\n",
      "             '| 901234 | 2024-01-20 | Deposited funds from BMO into account | '\n",
      "             '2024-02-07 | - | 85000 | 185000 | 18 | Opened | Verified deposit '\n",
      "             'with customer | 2024-02-07 |\\n'\n",
      "             '| 567890 | 2024-01-25 | Transferred money from RBC to TD Bank | '\n",
      "             '2024-02-10 | - | 60000 | 160000 | 16 | Opened | Sent '\n",
      "             'confirmation email to customer | 2024-02-10 |\\n'\n",
      "             '| 234567 | 2024-02-03 | Withdrew funds for stock purchase | '\n",
      "             '2024-02-25 | 70000 | - | 160000 | - | Closed | - | - |\\n'\n",
      "             '| 890123 | 2024-02-08 | Transferred cash from ScotiaBank to RBC '\n",
      "             '| 2024-02-28 | - | 95000 | 195000 | 20 | Opened | Called '\n",
      "             'customer on the same day | 2024-02-28 |\\n'\n",
      "             '| 456789 | 2024-02-12 | Deposited funds from RBC into account | '\n",
      "             '2024-03-06 | - | 80000 | 180000 | 22 | Opened | Resolved deposit '\n",
      "             'discrepancy | 2024-03-06 |\\n'\n",
      "             '| 123456 | 2024-02-18 | Withdrew cash for investment | '\n",
      "             '2024-03-12 | 45000 | - | 135000 | - | Closed | -',\n",
      "  'role': 'system'},\n",
      " {'content': \"Give me all accounts where the transaction detail - 'Withdrew \"\n",
      "             \"cash for investment', I need only account numbers\",\n",
      "  'role': 'user'}]\n"
     ]
    }
   ],
   "source": [
    "system_message = \"You are given with the transactional data and your task is to process this tabular data containing both text and numerical values based on criteria then generate answers.\\n-The answers should be in bullets and sub-bullet points\\n-If the answer cannot be found in the Transactional data given below, write 'please contact RBC Direct Investing Team.'\\nTransactional Data :\\n| Account No | Request Date | Transactional Details | Transfer Date | Withdrawal Amount | Deposit Amount | Balance Amount | Expected Transfer Days | Status | Note | Last Note Date |\\n|------------|--------------|---------------------|---------------|----------------|-------------|-------------|-----------------------|--------|------|----------------|\\n| 123456 | 2024-01-05 | Transferred cash from TD Bank to RBC | 2024-02-14 | - | 75000 | 150000 | 10 | Opened | Contacted customer to confirm transaction | 2024-02-14 |\\n| 789012 | 2024-01-10 | Transferred funds from CIBC to RBC | 2024-01-25 | - | 100000 | 200000 | 15 | Opened | Resolved missing withdrawal transaction information | 2024-01-25 |\\n| 345678 | 2024-01-15 | Withdrew cash for investment | 2024-02-05 | 50000 | - | 150000 | - | Closed | - | - |\\n| 901234 | 2024-01-20 | Deposited funds from BMO into account | 2024-02-07 | - | 85000 | 185000 | 18 | Opened | Verified deposit with customer | 2024-02-07 |\\n| 567890 | 2024-01-25 | Transferred money from RBC to TD Bank | 2024-02-10 | - | 60000 | 160000 | 16 | Opened | Sent confirmation email to customer | 2024-02-10 |\\n| 234567 | 2024-02-03 | Withdrew funds for stock purchase | 2024-02-25 | 70000 | - | 160000 | - | Closed | - | - |\\n| 890123 | 2024-02-08 | Transferred cash from ScotiaBank to RBC | 2024-02-28 | - | 95000 | 195000 | 20 | Opened | Called customer on the same day | 2024-02-28 |\\n| 456789 | 2024-02-12 | Deposited funds from RBC into account | 2024-03-06 | - | 80000 | 180000 | 22 | Opened | Resolved deposit discrepancy | 2024-03-06 |\\n| 123456 | 2024-02-18 | Withdrew cash for investment | 2024-03-12 | 45000 | - | 135000 | - | Closed | -\"\n",
    "test_messages = []\n",
    "test_messages.append({\"role\": \"system\", \"content\": system_message})\n",
    "user_message = \"Give me all accounts where the transaction detail - 'Withdrew cash for investment', I need only account numbers\"\n",
    "test_messages.append({\"role\": \"user\", \"content\": user_message})\n",
    "\n",
    "pprint(test_messages)"
   ]
  },
  {
   "cell_type": "code",
   "execution_count": 130,
   "id": "895bad44",
   "metadata": {},
   "outputs": [
    {
     "name": "stdout",
     "output_type": "stream",
     "text": [
      "Account Number: 345678\n",
      "Account Number: 123456\n"
     ]
    }
   ],
   "source": [
    "response = client.chat.completions.create(\n",
    "    model=fine_tuned_model_id, messages=test_messages, temperature=0, max_tokens=200\n",
    ")\n",
    "print(response.choices[0].message.content)"
   ]
  },
  {
   "cell_type": "code",
   "execution_count": 131,
   "id": "9a051f08",
   "metadata": {},
   "outputs": [
    {
     "data": {
      "text/plain": [
       "'ft:gpt-3.5-turbo-0125:personal:di-txn-assist:9GCDhNRR'"
      ]
     },
     "execution_count": 131,
     "metadata": {},
     "output_type": "execute_result"
    }
   ],
   "source": [
    "## Fine tuned Trained Model - \n",
    "fine_tuned_model_id"
   ]
  },
  {
   "cell_type": "markdown",
   "id": "c1199e89",
   "metadata": {},
   "source": [
    "# -----------------------------------------------------------------------------------------------------------------------------------------------"
   ]
  },
  {
   "cell_type": "markdown",
   "id": "2c325f4f",
   "metadata": {},
   "source": [
    "### OpenAI Functions"
   ]
  },
  {
   "cell_type": "code",
   "execution_count": 172,
   "id": "3b95d4f4",
   "metadata": {},
   "outputs": [],
   "source": [
    "# Example dummy function hard coded to return the same weather\n",
    "# In production, this could be your backend API or an external API\n",
    "def search_internet(search_query):\n",
    "    \"\"\"Get the latest news from the internet on Finance for given search_query\"\"\"\n",
    "    if search_query == None:\n",
    "        print(\"LLM Didn't pass the argument\")\n",
    "        return\n",
    "    params = {\n",
    "    \"engine\": \"google\",\n",
    "    \"q\": search_query,\n",
    "    \"api_key\": serp_api_secret\n",
    "    }\n",
    "    print('--------------')\n",
    "    print(params)\n",
    "    print('--------------')\n",
    "    search = GoogleSearch(params)\n",
    "    results = search.get_dict()\n",
    "    print('--------------')\n",
    "    print(results)\n",
    "    print('--------------')\n",
    "    organic_results = results[\"organic_results\"][:3]\n",
    "\n",
    "    # Extract 'link' and 'snippet' fields from each dictionary\n",
    "    filtered_data = [{'link': item['link'], 'snippet': item['snippet']} for item in organic_results]\n",
    "\n",
    "    # Convert the filtered data to JSON\n",
    "    return json.dumps(filtered_data, indent=4)\n"
   ]
  },
  {
   "cell_type": "code",
   "execution_count": 181,
   "id": "b8b624b0",
   "metadata": {},
   "outputs": [],
   "source": [
    "system_message = \"\"\"You are Fine-tuned on following 3 tasks:\n",
    "1. Queue Task - You will be provided queries from 'Direct Investing' customer service department at RBC. Classify each query to the right queue category.\\nProvide your output in a bullet point format with only one: Queue Category\\nQueue Categories are:\\n--Queue 1: Account Management\\n--Queue 2: Fund Transfer\\n--Queue 3: External Transfers\\n--Queue 4: Trading and Withdrawals\"\n",
    "\n",
    "2. Transactional Task - You are given with the transactional data and your task is to process this tabular data containing both text and numerical values based on criteria then generate answers.\\n-The answers should be in bullets and sub-bullet points\\n-If the answer cannot be found in the Transactional data given below, write 'please contact RBC Direct Investing Team.'\\nTransactional Data :\\n| Account No | Request Date | Transactional Details | Transfer Date | Withdrawal Amount | Deposit Amount | Balance Amount | Expected Transfer Days | Status | Note | Last Note Date |\\n|------------|--------------|---------------------|---------------|----------------|-------------|-------------|-----------------------|--------|------|----------------|\\n| 123456 | 2024-01-05 | Transferred cash from TD Bank to RBC | 2024-02-14 | - | 75000 | 150000 | 10 | Opened | Contacted customer to confirm transaction | 2024-02-14 |\\n| 789012 | 2024-01-10 | Transferred funds from CIBC to RBC | 2024-01-25 | - | 100000 | 200000 | 15 | Opened | Resolved missing withdrawal transaction information | 2024-01-25 |\\n| 345678 | 2024-01-15 | Withdrew cash for investment | 2024-02-05 | 50000 | - | 150000 | - | Closed | - | - |\\n| 901234 | 2024-01-20 | Deposited funds from BMO into account | 2024-02-07 | - | 85000 | 185000 | 18 | Opened | Verified deposit with customer | 2024-02-07 |\\n| 567890 | 2024-01-25 | Transferred money from RBC to TD Bank | 2024-02-10 | - | 60000 | 160000 | 16 | Opened | Sent confirmation email to customer | 2024-02-10 |\\n| 234567 | 2024-02-03 | Withdrew funds for stock purchase | 2024-02-25 | 70000 | - | 160000 | - | Closed | - | - |\\n| 890123 | 2024-02-08 | Transferred cash from ScotiaBank to RBC | 2024-02-28 | - | 95000 | 195000 | 20 | Opened | Called customer on the same day | 2024-02-28 |\\n| 456789 | 2024-02-12 | Deposited funds from RBC into account | 2024-03-06 | - | 80000 | 180000 | 22 | Opened | Resolved deposit discrepancy | 2024-03-06 |\\n| 123456 | 2024-02-18 | Withdrew cash for investment | 2024-03-12 | 45000 | - | 135000 | - | Closed | -\n",
    "\n",
    "3. Customer Service QnA Task - You will be provided queries from customer service department. Your task is to answer the question using only the provided steps with reference at the end. If the document does not contain the information needed to answer this question then write: 'Insufficient information, please contact RBC Direct Investing customer service representative at 1-800-769-2560.\n",
    "\n",
    "--You are allowed to generate search_query text on Financial Industries such as Dividends, Earnings per share/EPS etc. and plug into functions.  Provide Answer with Reference link from function in the format: [Answer](URL)\"\n",
    "\"\"\"\n",
    "\n",
    "def run_conversation():\n",
    "    # Step 1: send the conversation and available functions to the model\n",
    "    messages = []\n",
    "    messages.append({\"role\": \"system\", \"content\": system_message})\n",
    "    messages.append({\"role\": \"user\", \"content\": \"What's the last quarter dividend price declared by Scotiabank in Q1 2024?\"})\n",
    "    tools = [\n",
    "         {\n",
    "        \"type\": \"function\",\n",
    "        \"function\": {\n",
    "            \"name\": \"search_internet\",\n",
    "            \"description\": \"Search the internet for the search_query on Finance.\",\n",
    "            \"parameters\": {\n",
    "                \"type\": \"object\",\n",
    "                \"properties\": {\n",
    "                    \"search_query\": {\n",
    "                        \"type\": \"string\",\n",
    "                        \"description\": \"The query to search for on the internet.\"\n",
    "                    }\n",
    "                },\n",
    "                \"required\": [\"search_query\"]\n",
    "            }\n",
    "        }\n",
    "    }\n",
    "    ]\n",
    "    response = client.chat.completions.create(\n",
    "        model=fine_tuned_model_id,\n",
    "        messages=messages,\n",
    "        tools=tools,\n",
    "        tool_choice=\"auto\",  # auto is default, but we'll be explicit\n",
    "    )\n",
    "    response_message = response.choices[0].message\n",
    "    tool_calls = response_message.tool_calls\n",
    "    # Step 2: check if the model wanted to call a function\n",
    "    if tool_calls:\n",
    "        print('+++++++++++Invoking function++++++++')\n",
    "        # Step 3: call the function\n",
    "        # Note: the JSON response may not always be valid; be sure to handle errors\n",
    "        available_functions = {\n",
    "            \"search_internet\": search_internet,\n",
    "        }  # only one function in this example, but you can have multiple\n",
    "        messages.append(response_message)  # extend conversation with assistant's reply\n",
    "        # Step 4: send the info for each function call and function response to the model\n",
    "        for tool_call in tool_calls:\n",
    "            function_name = tool_call.function.name\n",
    "            function_to_call = available_functions[function_name]\n",
    "            print('function to call -->',function_to_call)\n",
    "            function_args = json.loads(tool_call.function.arguments)\n",
    "            print('function to call w/ arguments-->',function_args)\n",
    "            function_response = function_to_call(\n",
    "                search_query=function_args.get(\"search_query\")\n",
    "            )\n",
    "            messages.append(\n",
    "                {\n",
    "                    \"tool_call_id\": tool_call.id,\n",
    "                    \"role\": \"tool\",\n",
    "                    \"name\": function_name,\n",
    "                    \"content\": function_response,\n",
    "                }\n",
    "            )  # extend conversation with function response\n",
    "        second_response = client.chat.completions.create(\n",
    "            model=fine_tuned_model_id,\n",
    "            messages=messages,\n",
    "        )  # get a new response from the model where it can see the function response\n",
    "        return second_response\n"
   ]
  },
  {
   "cell_type": "code",
   "execution_count": 182,
   "id": "d756f20b",
   "metadata": {},
   "outputs": [
    {
     "name": "stdout",
     "output_type": "stream",
     "text": [
      "+++++++++++Invoking function++++++++\n",
      "function to call --> <function search_internet at 0x000002147EB580E0>\n",
      "function to call w/ arguments--> {'search_query': 'Scotiabank Q1 2024 dividend price'}\n",
      "--------------\n",
      "{'engine': 'google', 'q': 'Scotiabank Q1 2024 dividend price', 'api_key': '4dcedd8e41021dea1a8c248e4bc07bf66eded7353ef3813cbff51d1a883490b2'}\n",
      "--------------\n",
      "--------------\n",
      "{'search_metadata': {'id': '66244868edb034a68a5dc13e', 'status': 'Success', 'json_endpoint': 'https://serpapi.com/searches/1f8223f1d73763b3/66244868edb034a68a5dc13e.json', 'created_at': '2024-04-20 22:57:44 UTC', 'processed_at': '2024-04-20 22:57:44 UTC', 'google_url': 'https://www.google.com/search?q=Scotiabank+Q1+2024+dividend+price&oq=Scotiabank+Q1+2024+dividend+price&sourceid=chrome&ie=UTF-8', 'raw_html_file': 'https://serpapi.com/searches/1f8223f1d73763b3/66244868edb034a68a5dc13e.html', 'total_time_taken': 0.45}, 'search_parameters': {'engine': 'google', 'q': 'Scotiabank Q1 2024 dividend price', 'google_domain': 'google.com', 'device': 'desktop'}, 'search_information': {'query_displayed': 'Scotiabank Q1 2024 dividend price', 'total_results': 106000, 'time_taken_displayed': 0.26, 'organic_results_state': 'Results for exact spelling'}, 'related_questions': [{'question': 'What is the BNS q1 for 2024?', 'snippet': 'TORONTO, February 27, 2024 — The Bank of Nova Scotia (“Scotiabank”) (TSX: BNS; NYSE: BNS) reported first quarter net income of $2,199 million compared to $1,758 million in the same period last year. Diluted earnings per share (EPS) were $1.68, compared to $1.35 in the same period a year ago.', 'title': 'First Quarter 2024 Earnings Release - Scotiabank Global Site', 'date': 'Feb 27, 2024', 'link': 'https://www.scotiabank.com/content/dam/scotiabank/corporate/quarterly-reports/2024/q1/Q124_Quarterly_Press_Release-EN.pdf', 'displayed_link': 'https://www.scotiabank.com › dam › 2024 › q1', 'next_page_token': 'eyJvbnMiOiIxMDA0MSIsImZjIjoiRW9zQkNreEJUblZYYUdOdGMwcHZia1V4TVRrd1NUWlNNakJpTkY5d01uSnlUamRUUVVKSlJHZERjVFJ0ZDE5c1ZqVTJTV3RqZEU5cFMyWkxWVXRSZWxOUGQxZEtZa1JvT1VNeFgydGhkMk55RWhkaFJXZHJXblpZYlVWUFlXeHdkRkZRTXpWTGJXMUJWUm9pUVZCWWFHMDFXbDh6VjFwWFVHZGFibWg2TVdSWlJ5MWZSRTAxVW1GU1oweENadyIsImZjdiI6IjMiLCJlaSI6ImFFZ2tadlhtRU9hbHB0UVAzNUttbUFVIiwicWMiOiJDaUZ6WTI5MGFXRmlZVzVySUhFeElESXdNalFnWkdsMmFXUmxibVFnY0hKcFkyVVFBSDBpeHhrXyIsInF1ZXN0aW9uIjoiV2hhdCBpcyB0aGUgQk5TIHExIGZvciAyMDI0PyIsImxrIjoiR2d0aWJuTWdjVEVnTWpBeU5BIiwiYnMiOiJjLU15NEpJSnowZ3NVY2dzVmlqSlNGVnc4Z3RXS0RSVVNNc3ZVakF5TURLeGwyZ1RNLUtWNGs3S0t3WUpnNFM0WXJpMGtIWGtwVmFVS0tSVzZLWmtsbVdtcE9hbEtLUWtscVNDRFFDYVpTOXhvTmhJVzBxekhGT0RBcVlHb0MxYzRWejZ5S2JERmFVWDVaZVhaQ2dVZ2RUbXB5a0VKLWVYWkNZbUplWmwyMHZjbGpCU2xKSXZob3RnMWNSbHh5WHRXUXoyWDZKQ2VuNS1pa0p4U1g1eXRrSkp2a0pTYWFXOXhGOUdJeGtwS2FDdElLOWlVU0hBQ0FBIiwiaWQiOiJmY18xIn0=', 'serpapi_link': 'https://serpapi.com/search.json?device=desktop&engine=google_related_questions&google_domain=google.com&next_page_token=eyJvbnMiOiIxMDA0MSIsImZjIjoiRW9zQkNreEJUblZYYUdOdGMwcHZia1V4TVRrd1NUWlNNakJpTkY5d01uSnlUamRUUVVKSlJHZERjVFJ0ZDE5c1ZqVTJTV3RqZEU5cFMyWkxWVXRSZWxOUGQxZEtZa1JvT1VNeFgydGhkMk55RWhkaFJXZHJXblpZYlVWUFlXeHdkRkZRTXpWTGJXMUJWUm9pUVZCWWFHMDFXbDh6VjFwWFVHZGFibWg2TVdSWlJ5MWZSRTAxVW1GU1oweENadyIsImZjdiI6IjMiLCJlaSI6ImFFZ2tadlhtRU9hbHB0UVAzNUttbUFVIiwicWMiOiJDaUZ6WTI5MGFXRmlZVzVySUhFeElESXdNalFnWkdsMmFXUmxibVFnY0hKcFkyVVFBSDBpeHhrXyIsInF1ZXN0aW9uIjoiV2hhdCBpcyB0aGUgQk5TIHExIGZvciAyMDI0PyIsImxrIjoiR2d0aWJuTWdjVEVnTWpBeU5BIiwiYnMiOiJjLU15NEpJSnowZ3NVY2dzVmlqSlNGVnc4Z3RXS0RSVVNNc3ZVakF5TURLeGwyZ1RNLUtWNGs3S0t3WUpnNFM0WXJpMGtIWGtwVmFVS0tSVzZLWmtsbVdtcE9hbEtLUWtscVNDRFFDYVpTOXhvTmhJVzBxekhGT0RBcVlHb0MxYzRWejZ5S2JERmFVWDVaZVhaQ2dVZ2RUbXB5a0VKLWVYWkNZbUplWmwyMHZjbGpCU2xKSXZob3RnMWNSbHh5WHRXUXoyWDZKQ2VuNS1pa0p4U1g1eXRrSkp2a0pTYWFXOXhGOUdJeGtwS2FDdElLOWlVU0hBQ0FBIiwiaWQiOiJmY18xIn0%3D'}, {'question': 'What is the next ex-dividend date for BNS?', 'snippet': \"Bank Of Nova Scotia's upcoming ex-dividend date is on Apr 01, 2024. Bank Of Nova Scotia shareholders who own BNS stock before this date will receive Bank Of Nova Scotia's next dividend payment of $0.77 per share on Apr 26, 2024. Add BNS to your watchlist to be reminded before Bank Of Nova Scotia's ex-dividend date.\", 'title': 'Apr 01, 2024', 'link': \"https://www.tipranks.com/stocks/bns/dividends#:~:text=Bank%20Of%20Nova%20Scotia's%20upcoming,Nova%20Scotia's%20ex%2Ddividend%20date.\", 'displayed_link': 'https://www.tipranks.com › stocks › bns › dividends', 'source_logo': 'https://serpapi.com/searches/66244868edb034a68a5dc13e/images/a59ead54867d29f881360e19fa948052e6cfa7bfeedb5354f0420fe0b0d1c1b1.png', 'next_page_token': 'eyJvbnMiOiIxMDA0MSIsImZjIjoiRW9zQkNreEJUblZYYUdOdGMwcHZia1V4TVRrd1NUWlNNakJpTkY5d01uSnlUamRUUVVKSlJHZERjVFJ0ZDE5c1ZqVTJTV3RqZEU5cFMyWkxWVXRSZWxOUGQxZEtZa1JvT1VNeFgydGhkMk55RWhkaFJXZHJXblpZYlVWUFlXeHdkRkZRTXpWTGJXMUJWUm9pUVZCWWFHMDFXbDh6VjFwWFVHZGFibWg2TVdSWlJ5MWZSRTAxVW1GU1oweENadyIsImZjdiI6IjMiLCJlaSI6ImFFZ2tadlhtRU9hbHB0UVAzNUttbUFVIiwicWMiOiJDaUZ6WTI5MGFXRmlZVzVySUhFeElESXdNalFnWkdsMmFXUmxibVFnY0hKcFkyVVFBSDBpeHhrXyIsInF1ZXN0aW9uIjoiV2hhdCBpcyB0aGUgbmV4dCBleC1kaXZpZGVuZCBkYXRlIGZvciBCTlM/IiwibGsiOiJHaWwzYUdGMElHbHpJSFJvWlNCdVpYaDBJR1Y0SUdScGRtbGtaVzVrSUdSaGRHVWdabTl5SUdKdWN3IiwiYnMiOiJjLU15NEpJSnowZ3NVY2dzVmlqSlNGVnc4Z3RXS0RSVVNNc3ZVakF5TURLeGwyZ1RNLUtWNGs3S0t3WUpnNFM0WXJpMGtIWGtwVmFVS0tSVzZLWmtsbVdtcE9hbEtLUWtscVNDRFFDYVpTOXhvTmhJVzBxekhGT0RBcVlHb0MxYzRWejZ5S2JERmFVWDVaZVhaQ2dVZ2RUbXB5a0VKLWVYWkNZbUplWmwyMHZjbGpCU2xKSXZob3RnMWNSbHh5WHRXUXoyWDZKQ2VuNS1pa0p4U1g1eXRrSkp2a0pTYWFXOXhGOUdJeGtwS2FDdElLOWlVU0hBQ0FBIiwiaWQiOiJmY18xIn0=', 'serpapi_link': 'https://serpapi.com/search.json?device=desktop&engine=google_related_questions&google_domain=google.com&next_page_token=eyJvbnMiOiIxMDA0MSIsImZjIjoiRW9zQkNreEJUblZYYUdOdGMwcHZia1V4TVRrd1NUWlNNakJpTkY5d01uSnlUamRUUVVKSlJHZERjVFJ0ZDE5c1ZqVTJTV3RqZEU5cFMyWkxWVXRSZWxOUGQxZEtZa1JvT1VNeFgydGhkMk55RWhkaFJXZHJXblpZYlVWUFlXeHdkRkZRTXpWTGJXMUJWUm9pUVZCWWFHMDFXbDh6VjFwWFVHZGFibWg2TVdSWlJ5MWZSRTAxVW1GU1oweENadyIsImZjdiI6IjMiLCJlaSI6ImFFZ2tadlhtRU9hbHB0UVAzNUttbUFVIiwicWMiOiJDaUZ6WTI5MGFXRmlZVzVySUhFeElESXdNalFnWkdsMmFXUmxibVFnY0hKcFkyVVFBSDBpeHhrXyIsInF1ZXN0aW9uIjoiV2hhdCBpcyB0aGUgbmV4dCBleC1kaXZpZGVuZCBkYXRlIGZvciBCTlM%2FIiwibGsiOiJHaWwzYUdGMElHbHpJSFJvWlNCdVpYaDBJR1Y0SUdScGRtbGtaVzVrSUdSaGRHVWdabTl5SUdKdWN3IiwiYnMiOiJjLU15NEpJSnowZ3NVY2dzVmlqSlNGVnc4Z3RXS0RSVVNNc3ZVakF5TURLeGwyZ1RNLUtWNGs3S0t3WUpnNFM0WXJpMGtIWGtwVmFVS0tSVzZLWmtsbVdtcE9hbEtLUWtscVNDRFFDYVpTOXhvTmhJVzBxekhGT0RBcVlHb0MxYzRWejZ5S2JERmFVWDVaZVhaQ2dVZ2RUbXB5a0VKLWVYWkNZbUplWmwyMHZjbGpCU2xKSXZob3RnMWNSbHh5WHRXUXoyWDZKQ2VuNS1pa0p4U1g1eXRrSkp2a0pTYWFXOXhGOUdJeGtwS2FDdElLOWlVU0hBQ0FBIiwiaWQiOiJmY18xIn0%3D'}, {'question': 'What is the dividend growth rate of Scotiabank?', 'title': 'BNS Dividend Growth History', 'link': 'https://seekingalpha.com/symbol/BNS/dividends/dividend-growth', 'displayed_link': 'https://seekingalpha.com › symbol › BNS › dividends', 'source_logo': 'https://serpapi.com/searches/66244868edb034a68a5dc13e/images/a59ead54867d29f881360e19fa9480526495bccf011bee07498d998479154f7d.png', 'next_page_token': 'eyJvbnMiOiIxMDA0MSIsImZjIjoiRW9zQkNreEJUblZYYUdOdGMwcHZia1V4TVRrd1NUWlNNakJpTkY5d01uSnlUamRUUVVKSlJHZERjVFJ0ZDE5c1ZqVTJTV3RqZEU5cFMyWkxWVXRSZWxOUGQxZEtZa1JvT1VNeFgydGhkMk55RWhkaFJXZHJXblpZYlVWUFlXeHdkRkZRTXpWTGJXMUJWUm9pUVZCWWFHMDFXbDh6VjFwWFVHZGFibWg2TVdSWlJ5MWZSRTAxVW1GU1oweENadyIsImZjdiI6IjMiLCJlaSI6ImFFZ2tadlhtRU9hbHB0UVAzNUttbUFVIiwicWMiOiJDaUZ6WTI5MGFXRmlZVzVySUhFeElESXdNalFnWkdsMmFXUmxibVFnY0hKcFkyVVFBSDBpeHhrXyIsInF1ZXN0aW9uIjoiV2hhdCBpcyB0aGUgZGl2aWRlbmQgZ3Jvd3RoIHJhdGUgb2YgU2NvdGlhYmFuaz8iLCJsayI6IkdoOXpZMjkwYVdGaVlXNXJJR1JwZG1sa1pXNWtJR2R5YjNkMGFDQnlZWFJsIiwiYnMiOiJjLU15NEpJSnowZ3NVY2dzVmlqSlNGVnc4Z3RXS0RSVVNNc3ZVakF5TURLeGwyZ1RNLUtWNGs3S0t3WUpnNFM0WXJpMGtIWGtwVmFVS0tSVzZLWmtsbVdtcE9hbEtLUWtscVNDRFFDYVpTOXhvTmhJVzBxekhGT0RBcVlHb0MxYzRWejZ5S2JERmFVWDVaZVhaQ2dVZ2RUbXB5a0VKLWVYWkNZbUplWmwyMHZjbGpCU2xKSXZob3RnMWNSbHh5WHRXUXoyWDZKQ2VuNS1pa0p4U1g1eXRrSkp2a0pTYWFXOXhGOUdJeGtwS2FDdElLOWlVU0hBQ0FBIiwiaWQiOiJmY18xIn0=', 'serpapi_link': 'https://serpapi.com/search.json?device=desktop&engine=google_related_questions&google_domain=google.com&next_page_token=eyJvbnMiOiIxMDA0MSIsImZjIjoiRW9zQkNreEJUblZYYUdOdGMwcHZia1V4TVRrd1NUWlNNakJpTkY5d01uSnlUamRUUVVKSlJHZERjVFJ0ZDE5c1ZqVTJTV3RqZEU5cFMyWkxWVXRSZWxOUGQxZEtZa1JvT1VNeFgydGhkMk55RWhkaFJXZHJXblpZYlVWUFlXeHdkRkZRTXpWTGJXMUJWUm9pUVZCWWFHMDFXbDh6VjFwWFVHZGFibWg2TVdSWlJ5MWZSRTAxVW1GU1oweENadyIsImZjdiI6IjMiLCJlaSI6ImFFZ2tadlhtRU9hbHB0UVAzNUttbUFVIiwicWMiOiJDaUZ6WTI5MGFXRmlZVzVySUhFeElESXdNalFnWkdsMmFXUmxibVFnY0hKcFkyVVFBSDBpeHhrXyIsInF1ZXN0aW9uIjoiV2hhdCBpcyB0aGUgZGl2aWRlbmQgZ3Jvd3RoIHJhdGUgb2YgU2NvdGlhYmFuaz8iLCJsayI6IkdoOXpZMjkwYVdGaVlXNXJJR1JwZG1sa1pXNWtJR2R5YjNkMGFDQnlZWFJsIiwiYnMiOiJjLU15NEpJSnowZ3NVY2dzVmlqSlNGVnc4Z3RXS0RSVVNNc3ZVakF5TURLeGwyZ1RNLUtWNGs3S0t3WUpnNFM0WXJpMGtIWGtwVmFVS0tSVzZLWmtsbVdtcE9hbEtLUWtscVNDRFFDYVpTOXhvTmhJVzBxekhGT0RBcVlHb0MxYzRWejZ5S2JERmFVWDVaZVhaQ2dVZ2RUbXB5a0VKLWVYWkNZbUplWmwyMHZjbGpCU2xKSXZob3RnMWNSbHh5WHRXUXoyWDZKQ2VuNS1pa0p4U1g1eXRrSkp2a0pTYWFXOXhGOUdJeGtwS2FDdElLOWlVU0hBQ0FBIiwiaWQiOiJmY18xIn0%3D'}, {'question': 'Is BNS a good stock to buy?', 'snippet': 'BNS Stock 12 Month Forecast Based on 10 Wall Street analysts offering 12 month price targets for Bank Of Nova Scotia in the last 3 months. The average price target is C$67.49 with a high forecast of C$74.27 and a low forecast of C$64.23. The average price target represents a 5.09% change from the last price of C$64.22.', 'title': 'Bank Of Nova Scotia (BNS) Stock Forecast & Price Target - Tipranks', 'link': 'https://www.tipranks.com/stocks/tse:bns/forecast#:~:text=BNS%20Stock%2012%20Month%20Forecast&text=Based%20on%2010%20Wall%20Street,last%20price%20of%20C%2464.22.', 'displayed_link': 'https://www.tipranks.com › stocks › tse:bns › forecast', 'source_logo': 'https://serpapi.com/searches/66244868edb034a68a5dc13e/images/a59ead54867d29f881360e19fa94805284905fd3d07f1a9df8ecd7774772ca9c.png', 'next_page_token': 'eyJvbnMiOiIxMDA0MSIsImZjIjoiRW9zQkNreEJUblZYYUdOdGMwcHZia1V4TVRrd1NUWlNNakJpTkY5d01uSnlUamRUUVVKSlJHZERjVFJ0ZDE5c1ZqVTJTV3RqZEU5cFMyWkxWVXRSZWxOUGQxZEtZa1JvT1VNeFgydGhkMk55RWhkaFJXZHJXblpZYlVWUFlXeHdkRkZRTXpWTGJXMUJWUm9pUVZCWWFHMDFXbDh6VjFwWFVHZGFibWg2TVdSWlJ5MWZSRTAxVW1GU1oweENadyIsImZjdiI6IjMiLCJlaSI6ImFFZ2tadlhtRU9hbHB0UVAzNUttbUFVIiwicWMiOiJDaUZ6WTI5MGFXRmlZVzVySUhFeElESXdNalFnWkdsMmFXUmxibVFnY0hKcFkyVVFBSDBpeHhrXyIsInF1ZXN0aW9uIjoiSXMgQk5TIGEgZ29vZCBzdG9jayB0byBidXk/IiwibGsiOiJHaHBwY3lCaWJuTWdZU0JuYjI5a0lITjBiMk5ySUhSdklHSjFlUSIsImJzIjoiYy1NeTRKSUp6MGdzVWNnc1ZpakpTRlZ3OGd0V0tEUlVTTXN2VWpBeU1ES3hsMmdUTS1LVjRrN0tLd1lKZzRTNFlyaTBrSFhrcFZhVUtLUlc2S1prbG1XbXBPYWxLS1FrbHFTQ0RRQ2FaUzl4b05oSVcwcXpIRk9EQXFZR29DMWM0Vno2eUtiREZhVVg1WmVYWkNnVWdkVG1weWtFSi1lWFpDWW1KZVpsMjB2Y2xqQlNsSkl2aG90ZzFjUmx4eVh0V1F6Mlg2SkNlbjUtaWtKeFNYNXl0a0pKdmtKU2FhVzl4RjlHSXhrcEthQ3RJSzlpVVNIQUNBQSIsImlkIjoiZmNfMSJ9', 'serpapi_link': 'https://serpapi.com/search.json?device=desktop&engine=google_related_questions&google_domain=google.com&next_page_token=eyJvbnMiOiIxMDA0MSIsImZjIjoiRW9zQkNreEJUblZYYUdOdGMwcHZia1V4TVRrd1NUWlNNakJpTkY5d01uSnlUamRUUVVKSlJHZERjVFJ0ZDE5c1ZqVTJTV3RqZEU5cFMyWkxWVXRSZWxOUGQxZEtZa1JvT1VNeFgydGhkMk55RWhkaFJXZHJXblpZYlVWUFlXeHdkRkZRTXpWTGJXMUJWUm9pUVZCWWFHMDFXbDh6VjFwWFVHZGFibWg2TVdSWlJ5MWZSRTAxVW1GU1oweENadyIsImZjdiI6IjMiLCJlaSI6ImFFZ2tadlhtRU9hbHB0UVAzNUttbUFVIiwicWMiOiJDaUZ6WTI5MGFXRmlZVzVySUhFeElESXdNalFnWkdsMmFXUmxibVFnY0hKcFkyVVFBSDBpeHhrXyIsInF1ZXN0aW9uIjoiSXMgQk5TIGEgZ29vZCBzdG9jayB0byBidXk%2FIiwibGsiOiJHaHBwY3lCaWJuTWdZU0JuYjI5a0lITjBiMk5ySUhSdklHSjFlUSIsImJzIjoiYy1NeTRKSUp6MGdzVWNnc1ZpakpTRlZ3OGd0V0tEUlVTTXN2VWpBeU1ES3hsMmdUTS1LVjRrN0tLd1lKZzRTNFlyaTBrSFhrcFZhVUtLUlc2S1prbG1XbXBPYWxLS1FrbHFTQ0RRQ2FaUzl4b05oSVcwcXpIRk9EQXFZR29DMWM0Vno2eUtiREZhVVg1WmVYWkNnVWdkVG1weWtFSi1lWFpDWW1KZVpsMjB2Y2xqQlNsSkl2aG90ZzFjUmx4eVh0V1F6Mlg2SkNlbjUtaWtKeFNYNXl0a0pKdmtKU2FhVzl4RjlHSXhrcEthQ3RJSzlpVVNIQUNBQSIsImlkIjoiZmNfMSJ9'}], 'answer_box': {'type': 'organic_result', 'title': 'Dividend Policy', 'link': 'https://www.scotiabank.com/ca/en/about/investors-shareholders/equity-investors/common-share-data.html', 'displayed_link': 'https://www.scotiabank.com › about › equity-investors', 'answer': '$1.06', 'favicon': 'https://serpapi.com/searches/66244868edb034a68a5dc13e/images/c619f32a53299ac8a603f84ac62632694f799031fb272179.png', 'source': 'Scotiabank', 'contents': {'table': [['Q1', 'Q4'], ['2021', '$0.90', '$0.90'], ['2022', '$1.00', '$1.03'], ['2023', '$1.03', '$1.06'], ['2024', '$1.06']], 'formatted': {'2021': {'q4': '$0.90', 'q1': '$0.90'}, '2022': {'q4': '$1.00', 'q1': '$1.03'}, '2023': {'q4': '$1.03', 'q1': '$1.06'}, '2024': {'q4': '$1.06'}}}}, 'organic_results': [{'position': 1, 'title': 'Scotiabank Reports Strong Q1 2024 Earnings', 'link': 'https://www.tipranks.com/news/company-announcements/scotiabank-reports-strong-q1-2024-earnings', 'redirect_link': 'https://www.google.com/url?sa=t&source=web&rct=j&opi=89978449&url=https://www.tipranks.com/news/company-announcements/scotiabank-reports-strong-q1-2024-earnings&ved=2ahUKEwj1uuSO8tGFAxXmkokEHV-JCVMQFnoECBYQAQ', 'displayed_link': 'https://www.tipranks.com › company-announcements › s...', 'favicon': 'https://serpapi.com/searches/66244868edb034a68a5dc13e/images/b5a0eff927823db415b705eed09bf15ab8b47aa5b9e43467ba19235e2da17b25.png', 'snippet': 'Bank Of Nova Scotia (TSE:BNS) has released an update. Scotiabank showcased a robust first quarter in 2024, with a reported net income increase to $2199 ...', 'snippet_highlighted_words': ['2199'], 'source': 'Tipranks'}, {'position': 2, 'title': 'First Quarter 2024 Earnings Release', 'link': 'https://www.scotiabank.com/content/dam/scotiabank/corporate/quarterly-reports/2024/q1/Q124_Quarterly_Press_Release-EN.pdf', 'redirect_link': 'https://www.google.com/url?sa=t&source=web&rct=j&opi=89978449&url=https://www.scotiabank.com/content/dam/scotiabank/corporate/quarterly-reports/2024/q1/Q124_Quarterly_Press_Release-EN.pdf&ved=2ahUKEwj1uuSO8tGFAxXmkokEHV-JCVMQFnoECBcQAQ', 'displayed_link': 'https://www.scotiabank.com › dam › 2024 › q1', 'favicon': 'https://serpapi.com/searches/66244868edb034a68a5dc13e/images/b5a0eff927823db415b705eed09bf15aaaeea2f9d39d4ec16d15f37c1eceb947.png', 'date': 'Feb 27, 2024', 'snippet': 'Diluted earnings per share (EPS) were $1.68, compared to $1.35 in the same period a year ago.', 'snippet_highlighted_words': ['1.68'], 'missing': ['price'], 'must_include': {'word': 'price', 'link': 'https://www.google.com/search?sca_esv=c4c2e7b7e13ba40b&q=Scotiabank+Q1+2024+dividend+%22price%22&sa=X&ved=2ahUKEwj1uuSO8tGFAxXmkokEHV-JCVMQ5t4CegQIJxAB'}, 'source': 'Scotiabank'}, {'position': 3, 'title': \"Bank of Nova Scotia's Dividend Analysis\", 'link': 'https://ca.finance.yahoo.com/news/bank-nova-scotias-dividend-analysis-110239949.html', 'redirect_link': 'https://www.google.com/url?sa=t&source=web&rct=j&opi=89978449&url=https://ca.finance.yahoo.com/news/bank-nova-scotias-dividend-analysis-110239949.html&ved=2ahUKEwj1uuSO8tGFAxXmkokEHV-JCVMQFnoECBgQAQ', 'displayed_link': 'https://ca.finance.yahoo.com › news › bank-nova-scotia...', 'favicon': 'https://serpapi.com/searches/66244868edb034a68a5dc13e/images/b5a0eff927823db415b705eed09bf15a7db4a59e0155cb43c1b007b1d592b621.png', 'date': 'Apr 1, 2024', 'snippet': 'Bank of Nova Scotia (NYSE:BNS) recently announced a dividend of $1.06 per share, payable on 2024-04-26, with the ex-dividend date set for ...', 'snippet_highlighted_words': ['1.06 per share'], 'missing': ['Scotiabank'], 'must_include': {'word': 'Scotiabank', 'link': 'https://www.google.com/search?sca_esv=c4c2e7b7e13ba40b&q=%22Scotiabank%22+Q1+2024+dividend+price&sa=X&ved=2ahUKEwj1uuSO8tGFAxXmkokEHV-JCVMQ5t4CegQIKBAB'}, 'source': 'Yahoo Finance Canada'}, {'position': 4, 'title': 'Scotiabank Announces Dividend on Outstanding Shares ...', 'link': 'https://www.marketscreener.com/quote/stock/THE-BANK-OF-NOVA-SCOTIA-1409234/news/Scotiabank-Announces-Dividend-on-Outstanding-Shares-Payable-on-April-26-2024-46065396/', 'redirect_link': 'https://www.google.com/url?sa=t&source=web&rct=j&opi=89978449&url=https://www.marketscreener.com/quote/stock/THE-BANK-OF-NOVA-SCOTIA-1409234/news/Scotiabank-Announces-Dividend-on-Outstanding-Shares-Payable-on-April-26-2024-46065396/&ved=2ahUKEwj1uuSO8tGFAxXmkokEHV-JCVMQFnoECDsQAQ', 'displayed_link': 'https://www.marketscreener.com › quote › stock › news', 'favicon': 'https://serpapi.com/searches/66244868edb034a68a5dc13e/images/b5a0eff927823db415b705eed09bf15a5e35637fb412a9f448b43b14807dfc8a.png', 'date': 'Feb 27, 2024', 'snippet': 'Scotiabank announced a dividend on the outstanding shares of the Bank, payable April 26, 2024, to shareholders of record at the close of ...', 'snippet_highlighted_words': ['Scotiabank', 'dividend', '2024'], 'source': 'marketscreener.com'}, {'position': 5, 'title': 'Bank of Nova Scotia Stock Quote (U.S.: NYSE) - BNS', 'link': 'https://www.marketwatch.com/investing/stock/bns', 'redirect_link': 'https://www.google.com/url?sa=t&source=web&rct=j&opi=89978449&url=https://www.marketwatch.com/investing/stock/bns&ved=2ahUKEwj1uuSO8tGFAxXmkokEHV-JCVMQFnoECDYQAQ', 'displayed_link': 'https://www.marketwatch.com › ... › United States', 'favicon': 'https://serpapi.com/searches/66244868edb034a68a5dc13e/images/b5a0eff927823db415b705eed09bf15aeda2f2bddaa93e920e3f7bb38723d37e.png', 'snippet': 'Last Updated: Apr 19, 2024 7:30 p.m. EDT Delayed quote ... Ex-Dividend Date Apr 1, 2024; Short Interest 30.22 ... Q1 2024 Bank of Nova Scotia Earnings Call ...', 'snippet_highlighted_words': ['2024', 'quote', 'Dividend', '2024', 'Q1 2024', 'Scotia'], 'source': 'MarketWatch'}, {'position': 6, 'title': 'Quarterly Report to Shareholders - Scotiabank Global Site', 'link': 'https://www.scotiabank.com/content/dam/scotiabank/corporate/quarterly-reports/2024/q1/Q124_Shareholders_Report-EN.pdf', 'redirect_link': 'https://www.google.com/url?sa=t&source=web&rct=j&opi=89978449&url=https://www.scotiabank.com/content/dam/scotiabank/corporate/quarterly-reports/2024/q1/Q124_Shareholders_Report-EN.pdf&ved=2ahUKEwj1uuSO8tGFAxXmkokEHV-JCVMQFnoECDwQAQ', 'displayed_link': 'https://www.scotiabank.com › dam › 2024 › q1', 'favicon': 'https://serpapi.com/searches/66244868edb034a68a5dc13e/images/b5a0eff927823db415b705eed09bf15aed38d94919b2ba4354baea60f900930b.png', 'date': 'Feb 27, 2024', 'snippet': 'Diluted earnings per share (EPS) were $1.68, compared to $1.35 in the same period a year ago.', 'snippet_highlighted_words': ['1.68'], 'source': 'scotiabank.com'}, {'position': 7, 'title': 'Scotiabank Announces Dividend on Outstanding Shares', 'link': 'https://www.marketscreener.com/quote/stock/THE-BANK-OF-NOVA-SCOTIA-1409234/news/Scotiabank-Announces-Dividend-on-Outstanding-Shares-46036845/', 'redirect_link': 'https://www.google.com/url?sa=t&source=web&rct=j&opi=89978449&url=https://www.marketscreener.com/quote/stock/THE-BANK-OF-NOVA-SCOTIA-1409234/news/Scotiabank-Announces-Dividend-on-Outstanding-Shares-46036845/&ved=2ahUKEwj1uuSO8tGFAxXmkokEHV-JCVMQFnoECEIQAQ', 'displayed_link': 'https://www.marketscreener.com › quote › stock › news', 'favicon': 'https://serpapi.com/searches/66244868edb034a68a5dc13e/images/b5a0eff927823db415b705eed09bf15aebf1ead52737ff0bbeda1045e149ee0c.png', 'date': 'Feb 27, 2024', 'snippet': 'Dividend No. 619 of $1.06 per share;. Holders may elect to receive their dividends in common shares of the Bank in lieu of cash dividends, in ...', 'snippet_highlighted_words': ['619 of $1.06 per share'], 'source': 'MarketScreener'}, {'position': 8, 'title': 'Scotiabank Announces Dividend on Outstanding Shares', 'link': 'https://www.newswire.ca/news-releases/scotiabank-announces-dividend-on-outstanding-shares-847920083.html', 'redirect_link': 'https://www.google.com/url?sa=t&source=web&rct=j&opi=89978449&url=https://www.newswire.ca/news-releases/scotiabank-announces-dividend-on-outstanding-shares-847920083.html&ved=2ahUKEwj1uuSO8tGFAxXmkokEHV-JCVMQFnoECDUQAQ', 'displayed_link': 'https://www.newswire.ca › news-releases › scotiabank-a...', 'favicon': 'https://serpapi.com/searches/66244868edb034a68a5dc13e/images/b5a0eff927823db415b705eed09bf15a4c6f9649f801a389a63c2d9eeb715202.png', 'date': 'Feb 27, 2024', 'snippet': 'CNW/ - Scotiabank today announced a dividend on the outstanding shares of the Bank, payable April 26, 2024, to shareholders of record at the ...', 'snippet_highlighted_words': ['Scotiabank', 'dividend', '2024'], 'source': 'Canada Newswire'}, {'position': 9, 'title': 'Scotiabank (Bank of Nova Scotia)Stock , BNS - Markets Insider', 'link': 'https://markets.businessinsider.com/stocks/bns-stock', 'redirect_link': 'https://www.google.com/url?sa=t&source=web&rct=j&opi=89978449&url=https://markets.businessinsider.com/stocks/bns-stock&ved=2ahUKEwj1uuSO8tGFAxXmkokEHV-JCVMQFnoECDoQAQ', 'displayed_link': 'https://markets.businessinsider.com › Stocks', 'favicon': 'https://serpapi.com/searches/66244868edb034a68a5dc13e/images/b5a0eff927823db415b705eed09bf15a7478d319c882dd83f01908e944219594.png', 'snippet': 'According to the current price, Scotiabank is 117.90% away from the 52-week low. ... Scotiabank Dividend Calendar. Date, Name, Dividend ... Q1 2024 Earnings Release ...', 'snippet_highlighted_words': ['117.90'], 'source': 'markets.businessinsider.com'}], 'related_searches': [{'block_position': 1, 'query': 'Nova scotiabank q1 2024 dividend price', 'link': 'https://www.google.com/search?sca_esv=c4c2e7b7e13ba40b&q=Nova+scotiabank+q1+2024+dividend+price&sa=X&ved=2ahUKEwj1uuSO8tGFAxXmkokEHV-JCVMQ1QJ6BAg0EAE', 'serpapi_link': 'https://serpapi.com/search.json?device=desktop&engine=google&google_domain=google.com&q=Nova+scotiabank+q1+2024+dividend+price'}, {'block_position': 1, 'query': 'enbridge dividend history', 'link': 'https://www.google.com/search?sca_esv=c4c2e7b7e13ba40b&q=Enbridge+dividend+history&sa=X&ved=2ahUKEwj1uuSO8tGFAxXmkokEHV-JCVMQ1QJ6BAgzEAE', 'serpapi_link': 'https://serpapi.com/search.json?device=desktop&engine=google&google_domain=google.com&q=Enbridge+dividend+history'}, {'block_position': 1, 'query': 'what is ex dividend date', 'link': 'https://www.google.com/search?sca_esv=c4c2e7b7e13ba40b&q=What+is+ex+dividend+date&sa=X&ved=2ahUKEwj1uuSO8tGFAxXmkokEHV-JCVMQ1QJ6BAgyEAE', 'serpapi_link': 'https://serpapi.com/search.json?device=desktop&engine=google&google_domain=google.com&q=What+is+ex+dividend+date'}, {'block_position': 1, 'query': 'bank ex dividend dates', 'link': 'https://www.google.com/search?sca_esv=c4c2e7b7e13ba40b&q=Bank+ex+dividend+dates&sa=X&ved=2ahUKEwj1uuSO8tGFAxXmkokEHV-JCVMQ1QJ6BAgxEAE', 'serpapi_link': 'https://serpapi.com/search.json?device=desktop&engine=google&google_domain=google.com&q=Bank+ex+dividend+dates'}, {'block_position': 1, 'query': 'enb dividend usd', 'link': 'https://www.google.com/search?sca_esv=c4c2e7b7e13ba40b&q=ENB+Dividend+USD&sa=X&ved=2ahUKEwj1uuSO8tGFAxXmkokEHV-JCVMQ1QJ6BAgwEAE', 'serpapi_link': 'https://serpapi.com/search.json?device=desktop&engine=google&google_domain=google.com&q=ENB+Dividend+USD'}, {'block_position': 1, 'query': 'five years dividend yield of enb', 'link': 'https://www.google.com/search?sca_esv=c4c2e7b7e13ba40b&q=Five+years+dividend+yield+of+ENB&sa=X&ved=2ahUKEwj1uuSO8tGFAxXmkokEHV-JCVMQ1QJ6BAguEAE', 'serpapi_link': 'https://serpapi.com/search.json?device=desktop&engine=google&google_domain=google.com&q=Five+years+dividend+yield+of+ENB'}], 'pagination': {'current': 1, 'next': 'https://www.google.com/search?q=Scotiabank+Q1+2024+dividend+price&oq=Scotiabank+Q1+2024+dividend+price&start=10&sourceid=chrome&ie=UTF-8', 'other_pages': {'2': 'https://www.google.com/search?q=Scotiabank+Q1+2024+dividend+price&oq=Scotiabank+Q1+2024+dividend+price&start=10&sourceid=chrome&ie=UTF-8', '3': 'https://www.google.com/search?q=Scotiabank+Q1+2024+dividend+price&oq=Scotiabank+Q1+2024+dividend+price&start=20&sourceid=chrome&ie=UTF-8', '4': 'https://www.google.com/search?q=Scotiabank+Q1+2024+dividend+price&oq=Scotiabank+Q1+2024+dividend+price&start=30&sourceid=chrome&ie=UTF-8', '5': 'https://www.google.com/search?q=Scotiabank+Q1+2024+dividend+price&oq=Scotiabank+Q1+2024+dividend+price&start=40&sourceid=chrome&ie=UTF-8'}}, 'serpapi_pagination': {'current': 1, 'next_link': 'https://serpapi.com/search.json?device=desktop&engine=google&google_domain=google.com&q=Scotiabank+Q1+2024+dividend+price&start=10', 'next': 'https://serpapi.com/search.json?device=desktop&engine=google&google_domain=google.com&q=Scotiabank+Q1+2024+dividend+price&start=10', 'other_pages': {'2': 'https://serpapi.com/search.json?device=desktop&engine=google&google_domain=google.com&q=Scotiabank+Q1+2024+dividend+price&start=10', '3': 'https://serpapi.com/search.json?device=desktop&engine=google&google_domain=google.com&q=Scotiabank+Q1+2024+dividend+price&start=20', '4': 'https://serpapi.com/search.json?device=desktop&engine=google&google_domain=google.com&q=Scotiabank+Q1+2024+dividend+price&start=30', '5': 'https://serpapi.com/search.json?device=desktop&engine=google&google_domain=google.com&q=Scotiabank+Q1+2024+dividend+price&start=40'}}}\n",
      "--------------\n",
      "Scotiabank declared a dividend of $1.06 per share for Q1 2024. You can read more about it [here](https://ca.finance.yahoo.com/news/bank-nova-scotias-dividend-analysis-110239949.html).\n"
     ]
    }
   ],
   "source": [
    "print(run_conversation().choices[0].message.content)"
   ]
  },
  {
   "cell_type": "code",
   "execution_count": 212,
   "id": "68153eb9",
   "metadata": {},
   "outputs": [],
   "source": [
    "system_message = \"\"\"You are Fine-tuned on following 3 tasks:\n",
    "1. Queue Task - You will be provided queries from 'Direct Investing' customer service department at RBC. Classify each query to the right queue category.\\nProvide your output in a bullet point format with only one: Queue Category\\nQueue Categories are:\\n--Queue 1: Account Management\\n--Queue 2: Fund Transfer\\n--Queue 3: External Transfers\\n--Queue 4: Trading and Withdrawals\"\n",
    "\n",
    "2. Transactional Task - You are given with the transactional data and your task is to process this tabular data containing both text and numerical values based on criteria then generate answers.\\n-The answers should be in bullets and sub-bullet points\\n-If the answer cannot be found in the Transactional data given below, write 'please contact RBC Direct Investing Team.'\\nTransactional Data :\\n| Account No | Request Date | Transactional Details | Transfer Date | Withdrawal Amount | Deposit Amount | Balance Amount | Expected Transfer Days | Status | Note | Last Note Date |\\n|------------|--------------|---------------------|---------------|----------------|-------------|-------------|-----------------------|--------|------|----------------|\\n| 123456 | 2024-01-05 | Transferred cash from TD Bank to RBC | 2024-02-14 | - | 75000 | 150000 | 10 | Opened | Contacted customer to confirm transaction | 2024-02-14 |\\n| 789012 | 2024-01-10 | Transferred funds from CIBC to RBC | 2024-01-25 | - | 100000 | 200000 | 15 | Opened | Resolved missing withdrawal transaction information | 2024-01-25 |\\n| 345678 | 2024-01-15 | Withdrew cash for investment | 2024-02-05 | 50000 | - | 150000 | - | Closed | - | - |\\n| 901234 | 2024-01-20 | Deposited funds from BMO into account | 2024-02-07 | - | 85000 | 185000 | 18 | Opened | Verified deposit with customer | 2024-02-07 |\\n| 567890 | 2024-01-25 | Transferred money from RBC to TD Bank | 2024-02-10 | - | 60000 | 160000 | 16 | Opened | Sent confirmation email to customer | 2024-02-10 |\\n| 234567 | 2024-02-03 | Withdrew funds for stock purchase | 2024-02-25 | 70000 | - | 160000 | - | Closed | - | - |\\n| 890123 | 2024-02-08 | Transferred cash from ScotiaBank to RBC | 2024-02-28 | - | 95000 | 195000 | 20 | Opened | Called customer on the same day | 2024-02-28 |\\n| 456789 | 2024-02-12 | Deposited funds from RBC into account | 2024-03-06 | - | 80000 | 180000 | 22 | Opened | Resolved deposit discrepancy | 2024-03-06 |\\n| 123456 | 2024-02-18 | Withdrew cash for investment | 2024-03-12 | 45000 | - | 135000 | - | Closed | -\n",
    "\n",
    "3. Customer Service QnA Task - You will be provided queries from customer service department. Your task is to answer the question using only the provided steps with reference at the end. If the document does not contain the information needed to answer this question then write: 'Insufficient information, please contact RBC Direct Investing customer service representative at 1-800-769-2560.\n",
    "\n",
    "--You are allowed to generate search_query text on Financial Industries such as Dividends, Earnings per share/EPS etc. and plug into functions.  Provide Answer with Reference link from function in the format: [Answer](URL)\"\n",
    "\"\"\"\n",
    "test_messages = []\n",
    "test_messages.append({\"role\": \"system\", \"content\": system_message})\n"
   ]
  },
  {
   "cell_type": "code",
   "execution_count": 213,
   "id": "8f3b65ba",
   "metadata": {},
   "outputs": [
    {
     "name": "stdout",
     "output_type": "stream",
     "text": [
      "[{'content': 'You are Fine-tuned on following 3 tasks:\\n'\n",
      "             \"1. Queue Task - You will be provided queries from 'Direct \"\n",
      "             \"Investing' customer service department at RBC. Classify each \"\n",
      "             'query to the right queue category.\\n'\n",
      "             'Provide your output in a bullet point format with only one: '\n",
      "             'Queue Category\\n'\n",
      "             'Queue Categories are:\\n'\n",
      "             '--Queue 1: Account Management\\n'\n",
      "             '--Queue 2: Fund Transfer\\n'\n",
      "             '--Queue 3: External Transfers\\n'\n",
      "             '--Queue 4: Trading and Withdrawals\"\\n'\n",
      "             '\\n'\n",
      "             '2. Transactional Task - You are given with the transactional '\n",
      "             'data and your task is to process this tabular data containing '\n",
      "             'both text and numerical values based on criteria then generate '\n",
      "             'answers.\\n'\n",
      "             '-The answers should be in bullets and sub-bullet points\\n'\n",
      "             '-If the answer cannot be found in the Transactional data given '\n",
      "             \"below, write 'please contact RBC Direct Investing Team.'\\n\"\n",
      "             'Transactional Data :\\n'\n",
      "             '| Account No | Request Date | Transactional Details | Transfer '\n",
      "             'Date | Withdrawal Amount | Deposit Amount | Balance Amount | '\n",
      "             'Expected Transfer Days | Status | Note | Last Note Date |\\n'\n",
      "             '|------------|--------------|---------------------|---------------|----------------|-------------|-------------|-----------------------|--------|------|----------------|\\n'\n",
      "             '| 123456 | 2024-01-05 | Transferred cash from TD Bank to RBC | '\n",
      "             '2024-02-14 | - | 75000 | 150000 | 10 | Opened | Contacted '\n",
      "             'customer to confirm transaction | 2024-02-14 |\\n'\n",
      "             '| 789012 | 2024-01-10 | Transferred funds from CIBC to RBC | '\n",
      "             '2024-01-25 | - | 100000 | 200000 | 15 | Opened | Resolved '\n",
      "             'missing withdrawal transaction information | 2024-01-25 |\\n'\n",
      "             '| 345678 | 2024-01-15 | Withdrew cash for investment | '\n",
      "             '2024-02-05 | 50000 | - | 150000 | - | Closed | - | - |\\n'\n",
      "             '| 901234 | 2024-01-20 | Deposited funds from BMO into account | '\n",
      "             '2024-02-07 | - | 85000 | 185000 | 18 | Opened | Verified deposit '\n",
      "             'with customer | 2024-02-07 |\\n'\n",
      "             '| 567890 | 2024-01-25 | Transferred money from RBC to TD Bank | '\n",
      "             '2024-02-10 | - | 60000 | 160000 | 16 | Opened | Sent '\n",
      "             'confirmation email to customer | 2024-02-10 |\\n'\n",
      "             '| 234567 | 2024-02-03 | Withdrew funds for stock purchase | '\n",
      "             '2024-02-25 | 70000 | - | 160000 | - | Closed | - | - |\\n'\n",
      "             '| 890123 | 2024-02-08 | Transferred cash from ScotiaBank to RBC '\n",
      "             '| 2024-02-28 | - | 95000 | 195000 | 20 | Opened | Called '\n",
      "             'customer on the same day | 2024-02-28 |\\n'\n",
      "             '| 456789 | 2024-02-12 | Deposited funds from RBC into account | '\n",
      "             '2024-03-06 | - | 80000 | 180000 | 22 | Opened | Resolved deposit '\n",
      "             'discrepancy | 2024-03-06 |\\n'\n",
      "             '| 123456 | 2024-02-18 | Withdrew cash for investment | '\n",
      "             '2024-03-12 | 45000 | - | 135000 | - | Closed | -\\n'\n",
      "             '\\n'\n",
      "             '3. Customer Service QnA Task - You will be provided queries from '\n",
      "             'customer service department. Your task is to answer the question '\n",
      "             'using only the provided steps with reference at the end. If the '\n",
      "             'document does not contain the information needed to answer this '\n",
      "             \"question then write: 'Insufficient information, please contact \"\n",
      "             'RBC Direct Investing customer service representative at '\n",
      "             '1-800-769-2560.\\n'\n",
      "             '\\n'\n",
      "             '--You are allowed to generate search_query text on Financial '\n",
      "             'Industries such as Dividends, Earnings per share/EPS etc. and '\n",
      "             'plug into functions.  Provide Answer with Reference link from '\n",
      "             'function in the format: [Answer](URL)\"\\n',\n",
      "  'role': 'system'},\n",
      " {'content': 'Which queue for this task- Can I transfer funds from my RBC '\n",
      "             'Direct Investing account to a non-Canadian bank account?',\n",
      "  'role': 'user'}]\n"
     ]
    }
   ],
   "source": [
    "user_message = \"Which queue for this task- Can I transfer funds from my RBC Direct Investing account to a non-Canadian bank account?\"\n",
    "test_messages.append({\"role\": \"user\", \"content\": user_message})\n",
    "\n",
    "pprint(test_messages)"
   ]
  },
  {
   "cell_type": "code",
   "execution_count": 214,
   "id": "21d8426f",
   "metadata": {},
   "outputs": [
    {
     "name": "stdout",
     "output_type": "stream",
     "text": [
      "Queue 3: External Transfers\n"
     ]
    }
   ],
   "source": [
    "response = client.chat.completions.create(\n",
    "    model=fine_tuned_model_id, messages=test_messages, temperature=0, max_tokens=200\n",
    ")\n",
    "print(response.choices[0].message.content)"
   ]
  },
  {
   "cell_type": "code",
   "execution_count": null,
   "id": "01eb9150",
   "metadata": {},
   "outputs": [],
   "source": []
  }
 ],
 "metadata": {
  "kernelspec": {
   "display_name": "Python 3 (ipykernel)",
   "language": "python",
   "name": "python3"
  },
  "language_info": {
   "codemirror_mode": {
    "name": "ipython",
    "version": 3
   },
   "file_extension": ".py",
   "mimetype": "text/x-python",
   "name": "python",
   "nbconvert_exporter": "python",
   "pygments_lexer": "ipython3",
   "version": "3.11.7"
  }
 },
 "nbformat": 4,
 "nbformat_minor": 5
}
